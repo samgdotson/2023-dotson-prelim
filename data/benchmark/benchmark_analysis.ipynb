{
 "cells": [
  {
   "cell_type": "code",
   "execution_count": 49,
   "metadata": {},
   "outputs": [],
   "source": [
    "import sqlite3\n",
    "import pandas as pd\n",
    "import numpy as np\n",
    "import matplotlib.pyplot as plt\n",
    "from matplotlib.ticker import (MultipleLocator, AutoMinorLocator)\n",
    "import pygenesys as pg\n",
    "from plotter import *\n",
    "import seaborn as sb\n",
    "plt.style.use('seaborn')\n",
    "plt.rcParams['figure.figsize'] = (12,12)"
   ]
  },
  {
   "cell_type": "code",
   "execution_count": 2,
   "metadata": {},
   "outputs": [],
   "source": [
    "def get_objective(conn):\n",
    "    \"\"\"\n",
    "    Retrieves the objective function\n",
    "    \"\"\"\n",
    "    cursor = conn.cursor()\n",
    "    command = \"SELECT * FROM Output_Objective\"\n",
    "    cursor.execute(command)\n",
    "    obj_value = cursor.fetchall()[0][-1]\n",
    "    \n",
    "    return obj_value"
   ]
  },
  {
   "cell_type": "code",
   "execution_count": 3,
   "metadata": {},
   "outputs": [],
   "source": [
    "sim_path = \"/home/sdotson/research/benchmark/data/IL_uniform_lifespan_365.sqlite\"\n",
    "conn = sqlite3.connect(sim_path)\n",
    "cursor = conn.cursor()"
   ]
  },
  {
   "cell_type": "code",
   "execution_count": 7,
   "metadata": {},
   "outputs": [
    {
     "data": {
      "text/plain": [
       "(('tech', None, None, None, None, None, None),\n",
       " ('capacity', None, None, None, None, None, None))"
      ]
     },
     "metadata": {},
     "output_type": "display_data"
    },
    {
     "data": {
      "text/plain": [
       "[('NATGAS_CONV', 8375.1331),\n",
       " ('NUCLEAR_CONV', 18609.404),\n",
       " ('TRANSMISSION', 29251.354),\n",
       " ('LI_BATTERY', 815.34126),\n",
       " ('SOLAR_FARM', 2810.3015)]"
      ]
     },
     "execution_count": 7,
     "metadata": {},
     "output_type": "execute_result"
    }
   ],
   "source": [
    "command = \"SELECT tech, capacity FROM Output_CapacityByPeriodAndTech WHERE scenario IS 'uniform_lifespan_MGA'\"\n",
    "data = cursor.execute(command)\n",
    "display(data.description)\n",
    "cursor.fetchall()"
   ]
  },
  {
   "cell_type": "code",
   "execution_count": 5,
   "metadata": {},
   "outputs": [],
   "source": [
    "def get_scenario_list(fname):\n",
    "    \"\"\"\n",
    "    Returns list of scenario names\n",
    "    \"\"\"\n",
    "    \n",
    "    conn = sqlite3.connect(fname)\n",
    "    cursor = conn.cursor()\n",
    "    command = \"SELECT scenario FROM Output_Objective\"\n",
    "    metadata = cursor.execute(command)\n",
    "    scenarios = [i[0] for i in cursor.fetchall()]\n",
    "        \n",
    "    return scenarios"
   ]
  },
  {
   "cell_type": "code",
   "execution_count": 6,
   "metadata": {},
   "outputs": [
    {
     "data": {
      "text/plain": [
       "['uniform_lifespan_MGA',\n",
       " 'uniform_lifespan_MGA_mga_0',\n",
       " 'uniform_lifespan_MGA_mga_1',\n",
       " 'uniform_lifespan_MGA_mga_2',\n",
       " 'uniform_lifespan_MGA_mga_3',\n",
       " 'uniform_lifespan_MGA_mga_4',\n",
       " 'uniform_lifespan_MGA_mga_5',\n",
       " 'uniform_lifespan_MGA_mga_6',\n",
       " 'uniform_lifespan_MGA_mga_7',\n",
       " 'uniform_lifespan_MGA_mga_8',\n",
       " 'uniform_lifespan_MGA_mga_9',\n",
       " 'uniform_lifespan_MGA_mga_10',\n",
       " 'uniform_lifespan_MGA_mga_11',\n",
       " 'uniform_lifespan_MGA_mga_12',\n",
       " 'uniform_lifespan_MGA_mga_13',\n",
       " 'uniform_lifespan_MGA_mga_14',\n",
       " 'uniform_lifespan_MGA_mga_15',\n",
       " 'uniform_lifespan_MGA_mga_16',\n",
       " 'uniform_lifespan_MGA_mga_17',\n",
       " 'uniform_lifespan_MGA_mga_18',\n",
       " 'uniform_lifespan_MGA_mga_19',\n",
       " 'uniform_lifespan_MGA_mga_20',\n",
       " 'uniform_lifespan_MGA_mga_21',\n",
       " 'uniform_lifespan_MGA_mga_22',\n",
       " 'uniform_lifespan_MGA_mga_23',\n",
       " 'uniform_lifespan_MGA_mga_24',\n",
       " 'uniform_lifespan_MGA_mga_25',\n",
       " 'uniform_lifespan_MGA_mga_26',\n",
       " 'uniform_lifespan_MGA_mga_27',\n",
       " 'uniform_lifespan_MGA_mga_28',\n",
       " 'uniform_lifespan_MGA_mga_29']"
      ]
     },
     "execution_count": 6,
     "metadata": {},
     "output_type": "execute_result"
    }
   ],
   "source": [
    "sc = get_scenario_list(sim_path)\n",
    "sc"
   ]
  },
  {
   "cell_type": "code",
   "execution_count": 8,
   "metadata": {},
   "outputs": [],
   "source": [
    "seasons = get_seasons(conn)\n",
    "periods = get_periods(conn)\n",
    "all_techs = get_regional_techs(conn, 'ELC', 'IL')\n",
    "N_hours = 24"
   ]
  },
  {
   "cell_type": "code",
   "execution_count": 9,
   "metadata": {},
   "outputs": [
    {
     "data": {
      "text/plain": [
       "array(['BIOMASS', 'COAL_ADV', 'COAL_CONV', 'LI_BATTERY', 'NATGAS_ADV',\n",
       "       'NATGAS_CONV', 'NUCLEAR_ADV', 'NUCLEAR_CONV', 'SOLAR_FARM',\n",
       "       'WIND_FARM'], dtype='<U12')"
      ]
     },
     "execution_count": 9,
     "metadata": {},
     "output_type": "execute_result"
    }
   ],
   "source": [
    "all_techs"
   ]
  },
  {
   "cell_type": "code",
   "execution_count": 98,
   "metadata": {},
   "outputs": [],
   "source": [
    "all_techs = ['NUCLEAR_CONV', 'NUCLEAR_ADV', 'NATGAS_CONV', 'NATGAS_ADV', 'COAL_CONV', 'COAL_ADV', 'BIOMASS', 'LI_BATTERY', 'SOLAR_FARM','WIND_FARM']"
   ]
  },
  {
   "cell_type": "code",
   "execution_count": 99,
   "metadata": {},
   "outputs": [],
   "source": [
    "results = dict(zip(list(all_techs)+['TRANSMISSION','Scenario'], np.zeros((12,31))))"
   ]
  },
  {
   "cell_type": "code",
   "execution_count": 100,
   "metadata": {},
   "outputs": [
    {
     "data": {
      "text/plain": [
       "{'NUCLEAR_CONV': array([0., 0., 0., 0., 0., 0., 0., 0., 0., 0., 0., 0., 0., 0., 0., 0., 0.,\n",
       "        0., 0., 0., 0., 0., 0., 0., 0., 0., 0., 0., 0., 0., 0.]),\n",
       " 'NUCLEAR_ADV': array([0., 0., 0., 0., 0., 0., 0., 0., 0., 0., 0., 0., 0., 0., 0., 0., 0.,\n",
       "        0., 0., 0., 0., 0., 0., 0., 0., 0., 0., 0., 0., 0., 0.]),\n",
       " 'NATGAS_CONV': array([0., 0., 0., 0., 0., 0., 0., 0., 0., 0., 0., 0., 0., 0., 0., 0., 0.,\n",
       "        0., 0., 0., 0., 0., 0., 0., 0., 0., 0., 0., 0., 0., 0.]),\n",
       " 'NATGAS_ADV': array([0., 0., 0., 0., 0., 0., 0., 0., 0., 0., 0., 0., 0., 0., 0., 0., 0.,\n",
       "        0., 0., 0., 0., 0., 0., 0., 0., 0., 0., 0., 0., 0., 0.]),\n",
       " 'COAL_CONV': array([0., 0., 0., 0., 0., 0., 0., 0., 0., 0., 0., 0., 0., 0., 0., 0., 0.,\n",
       "        0., 0., 0., 0., 0., 0., 0., 0., 0., 0., 0., 0., 0., 0.]),\n",
       " 'COAL_ADV': array([0., 0., 0., 0., 0., 0., 0., 0., 0., 0., 0., 0., 0., 0., 0., 0., 0.,\n",
       "        0., 0., 0., 0., 0., 0., 0., 0., 0., 0., 0., 0., 0., 0.]),\n",
       " 'BIOMASS': array([0., 0., 0., 0., 0., 0., 0., 0., 0., 0., 0., 0., 0., 0., 0., 0., 0.,\n",
       "        0., 0., 0., 0., 0., 0., 0., 0., 0., 0., 0., 0., 0., 0.]),\n",
       " 'LI_BATTERY': array([0., 0., 0., 0., 0., 0., 0., 0., 0., 0., 0., 0., 0., 0., 0., 0., 0.,\n",
       "        0., 0., 0., 0., 0., 0., 0., 0., 0., 0., 0., 0., 0., 0.]),\n",
       " 'SOLAR_FARM': array([0., 0., 0., 0., 0., 0., 0., 0., 0., 0., 0., 0., 0., 0., 0., 0., 0.,\n",
       "        0., 0., 0., 0., 0., 0., 0., 0., 0., 0., 0., 0., 0., 0.]),\n",
       " 'WIND_FARM': array([0., 0., 0., 0., 0., 0., 0., 0., 0., 0., 0., 0., 0., 0., 0., 0., 0.,\n",
       "        0., 0., 0., 0., 0., 0., 0., 0., 0., 0., 0., 0., 0., 0.]),\n",
       " 'TRANSMISSION': array([0., 0., 0., 0., 0., 0., 0., 0., 0., 0., 0., 0., 0., 0., 0., 0., 0.,\n",
       "        0., 0., 0., 0., 0., 0., 0., 0., 0., 0., 0., 0., 0., 0.]),\n",
       " 'Scenario': array([0., 0., 0., 0., 0., 0., 0., 0., 0., 0., 0., 0., 0., 0., 0., 0., 0.,\n",
       "        0., 0., 0., 0., 0., 0., 0., 0., 0., 0., 0., 0., 0., 0.])}"
      ]
     },
     "execution_count": 100,
     "metadata": {},
     "output_type": "execute_result"
    }
   ],
   "source": [
    "results"
   ]
  },
  {
   "cell_type": "code",
   "execution_count": 101,
   "metadata": {},
   "outputs": [],
   "source": [
    "results['Scenario'] = list(results['Scenario'])"
   ]
  },
  {
   "cell_type": "code",
   "execution_count": 102,
   "metadata": {},
   "outputs": [],
   "source": [
    "for i,s in enumerate(sc):\n",
    "    command = f\"SELECT tech, capacity, scenario FROM Output_CapacityByPeriodAndTech WHERE scenario IS '{s}'\"\n",
    "    data = cursor.execute(command)\n",
    "#     display(data.description)\n",
    "    data = cursor.fetchall()\n",
    "    for row in data:\n",
    "        results[row[0]][i] = row[1]\n",
    "        results['Scenario'][i] = s"
   ]
  },
  {
   "cell_type": "code",
   "execution_count": 103,
   "metadata": {},
   "outputs": [],
   "source": [
    "df = pd.DataFrame(results)\n",
    "df.set_index('Scenario',inplace=True)"
   ]
  },
  {
   "cell_type": "code",
   "execution_count": 104,
   "metadata": {},
   "outputs": [
    {
     "data": {
      "text/html": [
       "<div>\n",
       "<style scoped>\n",
       "    .dataframe tbody tr th:only-of-type {\n",
       "        vertical-align: middle;\n",
       "    }\n",
       "\n",
       "    .dataframe tbody tr th {\n",
       "        vertical-align: top;\n",
       "    }\n",
       "\n",
       "    .dataframe thead th {\n",
       "        text-align: right;\n",
       "    }\n",
       "</style>\n",
       "<table border=\"1\" class=\"dataframe\">\n",
       "  <thead>\n",
       "    <tr style=\"text-align: right;\">\n",
       "      <th></th>\n",
       "      <th>NUCLEAR_CONV</th>\n",
       "      <th>NUCLEAR_ADV</th>\n",
       "      <th>NATGAS_CONV</th>\n",
       "      <th>NATGAS_ADV</th>\n",
       "      <th>COAL_CONV</th>\n",
       "      <th>COAL_ADV</th>\n",
       "      <th>BIOMASS</th>\n",
       "      <th>LI_BATTERY</th>\n",
       "      <th>SOLAR_FARM</th>\n",
       "      <th>WIND_FARM</th>\n",
       "      <th>TRANSMISSION</th>\n",
       "    </tr>\n",
       "    <tr>\n",
       "      <th>Scenario</th>\n",
       "      <th></th>\n",
       "      <th></th>\n",
       "      <th></th>\n",
       "      <th></th>\n",
       "      <th></th>\n",
       "      <th></th>\n",
       "      <th></th>\n",
       "      <th></th>\n",
       "      <th></th>\n",
       "      <th></th>\n",
       "      <th></th>\n",
       "    </tr>\n",
       "  </thead>\n",
       "  <tbody>\n",
       "    <tr>\n",
       "      <th>uniform_lifespan_MGA</th>\n",
       "      <td>18609.404</td>\n",
       "      <td>0.0</td>\n",
       "      <td>8375.1331</td>\n",
       "      <td>0.0000</td>\n",
       "      <td>0.0000</td>\n",
       "      <td>0.0</td>\n",
       "      <td>0.0</td>\n",
       "      <td>815.34126</td>\n",
       "      <td>2810.3015</td>\n",
       "      <td>0.0000</td>\n",
       "      <td>29251.354</td>\n",
       "    </tr>\n",
       "    <tr>\n",
       "      <th>uniform_lifespan_MGA_mga_0</th>\n",
       "      <td>10496.362</td>\n",
       "      <td>0.0</td>\n",
       "      <td>5858.3445</td>\n",
       "      <td>0.0000</td>\n",
       "      <td>10588.5020</td>\n",
       "      <td>0.0</td>\n",
       "      <td>0.0</td>\n",
       "      <td>535.69332</td>\n",
       "      <td>3466.3107</td>\n",
       "      <td>0.0000</td>\n",
       "      <td>29251.354</td>\n",
       "    </tr>\n",
       "    <tr>\n",
       "      <th>uniform_lifespan_MGA_mga_1</th>\n",
       "      <td>10496.362</td>\n",
       "      <td>0.0</td>\n",
       "      <td>5858.3445</td>\n",
       "      <td>0.0000</td>\n",
       "      <td>10588.5020</td>\n",
       "      <td>0.0</td>\n",
       "      <td>0.0</td>\n",
       "      <td>535.69332</td>\n",
       "      <td>3466.3107</td>\n",
       "      <td>0.0000</td>\n",
       "      <td>29251.354</td>\n",
       "    </tr>\n",
       "    <tr>\n",
       "      <th>uniform_lifespan_MGA_mga_2</th>\n",
       "      <td>14995.633</td>\n",
       "      <td>0.0</td>\n",
       "      <td>6417.6017</td>\n",
       "      <td>3137.6616</td>\n",
       "      <td>2392.3113</td>\n",
       "      <td>0.0</td>\n",
       "      <td>0.0</td>\n",
       "      <td>535.69332</td>\n",
       "      <td>3466.3107</td>\n",
       "      <td>0.0000</td>\n",
       "      <td>29251.354</td>\n",
       "    </tr>\n",
       "    <tr>\n",
       "      <th>uniform_lifespan_MGA_mga_3</th>\n",
       "      <td>14212.175</td>\n",
       "      <td>0.0</td>\n",
       "      <td>7891.5275</td>\n",
       "      <td>0.0000</td>\n",
       "      <td>3640.5689</td>\n",
       "      <td>0.0</td>\n",
       "      <td>0.0</td>\n",
       "      <td>1353.49110</td>\n",
       "      <td>2612.5889</td>\n",
       "      <td>7029.9092</td>\n",
       "      <td>29251.354</td>\n",
       "    </tr>\n",
       "  </tbody>\n",
       "</table>\n",
       "</div>"
      ],
      "text/plain": [
       "                            NUCLEAR_CONV  NUCLEAR_ADV  NATGAS_CONV  \\\n",
       "Scenario                                                             \n",
       "uniform_lifespan_MGA           18609.404          0.0    8375.1331   \n",
       "uniform_lifespan_MGA_mga_0     10496.362          0.0    5858.3445   \n",
       "uniform_lifespan_MGA_mga_1     10496.362          0.0    5858.3445   \n",
       "uniform_lifespan_MGA_mga_2     14995.633          0.0    6417.6017   \n",
       "uniform_lifespan_MGA_mga_3     14212.175          0.0    7891.5275   \n",
       "\n",
       "                            NATGAS_ADV   COAL_CONV  COAL_ADV  BIOMASS  \\\n",
       "Scenario                                                                \n",
       "uniform_lifespan_MGA            0.0000      0.0000       0.0      0.0   \n",
       "uniform_lifespan_MGA_mga_0      0.0000  10588.5020       0.0      0.0   \n",
       "uniform_lifespan_MGA_mga_1      0.0000  10588.5020       0.0      0.0   \n",
       "uniform_lifespan_MGA_mga_2   3137.6616   2392.3113       0.0      0.0   \n",
       "uniform_lifespan_MGA_mga_3      0.0000   3640.5689       0.0      0.0   \n",
       "\n",
       "                            LI_BATTERY  SOLAR_FARM  WIND_FARM  TRANSMISSION  \n",
       "Scenario                                                                     \n",
       "uniform_lifespan_MGA         815.34126   2810.3015     0.0000     29251.354  \n",
       "uniform_lifespan_MGA_mga_0   535.69332   3466.3107     0.0000     29251.354  \n",
       "uniform_lifespan_MGA_mga_1   535.69332   3466.3107     0.0000     29251.354  \n",
       "uniform_lifespan_MGA_mga_2   535.69332   3466.3107     0.0000     29251.354  \n",
       "uniform_lifespan_MGA_mga_3  1353.49110   2612.5889  7029.9092     29251.354  "
      ]
     },
     "execution_count": 104,
     "metadata": {},
     "output_type": "execute_result"
    }
   ],
   "source": [
    "df.head()"
   ]
  },
  {
   "cell_type": "code",
   "execution_count": 105,
   "metadata": {},
   "outputs": [
    {
     "data": {
      "text/html": [
       "<div>\n",
       "<style scoped>\n",
       "    .dataframe tbody tr th:only-of-type {\n",
       "        vertical-align: middle;\n",
       "    }\n",
       "\n",
       "    .dataframe tbody tr th {\n",
       "        vertical-align: top;\n",
       "    }\n",
       "\n",
       "    .dataframe thead th {\n",
       "        text-align: right;\n",
       "    }\n",
       "</style>\n",
       "<table border=\"1\" class=\"dataframe\">\n",
       "  <thead>\n",
       "    <tr style=\"text-align: right;\">\n",
       "      <th></th>\n",
       "      <th>NUCLEAR_CONV</th>\n",
       "      <th>NUCLEAR_ADV</th>\n",
       "      <th>NATGAS_CONV</th>\n",
       "      <th>NATGAS_ADV</th>\n",
       "      <th>COAL_CONV</th>\n",
       "      <th>COAL_ADV</th>\n",
       "      <th>BIOMASS</th>\n",
       "      <th>LI_BATTERY</th>\n",
       "      <th>SOLAR_FARM</th>\n",
       "      <th>WIND_FARM</th>\n",
       "    </tr>\n",
       "    <tr>\n",
       "      <th>Scenario</th>\n",
       "      <th></th>\n",
       "      <th></th>\n",
       "      <th></th>\n",
       "      <th></th>\n",
       "      <th></th>\n",
       "      <th></th>\n",
       "      <th></th>\n",
       "      <th></th>\n",
       "      <th></th>\n",
       "      <th></th>\n",
       "    </tr>\n",
       "  </thead>\n",
       "  <tbody>\n",
       "    <tr>\n",
       "      <th>uniform_lifespan_MGA</th>\n",
       "      <td>18609.404</td>\n",
       "      <td>0.0</td>\n",
       "      <td>8375.1331</td>\n",
       "      <td>0.0000</td>\n",
       "      <td>0.0000</td>\n",
       "      <td>0.0</td>\n",
       "      <td>0.0</td>\n",
       "      <td>815.34126</td>\n",
       "      <td>2810.3015</td>\n",
       "      <td>0.0000</td>\n",
       "    </tr>\n",
       "    <tr>\n",
       "      <th>uniform_lifespan_MGA_mga_0</th>\n",
       "      <td>10496.362</td>\n",
       "      <td>0.0</td>\n",
       "      <td>5858.3445</td>\n",
       "      <td>0.0000</td>\n",
       "      <td>10588.5020</td>\n",
       "      <td>0.0</td>\n",
       "      <td>0.0</td>\n",
       "      <td>535.69332</td>\n",
       "      <td>3466.3107</td>\n",
       "      <td>0.0000</td>\n",
       "    </tr>\n",
       "    <tr>\n",
       "      <th>uniform_lifespan_MGA_mga_1</th>\n",
       "      <td>10496.362</td>\n",
       "      <td>0.0</td>\n",
       "      <td>5858.3445</td>\n",
       "      <td>0.0000</td>\n",
       "      <td>10588.5020</td>\n",
       "      <td>0.0</td>\n",
       "      <td>0.0</td>\n",
       "      <td>535.69332</td>\n",
       "      <td>3466.3107</td>\n",
       "      <td>0.0000</td>\n",
       "    </tr>\n",
       "    <tr>\n",
       "      <th>uniform_lifespan_MGA_mga_2</th>\n",
       "      <td>14995.633</td>\n",
       "      <td>0.0</td>\n",
       "      <td>6417.6017</td>\n",
       "      <td>3137.6616</td>\n",
       "      <td>2392.3113</td>\n",
       "      <td>0.0</td>\n",
       "      <td>0.0</td>\n",
       "      <td>535.69332</td>\n",
       "      <td>3466.3107</td>\n",
       "      <td>0.0000</td>\n",
       "    </tr>\n",
       "    <tr>\n",
       "      <th>uniform_lifespan_MGA_mga_3</th>\n",
       "      <td>14212.175</td>\n",
       "      <td>0.0</td>\n",
       "      <td>7891.5275</td>\n",
       "      <td>0.0000</td>\n",
       "      <td>3640.5689</td>\n",
       "      <td>0.0</td>\n",
       "      <td>0.0</td>\n",
       "      <td>1353.49110</td>\n",
       "      <td>2612.5889</td>\n",
       "      <td>7029.9092</td>\n",
       "    </tr>\n",
       "  </tbody>\n",
       "</table>\n",
       "</div>"
      ],
      "text/plain": [
       "                            NUCLEAR_CONV  NUCLEAR_ADV  NATGAS_CONV  \\\n",
       "Scenario                                                             \n",
       "uniform_lifespan_MGA           18609.404          0.0    8375.1331   \n",
       "uniform_lifespan_MGA_mga_0     10496.362          0.0    5858.3445   \n",
       "uniform_lifespan_MGA_mga_1     10496.362          0.0    5858.3445   \n",
       "uniform_lifespan_MGA_mga_2     14995.633          0.0    6417.6017   \n",
       "uniform_lifespan_MGA_mga_3     14212.175          0.0    7891.5275   \n",
       "\n",
       "                            NATGAS_ADV   COAL_CONV  COAL_ADV  BIOMASS  \\\n",
       "Scenario                                                                \n",
       "uniform_lifespan_MGA            0.0000      0.0000       0.0      0.0   \n",
       "uniform_lifespan_MGA_mga_0      0.0000  10588.5020       0.0      0.0   \n",
       "uniform_lifespan_MGA_mga_1      0.0000  10588.5020       0.0      0.0   \n",
       "uniform_lifespan_MGA_mga_2   3137.6616   2392.3113       0.0      0.0   \n",
       "uniform_lifespan_MGA_mga_3      0.0000   3640.5689       0.0      0.0   \n",
       "\n",
       "                            LI_BATTERY  SOLAR_FARM  WIND_FARM  \n",
       "Scenario                                                       \n",
       "uniform_lifespan_MGA         815.34126   2810.3015     0.0000  \n",
       "uniform_lifespan_MGA_mga_0   535.69332   3466.3107     0.0000  \n",
       "uniform_lifespan_MGA_mga_1   535.69332   3466.3107     0.0000  \n",
       "uniform_lifespan_MGA_mga_2   535.69332   3466.3107     0.0000  \n",
       "uniform_lifespan_MGA_mga_3  1353.49110   2612.5889  7029.9092  "
      ]
     },
     "execution_count": 105,
     "metadata": {},
     "output_type": "execute_result"
    }
   ],
   "source": [
    "df.iloc[:,:-1].head()"
   ]
  },
  {
   "cell_type": "code",
   "execution_count": 124,
   "metadata": {},
   "outputs": [],
   "source": [
    "with open(\"../2023-dotson-prelim/data/2022-11-18-temoa-mga-design.pkl\", \"wb\") as file:\n",
    "    dill.dump(df.iloc[:,:-1].values/1e3, file)"
   ]
  },
  {
   "cell_type": "code",
   "execution_count": 122,
   "metadata": {},
   "outputs": [
    {
     "data": {
      "image/png": "[encoded data removed]",
      "text/plain": [
       "<Figure size 648x432 with 1 Axes>"
      ]
     },
     "metadata": {},
     "output_type": "display_data"
    }
   ],
   "source": [
    "fig, ax = plt.subplots(figsize=(9,6), facecolor='w')\n",
    "sb.boxenplot(ax=ax, data=df.iloc[:,:-1]/1000/peak_demand)\n",
    "ax.tick_params(axis='x',rotation=90)"
   ]
  },
  {
   "cell_type": "code",
   "execution_count": 123,
   "metadata": {},
   "outputs": [
    {
     "data": {
      "text/plain": [
       "<seaborn.axisgrid.PairGrid at 0x7f6e9fd13dc0>"
      ]
     },
     "execution_count": 123,
     "metadata": {},
     "output_type": "execute_result"
    },
    {
     "data": {
      "image/png": "[encoded data removed]",
      "text/plain": [
       "<Figure size 1800x1800 with 110 Axes>"
      ]
     },
     "metadata": {},
     "output_type": "display_data"
    }
   ],
   "source": [
    "sb.pairplot(data=df.iloc[:,:-1])"
   ]
  },
  {
   "cell_type": "code",
   "execution_count": 158,
   "metadata": {
    "scrolled": true
   },
   "outputs": [
    {
     "data": {
      "text/plain": [
       "'0/365'"
      ]
     },
     "metadata": {},
     "output_type": "display_data"
    },
    {
     "data": {
      "text/plain": [
       "'1/365'"
      ]
     },
     "metadata": {},
     "output_type": "display_data"
    },
    {
     "data": {
      "text/plain": [
       "'2/365'"
      ]
     },
     "metadata": {},
     "output_type": "display_data"
    },
    {
     "data": {
      "text/plain": [
       "'3/365'"
      ]
     },
     "metadata": {},
     "output_type": "display_data"
    },
    {
     "data": {
      "text/plain": [
       "'4/365'"
      ]
     },
     "metadata": {},
     "output_type": "display_data"
    },
    {
     "data": {
      "text/plain": [
       "'5/365'"
      ]
     },
     "metadata": {},
     "output_type": "display_data"
    },
    {
     "data": {
      "text/plain": [
       "'6/365'"
      ]
     },
     "metadata": {},
     "output_type": "display_data"
    },
    {
     "data": {
      "text/plain": [
       "'7/365'"
      ]
     },
     "metadata": {},
     "output_type": "display_data"
    },
    {
     "data": {
      "text/plain": [
       "'8/365'"
      ]
     },
     "metadata": {},
     "output_type": "display_data"
    },
    {
     "data": {
      "text/plain": [
       "'9/365'"
      ]
     },
     "metadata": {},
     "output_type": "display_data"
    },
    {
     "data": {
      "text/plain": [
       "'10/365'"
      ]
     },
     "metadata": {},
     "output_type": "display_data"
    },
    {
     "data": {
      "text/plain": [
       "'11/365'"
      ]
     },
     "metadata": {},
     "output_type": "display_data"
    },
    {
     "data": {
      "text/plain": [
       "'12/365'"
      ]
     },
     "metadata": {},
     "output_type": "display_data"
    },
    {
     "data": {
      "text/plain": [
       "'13/365'"
      ]
     },
     "metadata": {},
     "output_type": "display_data"
    },
    {
     "data": {
      "text/plain": [
       "'14/365'"
      ]
     },
     "metadata": {},
     "output_type": "display_data"
    },
    {
     "data": {
      "text/plain": [
       "'15/365'"
      ]
     },
     "metadata": {},
     "output_type": "display_data"
    },
    {
     "data": {
      "text/plain": [
       "'16/365'"
      ]
     },
     "metadata": {},
     "output_type": "display_data"
    },
    {
     "data": {
      "text/plain": [
       "'17/365'"
      ]
     },
     "metadata": {},
     "output_type": "display_data"
    },
    {
     "data": {
      "text/plain": [
       "'18/365'"
      ]
     },
     "metadata": {},
     "output_type": "display_data"
    },
    {
     "data": {
      "text/plain": [
       "'19/365'"
      ]
     },
     "metadata": {},
     "output_type": "display_data"
    },
    {
     "data": {
      "text/plain": [
       "'20/365'"
      ]
     },
     "metadata": {},
     "output_type": "display_data"
    },
    {
     "data": {
      "text/plain": [
       "'21/365'"
      ]
     },
     "metadata": {},
     "output_type": "display_data"
    },
    {
     "data": {
      "text/plain": [
       "'22/365'"
      ]
     },
     "metadata": {},
     "output_type": "display_data"
    },
    {
     "data": {
      "text/plain": [
       "'23/365'"
      ]
     },
     "metadata": {},
     "output_type": "display_data"
    },
    {
     "data": {
      "text/plain": [
       "'24/365'"
      ]
     },
     "metadata": {},
     "output_type": "display_data"
    },
    {
     "data": {
      "text/plain": [
       "'25/365'"
      ]
     },
     "metadata": {},
     "output_type": "display_data"
    },
    {
     "data": {
      "text/plain": [
       "'26/365'"
      ]
     },
     "metadata": {},
     "output_type": "display_data"
    },
    {
     "data": {
      "text/plain": [
       "'27/365'"
      ]
     },
     "metadata": {},
     "output_type": "display_data"
    },
    {
     "data": {
      "text/plain": [
       "'28/365'"
      ]
     },
     "metadata": {},
     "output_type": "display_data"
    },
    {
     "data": {
      "text/plain": [
       "'29/365'"
      ]
     },
     "metadata": {},
     "output_type": "display_data"
    },
    {
     "data": {
      "text/plain": [
       "'30/365'"
      ]
     },
     "metadata": {},
     "output_type": "display_data"
    },
    {
     "data": {
      "text/plain": [
       "'31/365'"
      ]
     },
     "metadata": {},
     "output_type": "display_data"
    },
    {
     "data": {
      "text/plain": [
       "'32/365'"
      ]
     },
     "metadata": {},
     "output_type": "display_data"
    },
    {
     "data": {
      "text/plain": [
       "'33/365'"
      ]
     },
     "metadata": {},
     "output_type": "display_data"
    },
    {
     "data": {
      "text/plain": [
       "'34/365'"
      ]
     },
     "metadata": {},
     "output_type": "display_data"
    },
    {
     "data": {
      "text/plain": [
       "'35/365'"
      ]
     },
     "metadata": {},
     "output_type": "display_data"
    },
    {
     "data": {
      "text/plain": [
       "'36/365'"
      ]
     },
     "metadata": {},
     "output_type": "display_data"
    },
    {
     "data": {
      "text/plain": [
       "'37/365'"
      ]
     },
     "metadata": {},
     "output_type": "display_data"
    },
    {
     "data": {
      "text/plain": [
       "'38/365'"
      ]
     },
     "metadata": {},
     "output_type": "display_data"
    },
    {
     "data": {
      "text/plain": [
       "'39/365'"
      ]
     },
     "metadata": {},
     "output_type": "display_data"
    },
    {
     "data": {
      "text/plain": [
       "'40/365'"
      ]
     },
     "metadata": {},
     "output_type": "display_data"
    },
    {
     "data": {
      "text/plain": [
       "'41/365'"
      ]
     },
     "metadata": {},
     "output_type": "display_data"
    },
    {
     "data": {
      "text/plain": [
       "'42/365'"
      ]
     },
     "metadata": {},
     "output_type": "display_data"
    },
    {
     "data": {
      "text/plain": [
       "'43/365'"
      ]
     },
     "metadata": {},
     "output_type": "display_data"
    },
    {
     "data": {
      "text/plain": [
       "'44/365'"
      ]
     },
     "metadata": {},
     "output_type": "display_data"
    },
    {
     "data": {
      "text/plain": [
       "'45/365'"
      ]
     },
     "metadata": {},
     "output_type": "display_data"
    },
    {
     "data": {
      "text/plain": [
       "'46/365'"
      ]
     },
     "metadata": {},
     "output_type": "display_data"
    },
    {
     "data": {
      "text/plain": [
       "'47/365'"
      ]
     },
     "metadata": {},
     "output_type": "display_data"
    },
    {
     "data": {
      "text/plain": [
       "'48/365'"
      ]
     },
     "metadata": {},
     "output_type": "display_data"
    },
    {
     "data": {
      "text/plain": [
       "'49/365'"
      ]
     },
     "metadata": {},
     "output_type": "display_data"
    },
    {
     "data": {
      "text/plain": [
       "'50/365'"
      ]
     },
     "metadata": {},
     "output_type": "display_data"
    },
    {
     "data": {
      "text/plain": [
       "'51/365'"
      ]
     },
     "metadata": {},
     "output_type": "display_data"
    },
    {
     "data": {
      "text/plain": [
       "'52/365'"
      ]
     },
     "metadata": {},
     "output_type": "display_data"
    },
    {
     "data": {
      "text/plain": [
       "'53/365'"
      ]
     },
     "metadata": {},
     "output_type": "display_data"
    },
    {
     "data": {
      "text/plain": [
       "'54/365'"
      ]
     },
     "metadata": {},
     "output_type": "display_data"
    },
    {
     "data": {
      "text/plain": [
       "'55/365'"
      ]
     },
     "metadata": {},
     "output_type": "display_data"
    },
    {
     "data": {
      "text/plain": [
       "'56/365'"
      ]
     },
     "metadata": {},
     "output_type": "display_data"
    },
    {
     "data": {
      "text/plain": [
       "'57/365'"
      ]
     },
     "metadata": {},
     "output_type": "display_data"
    },
    {
     "data": {
      "text/plain": [
       "'58/365'"
      ]
     },
     "metadata": {},
     "output_type": "display_data"
    },
    {
     "data": {
      "text/plain": [
       "'59/365'"
      ]
     },
     "metadata": {},
     "output_type": "display_data"
    },
    {
     "data": {
      "text/plain": [
       "'60/365'"
      ]
     },
     "metadata": {},
     "output_type": "display_data"
    },
    {
     "data": {
      "text/plain": [
       "'61/365'"
      ]
     },
     "metadata": {},
     "output_type": "display_data"
    },
    {
     "data": {
      "text/plain": [
       "'62/365'"
      ]
     },
     "metadata": {},
     "output_type": "display_data"
    },
    {
     "data": {
      "text/plain": [
       "'63/365'"
      ]
     },
     "metadata": {},
     "output_type": "display_data"
    },
    {
     "data": {
      "text/plain": [
       "'64/365'"
      ]
     },
     "metadata": {},
     "output_type": "display_data"
    },
    {
     "data": {
      "text/plain": [
       "'65/365'"
      ]
     },
     "metadata": {},
     "output_type": "display_data"
    },
    {
     "data": {
      "text/plain": [
       "'66/365'"
      ]
     },
     "metadata": {},
     "output_type": "display_data"
    },
    {
     "data": {
      "text/plain": [
       "'67/365'"
      ]
     },
     "metadata": {},
     "output_type": "display_data"
    },
    {
     "data": {
      "text/plain": [
       "'68/365'"
      ]
     },
     "metadata": {},
     "output_type": "display_data"
    },
    {
     "data": {
      "text/plain": [
       "'69/365'"
      ]
     },
     "metadata": {},
     "output_type": "display_data"
    },
    {
     "data": {
      "text/plain": [
       "'70/365'"
      ]
     },
     "metadata": {},
     "output_type": "display_data"
    },
    {
     "data": {
      "text/plain": [
       "'71/365'"
      ]
     },
     "metadata": {},
     "output_type": "display_data"
    },
    {
     "data": {
      "text/plain": [
       "'72/365'"
      ]
     },
     "metadata": {},
     "output_type": "display_data"
    },
    {
     "data": {
      "text/plain": [
       "'73/365'"
      ]
     },
     "metadata": {},
     "output_type": "display_data"
    },
    {
     "data": {
      "text/plain": [
       "'74/365'"
      ]
     },
     "metadata": {},
     "output_type": "display_data"
    },
    {
     "data": {
      "text/plain": [
       "'75/365'"
      ]
     },
     "metadata": {},
     "output_type": "display_data"
    },
    {
     "data": {
      "text/plain": [
       "'76/365'"
      ]
     },
     "metadata": {},
     "output_type": "display_data"
    },
    {
     "data": {
      "text/plain": [
       "'77/365'"
      ]
     },
     "metadata": {},
     "output_type": "display_data"
    },
    {
     "data": {
      "text/plain": [
       "'78/365'"
      ]
     },
     "metadata": {},
     "output_type": "display_data"
    },
    {
     "data": {
      "text/plain": [
       "'79/365'"
      ]
     },
     "metadata": {},
     "output_type": "display_data"
    },
    {
     "data": {
      "text/plain": [
       "'80/365'"
      ]
     },
     "metadata": {},
     "output_type": "display_data"
    },
    {
     "data": {
      "text/plain": [
       "'81/365'"
      ]
     },
     "metadata": {},
     "output_type": "display_data"
    },
    {
     "data": {
      "text/plain": [
       "'82/365'"
      ]
     },
     "metadata": {},
     "output_type": "display_data"
    },
    {
     "data": {
      "text/plain": [
       "'83/365'"
      ]
     },
     "metadata": {},
     "output_type": "display_data"
    },
    {
     "data": {
      "text/plain": [
       "'84/365'"
      ]
     },
     "metadata": {},
     "output_type": "display_data"
    },
    {
     "data": {
      "text/plain": [
       "'85/365'"
      ]
     },
     "metadata": {},
     "output_type": "display_data"
    },
    {
     "data": {
      "text/plain": [
       "'86/365'"
      ]
     },
     "metadata": {},
     "output_type": "display_data"
    },
    {
     "data": {
      "text/plain": [
       "'87/365'"
      ]
     },
     "metadata": {},
     "output_type": "display_data"
    },
    {
     "data": {
      "text/plain": [
       "'88/365'"
      ]
     },
     "metadata": {},
     "output_type": "display_data"
    },
    {
     "data": {
      "text/plain": [
       "'89/365'"
      ]
     },
     "metadata": {},
     "output_type": "display_data"
    },
    {
     "data": {
      "text/plain": [
       "'90/365'"
      ]
     },
     "metadata": {},
     "output_type": "display_data"
    },
    {
     "data": {
      "text/plain": [
       "'91/365'"
      ]
     },
     "metadata": {},
     "output_type": "display_data"
    },
    {
     "data": {
      "text/plain": [
       "'92/365'"
      ]
     },
     "metadata": {},
     "output_type": "display_data"
    },
    {
     "data": {
      "text/plain": [
       "'93/365'"
      ]
     },
     "metadata": {},
     "output_type": "display_data"
    },
    {
     "data": {
      "text/plain": [
       "'94/365'"
      ]
     },
     "metadata": {},
     "output_type": "display_data"
    },
    {
     "data": {
      "text/plain": [
       "'95/365'"
      ]
     },
     "metadata": {},
     "output_type": "display_data"
    },
    {
     "data": {
      "text/plain": [
       "'96/365'"
      ]
     },
     "metadata": {},
     "output_type": "display_data"
    },
    {
     "data": {
      "text/plain": [
       "'97/365'"
      ]
     },
     "metadata": {},
     "output_type": "display_data"
    },
    {
     "data": {
      "text/plain": [
       "'98/365'"
      ]
     },
     "metadata": {},
     "output_type": "display_data"
    },
    {
     "data": {
      "text/plain": [
       "'99/365'"
      ]
     },
     "metadata": {},
     "output_type": "display_data"
    },
    {
     "data": {
      "text/plain": [
       "'100/365'"
      ]
     },
     "metadata": {},
     "output_type": "display_data"
    },
    {
     "data": {
      "text/plain": [
       "'101/365'"
      ]
     },
     "metadata": {},
     "output_type": "display_data"
    },
    {
     "data": {
      "text/plain": [
       "'102/365'"
      ]
     },
     "metadata": {},
     "output_type": "display_data"
    },
    {
     "data": {
      "text/plain": [
       "'103/365'"
      ]
     },
     "metadata": {},
     "output_type": "display_data"
    },
    {
     "data": {
      "text/plain": [
       "'104/365'"
      ]
     },
     "metadata": {},
     "output_type": "display_data"
    },
    {
     "data": {
      "text/plain": [
       "'105/365'"
      ]
     },
     "metadata": {},
     "output_type": "display_data"
    },
    {
     "data": {
      "text/plain": [
       "'106/365'"
      ]
     },
     "metadata": {},
     "output_type": "display_data"
    },
    {
     "data": {
      "text/plain": [
       "'107/365'"
      ]
     },
     "metadata": {},
     "output_type": "display_data"
    },
    {
     "data": {
      "text/plain": [
       "'108/365'"
      ]
     },
     "metadata": {},
     "output_type": "display_data"
    },
    {
     "data": {
      "text/plain": [
       "'109/365'"
      ]
     },
     "metadata": {},
     "output_type": "display_data"
    },
    {
     "data": {
      "text/plain": [
       "'110/365'"
      ]
     },
     "metadata": {},
     "output_type": "display_data"
    },
    {
     "data": {
      "text/plain": [
       "'111/365'"
      ]
     },
     "metadata": {},
     "output_type": "display_data"
    },
    {
     "data": {
      "text/plain": [
       "'112/365'"
      ]
     },
     "metadata": {},
     "output_type": "display_data"
    },
    {
     "data": {
      "text/plain": [
       "'113/365'"
      ]
     },
     "metadata": {},
     "output_type": "display_data"
    },
    {
     "data": {
      "text/plain": [
       "'114/365'"
      ]
     },
     "metadata": {},
     "output_type": "display_data"
    },
    {
     "data": {
      "text/plain": [
       "'115/365'"
      ]
     },
     "metadata": {},
     "output_type": "display_data"
    },
    {
     "data": {
      "text/plain": [
       "'116/365'"
      ]
     },
     "metadata": {},
     "output_type": "display_data"
    },
    {
     "data": {
      "text/plain": [
       "'117/365'"
      ]
     },
     "metadata": {},
     "output_type": "display_data"
    },
    {
     "data": {
      "text/plain": [
       "'118/365'"
      ]
     },
     "metadata": {},
     "output_type": "display_data"
    },
    {
     "data": {
      "text/plain": [
       "'119/365'"
      ]
     },
     "metadata": {},
     "output_type": "display_data"
    },
    {
     "data": {
      "text/plain": [
       "'120/365'"
      ]
     },
     "metadata": {},
     "output_type": "display_data"
    },
    {
     "data": {
      "text/plain": [
       "'121/365'"
      ]
     },
     "metadata": {},
     "output_type": "display_data"
    },
    {
     "data": {
      "text/plain": [
       "'122/365'"
      ]
     },
     "metadata": {},
     "output_type": "display_data"
    },
    {
     "data": {
      "text/plain": [
       "'123/365'"
      ]
     },
     "metadata": {},
     "output_type": "display_data"
    },
    {
     "data": {
      "text/plain": [
       "'124/365'"
      ]
     },
     "metadata": {},
     "output_type": "display_data"
    },
    {
     "data": {
      "text/plain": [
       "'125/365'"
      ]
     },
     "metadata": {},
     "output_type": "display_data"
    },
    {
     "data": {
      "text/plain": [
       "'126/365'"
      ]
     },
     "metadata": {},
     "output_type": "display_data"
    },
    {
     "data": {
      "text/plain": [
       "'127/365'"
      ]
     },
     "metadata": {},
     "output_type": "display_data"
    },
    {
     "data": {
      "text/plain": [
       "'128/365'"
      ]
     },
     "metadata": {},
     "output_type": "display_data"
    },
    {
     "data": {
      "text/plain": [
       "'129/365'"
      ]
     },
     "metadata": {},
     "output_type": "display_data"
    },
    {
     "data": {
      "text/plain": [
       "'130/365'"
      ]
     },
     "metadata": {},
     "output_type": "display_data"
    },
    {
     "data": {
      "text/plain": [
       "'131/365'"
      ]
     },
     "metadata": {},
     "output_type": "display_data"
    },
    {
     "data": {
      "text/plain": [
       "'132/365'"
      ]
     },
     "metadata": {},
     "output_type": "display_data"
    },
    {
     "data": {
      "text/plain": [
       "'133/365'"
      ]
     },
     "metadata": {},
     "output_type": "display_data"
    },
    {
     "data": {
      "text/plain": [
       "'134/365'"
      ]
     },
     "metadata": {},
     "output_type": "display_data"
    },
    {
     "data": {
      "text/plain": [
       "'135/365'"
      ]
     },
     "metadata": {},
     "output_type": "display_data"
    },
    {
     "data": {
      "text/plain": [
       "'136/365'"
      ]
     },
     "metadata": {},
     "output_type": "display_data"
    },
    {
     "data": {
      "text/plain": [
       "'137/365'"
      ]
     },
     "metadata": {},
     "output_type": "display_data"
    },
    {
     "data": {
      "text/plain": [
       "'138/365'"
      ]
     },
     "metadata": {},
     "output_type": "display_data"
    },
    {
     "data": {
      "text/plain": [
       "'139/365'"
      ]
     },
     "metadata": {},
     "output_type": "display_data"
    },
    {
     "data": {
      "text/plain": [
       "'140/365'"
      ]
     },
     "metadata": {},
     "output_type": "display_data"
    },
    {
     "data": {
      "text/plain": [
       "'141/365'"
      ]
     },
     "metadata": {},
     "output_type": "display_data"
    },
    {
     "data": {
      "text/plain": [
       "'142/365'"
      ]
     },
     "metadata": {},
     "output_type": "display_data"
    },
    {
     "data": {
      "text/plain": [
       "'143/365'"
      ]
     },
     "metadata": {},
     "output_type": "display_data"
    },
    {
     "data": {
      "text/plain": [
       "'144/365'"
      ]
     },
     "metadata": {},
     "output_type": "display_data"
    },
    {
     "data": {
      "text/plain": [
       "'145/365'"
      ]
     },
     "metadata": {},
     "output_type": "display_data"
    },
    {
     "data": {
      "text/plain": [
       "'146/365'"
      ]
     },
     "metadata": {},
     "output_type": "display_data"
    },
    {
     "data": {
      "text/plain": [
       "'147/365'"
      ]
     },
     "metadata": {},
     "output_type": "display_data"
    },
    {
     "data": {
      "text/plain": [
       "'148/365'"
      ]
     },
     "metadata": {},
     "output_type": "display_data"
    },
    {
     "data": {
      "text/plain": [
       "'149/365'"
      ]
     },
     "metadata": {},
     "output_type": "display_data"
    },
    {
     "data": {
      "text/plain": [
       "'150/365'"
      ]
     },
     "metadata": {},
     "output_type": "display_data"
    },
    {
     "data": {
      "text/plain": [
       "'151/365'"
      ]
     },
     "metadata": {},
     "output_type": "display_data"
    },
    {
     "data": {
      "text/plain": [
       "'152/365'"
      ]
     },
     "metadata": {},
     "output_type": "display_data"
    },
    {
     "data": {
      "text/plain": [
       "'153/365'"
      ]
     },
     "metadata": {},
     "output_type": "display_data"
    },
    {
     "data": {
      "text/plain": [
       "'154/365'"
      ]
     },
     "metadata": {},
     "output_type": "display_data"
    },
    {
     "data": {
      "text/plain": [
       "'155/365'"
      ]
     },
     "metadata": {},
     "output_type": "display_data"
    },
    {
     "data": {
      "text/plain": [
       "'156/365'"
      ]
     },
     "metadata": {},
     "output_type": "display_data"
    },
    {
     "data": {
      "text/plain": [
       "'157/365'"
      ]
     },
     "metadata": {},
     "output_type": "display_data"
    },
    {
     "data": {
      "text/plain": [
       "'158/365'"
      ]
     },
     "metadata": {},
     "output_type": "display_data"
    },
    {
     "data": {
      "text/plain": [
       "'159/365'"
      ]
     },
     "metadata": {},
     "output_type": "display_data"
    },
    {
     "data": {
      "text/plain": [
       "'160/365'"
      ]
     },
     "metadata": {},
     "output_type": "display_data"
    },
    {
     "data": {
      "text/plain": [
       "'161/365'"
      ]
     },
     "metadata": {},
     "output_type": "display_data"
    },
    {
     "data": {
      "text/plain": [
       "'162/365'"
      ]
     },
     "metadata": {},
     "output_type": "display_data"
    },
    {
     "data": {
      "text/plain": [
       "'163/365'"
      ]
     },
     "metadata": {},
     "output_type": "display_data"
    },
    {
     "data": {
      "text/plain": [
       "'164/365'"
      ]
     },
     "metadata": {},
     "output_type": "display_data"
    },
    {
     "data": {
      "text/plain": [
       "'165/365'"
      ]
     },
     "metadata": {},
     "output_type": "display_data"
    },
    {
     "data": {
      "text/plain": [
       "'166/365'"
      ]
     },
     "metadata": {},
     "output_type": "display_data"
    },
    {
     "data": {
      "text/plain": [
       "'167/365'"
      ]
     },
     "metadata": {},
     "output_type": "display_data"
    },
    {
     "data": {
      "text/plain": [
       "'168/365'"
      ]
     },
     "metadata": {},
     "output_type": "display_data"
    },
    {
     "data": {
      "text/plain": [
       "'169/365'"
      ]
     },
     "metadata": {},
     "output_type": "display_data"
    },
    {
     "data": {
      "text/plain": [
       "'170/365'"
      ]
     },
     "metadata": {},
     "output_type": "display_data"
    },
    {
     "data": {
      "text/plain": [
       "'171/365'"
      ]
     },
     "metadata": {},
     "output_type": "display_data"
    },
    {
     "data": {
      "text/plain": [
       "'172/365'"
      ]
     },
     "metadata": {},
     "output_type": "display_data"
    },
    {
     "data": {
      "text/plain": [
       "'173/365'"
      ]
     },
     "metadata": {},
     "output_type": "display_data"
    },
    {
     "data": {
      "text/plain": [
       "'174/365'"
      ]
     },
     "metadata": {},
     "output_type": "display_data"
    },
    {
     "data": {
      "text/plain": [
       "'175/365'"
      ]
     },
     "metadata": {},
     "output_type": "display_data"
    },
    {
     "data": {
      "text/plain": [
       "'176/365'"
      ]
     },
     "metadata": {},
     "output_type": "display_data"
    },
    {
     "data": {
      "text/plain": [
       "'177/365'"
      ]
     },
     "metadata": {},
     "output_type": "display_data"
    },
    {
     "data": {
      "text/plain": [
       "'178/365'"
      ]
     },
     "metadata": {},
     "output_type": "display_data"
    },
    {
     "data": {
      "text/plain": [
       "'179/365'"
      ]
     },
     "metadata": {},
     "output_type": "display_data"
    },
    {
     "data": {
      "text/plain": [
       "'180/365'"
      ]
     },
     "metadata": {},
     "output_type": "display_data"
    },
    {
     "data": {
      "text/plain": [
       "'181/365'"
      ]
     },
     "metadata": {},
     "output_type": "display_data"
    },
    {
     "data": {
      "text/plain": [
       "'182/365'"
      ]
     },
     "metadata": {},
     "output_type": "display_data"
    },
    {
     "data": {
      "text/plain": [
       "'183/365'"
      ]
     },
     "metadata": {},
     "output_type": "display_data"
    },
    {
     "data": {
      "text/plain": [
       "'184/365'"
      ]
     },
     "metadata": {},
     "output_type": "display_data"
    },
    {
     "data": {
      "text/plain": [
       "'185/365'"
      ]
     },
     "metadata": {},
     "output_type": "display_data"
    },
    {
     "data": {
      "text/plain": [
       "'186/365'"
      ]
     },
     "metadata": {},
     "output_type": "display_data"
    },
    {
     "data": {
      "text/plain": [
       "'187/365'"
      ]
     },
     "metadata": {},
     "output_type": "display_data"
    },
    {
     "data": {
      "text/plain": [
       "'188/365'"
      ]
     },
     "metadata": {},
     "output_type": "display_data"
    },
    {
     "data": {
      "text/plain": [
       "'189/365'"
      ]
     },
     "metadata": {},
     "output_type": "display_data"
    },
    {
     "data": {
      "text/plain": [
       "'190/365'"
      ]
     },
     "metadata": {},
     "output_type": "display_data"
    },
    {
     "data": {
      "text/plain": [
       "'191/365'"
      ]
     },
     "metadata": {},
     "output_type": "display_data"
    },
    {
     "data": {
      "text/plain": [
       "'192/365'"
      ]
     },
     "metadata": {},
     "output_type": "display_data"
    },
    {
     "data": {
      "text/plain": [
       "'193/365'"
      ]
     },
     "metadata": {},
     "output_type": "display_data"
    },
    {
     "data": {
      "text/plain": [
       "'194/365'"
      ]
     },
     "metadata": {},
     "output_type": "display_data"
    },
    {
     "data": {
      "text/plain": [
       "'195/365'"
      ]
     },
     "metadata": {},
     "output_type": "display_data"
    },
    {
     "data": {
      "text/plain": [
       "'196/365'"
      ]
     },
     "metadata": {},
     "output_type": "display_data"
    },
    {
     "data": {
      "text/plain": [
       "'197/365'"
      ]
     },
     "metadata": {},
     "output_type": "display_data"
    },
    {
     "data": {
      "text/plain": [
       "'198/365'"
      ]
     },
     "metadata": {},
     "output_type": "display_data"
    },
    {
     "data": {
      "text/plain": [
       "'199/365'"
      ]
     },
     "metadata": {},
     "output_type": "display_data"
    },
    {
     "data": {
      "text/plain": [
       "'200/365'"
      ]
     },
     "metadata": {},
     "output_type": "display_data"
    },
    {
     "data": {
      "text/plain": [
       "'201/365'"
      ]
     },
     "metadata": {},
     "output_type": "display_data"
    },
    {
     "data": {
      "text/plain": [
       "'202/365'"
      ]
     },
     "metadata": {},
     "output_type": "display_data"
    },
    {
     "data": {
      "text/plain": [
       "'203/365'"
      ]
     },
     "metadata": {},
     "output_type": "display_data"
    },
    {
     "data": {
      "text/plain": [
       "'204/365'"
      ]
     },
     "metadata": {},
     "output_type": "display_data"
    },
    {
     "data": {
      "text/plain": [
       "'205/365'"
      ]
     },
     "metadata": {},
     "output_type": "display_data"
    },
    {
     "data": {
      "text/plain": [
       "'206/365'"
      ]
     },
     "metadata": {},
     "output_type": "display_data"
    },
    {
     "data": {
      "text/plain": [
       "'207/365'"
      ]
     },
     "metadata": {},
     "output_type": "display_data"
    },
    {
     "data": {
      "text/plain": [
       "'208/365'"
      ]
     },
     "metadata": {},
     "output_type": "display_data"
    },
    {
     "data": {
      "text/plain": [
       "'209/365'"
      ]
     },
     "metadata": {},
     "output_type": "display_data"
    },
    {
     "data": {
      "text/plain": [
       "'210/365'"
      ]
     },
     "metadata": {},
     "output_type": "display_data"
    },
    {
     "data": {
      "text/plain": [
       "'211/365'"
      ]
     },
     "metadata": {},
     "output_type": "display_data"
    },
    {
     "data": {
      "text/plain": [
       "'212/365'"
      ]
     },
     "metadata": {},
     "output_type": "display_data"
    },
    {
     "data": {
      "text/plain": [
       "'213/365'"
      ]
     },
     "metadata": {},
     "output_type": "display_data"
    },
    {
     "data": {
      "text/plain": [
       "'214/365'"
      ]
     },
     "metadata": {},
     "output_type": "display_data"
    },
    {
     "data": {
      "text/plain": [
       "'215/365'"
      ]
     },
     "metadata": {},
     "output_type": "display_data"
    },
    {
     "data": {
      "text/plain": [
       "'216/365'"
      ]
     },
     "metadata": {},
     "output_type": "display_data"
    },
    {
     "data": {
      "text/plain": [
       "'217/365'"
      ]
     },
     "metadata": {},
     "output_type": "display_data"
    },
    {
     "data": {
      "text/plain": [
       "'218/365'"
      ]
     },
     "metadata": {},
     "output_type": "display_data"
    },
    {
     "data": {
      "text/plain": [
       "'219/365'"
      ]
     },
     "metadata": {},
     "output_type": "display_data"
    },
    {
     "data": {
      "text/plain": [
       "'220/365'"
      ]
     },
     "metadata": {},
     "output_type": "display_data"
    },
    {
     "data": {
      "text/plain": [
       "'221/365'"
      ]
     },
     "metadata": {},
     "output_type": "display_data"
    },
    {
     "data": {
      "text/plain": [
       "'222/365'"
      ]
     },
     "metadata": {},
     "output_type": "display_data"
    },
    {
     "data": {
      "text/plain": [
       "'223/365'"
      ]
     },
     "metadata": {},
     "output_type": "display_data"
    },
    {
     "data": {
      "text/plain": [
       "'224/365'"
      ]
     },
     "metadata": {},
     "output_type": "display_data"
    },
    {
     "data": {
      "text/plain": [
       "'225/365'"
      ]
     },
     "metadata": {},
     "output_type": "display_data"
    },
    {
     "data": {
      "text/plain": [
       "'226/365'"
      ]
     },
     "metadata": {},
     "output_type": "display_data"
    },
    {
     "data": {
      "text/plain": [
       "'227/365'"
      ]
     },
     "metadata": {},
     "output_type": "display_data"
    },
    {
     "data": {
      "text/plain": [
       "'228/365'"
      ]
     },
     "metadata": {},
     "output_type": "display_data"
    },
    {
     "data": {
      "text/plain": [
       "'229/365'"
      ]
     },
     "metadata": {},
     "output_type": "display_data"
    },
    {
     "data": {
      "text/plain": [
       "'230/365'"
      ]
     },
     "metadata": {},
     "output_type": "display_data"
    },
    {
     "data": {
      "text/plain": [
       "'231/365'"
      ]
     },
     "metadata": {},
     "output_type": "display_data"
    },
    {
     "data": {
      "text/plain": [
       "'232/365'"
      ]
     },
     "metadata": {},
     "output_type": "display_data"
    },
    {
     "data": {
      "text/plain": [
       "'233/365'"
      ]
     },
     "metadata": {},
     "output_type": "display_data"
    },
    {
     "data": {
      "text/plain": [
       "'234/365'"
      ]
     },
     "metadata": {},
     "output_type": "display_data"
    },
    {
     "data": {
      "text/plain": [
       "'235/365'"
      ]
     },
     "metadata": {},
     "output_type": "display_data"
    },
    {
     "data": {
      "text/plain": [
       "'236/365'"
      ]
     },
     "metadata": {},
     "output_type": "display_data"
    },
    {
     "data": {
      "text/plain": [
       "'237/365'"
      ]
     },
     "metadata": {},
     "output_type": "display_data"
    },
    {
     "data": {
      "text/plain": [
       "'238/365'"
      ]
     },
     "metadata": {},
     "output_type": "display_data"
    },
    {
     "data": {
      "text/plain": [
       "'239/365'"
      ]
     },
     "metadata": {},
     "output_type": "display_data"
    },
    {
     "data": {
      "text/plain": [
       "'240/365'"
      ]
     },
     "metadata": {},
     "output_type": "display_data"
    },
    {
     "data": {
      "text/plain": [
       "'241/365'"
      ]
     },
     "metadata": {},
     "output_type": "display_data"
    },
    {
     "data": {
      "text/plain": [
       "'242/365'"
      ]
     },
     "metadata": {},
     "output_type": "display_data"
    },
    {
     "data": {
      "text/plain": [
       "'243/365'"
      ]
     },
     "metadata": {},
     "output_type": "display_data"
    },
    {
     "data": {
      "text/plain": [
       "'244/365'"
      ]
     },
     "metadata": {},
     "output_type": "display_data"
    },
    {
     "data": {
      "text/plain": [
       "'245/365'"
      ]
     },
     "metadata": {},
     "output_type": "display_data"
    },
    {
     "data": {
      "text/plain": [
       "'246/365'"
      ]
     },
     "metadata": {},
     "output_type": "display_data"
    },
    {
     "data": {
      "text/plain": [
       "'247/365'"
      ]
     },
     "metadata": {},
     "output_type": "display_data"
    },
    {
     "data": {
      "text/plain": [
       "'248/365'"
      ]
     },
     "metadata": {},
     "output_type": "display_data"
    },
    {
     "data": {
      "text/plain": [
       "'249/365'"
      ]
     },
     "metadata": {},
     "output_type": "display_data"
    },
    {
     "data": {
      "text/plain": [
       "'250/365'"
      ]
     },
     "metadata": {},
     "output_type": "display_data"
    },
    {
     "data": {
      "text/plain": [
       "'251/365'"
      ]
     },
     "metadata": {},
     "output_type": "display_data"
    },
    {
     "data": {
      "text/plain": [
       "'252/365'"
      ]
     },
     "metadata": {},
     "output_type": "display_data"
    },
    {
     "data": {
      "text/plain": [
       "'253/365'"
      ]
     },
     "metadata": {},
     "output_type": "display_data"
    },
    {
     "data": {
      "text/plain": [
       "'254/365'"
      ]
     },
     "metadata": {},
     "output_type": "display_data"
    },
    {
     "data": {
      "text/plain": [
       "'255/365'"
      ]
     },
     "metadata": {},
     "output_type": "display_data"
    },
    {
     "data": {
      "text/plain": [
       "'256/365'"
      ]
     },
     "metadata": {},
     "output_type": "display_data"
    },
    {
     "data": {
      "text/plain": [
       "'257/365'"
      ]
     },
     "metadata": {},
     "output_type": "display_data"
    },
    {
     "data": {
      "text/plain": [
       "'258/365'"
      ]
     },
     "metadata": {},
     "output_type": "display_data"
    },
    {
     "data": {
      "text/plain": [
       "'259/365'"
      ]
     },
     "metadata": {},
     "output_type": "display_data"
    },
    {
     "data": {
      "text/plain": [
       "'260/365'"
      ]
     },
     "metadata": {},
     "output_type": "display_data"
    },
    {
     "data": {
      "text/plain": [
       "'261/365'"
      ]
     },
     "metadata": {},
     "output_type": "display_data"
    },
    {
     "data": {
      "text/plain": [
       "'262/365'"
      ]
     },
     "metadata": {},
     "output_type": "display_data"
    },
    {
     "data": {
      "text/plain": [
       "'263/365'"
      ]
     },
     "metadata": {},
     "output_type": "display_data"
    },
    {
     "data": {
      "text/plain": [
       "'264/365'"
      ]
     },
     "metadata": {},
     "output_type": "display_data"
    },
    {
     "data": {
      "text/plain": [
       "'265/365'"
      ]
     },
     "metadata": {},
     "output_type": "display_data"
    },
    {
     "data": {
      "text/plain": [
       "'266/365'"
      ]
     },
     "metadata": {},
     "output_type": "display_data"
    },
    {
     "data": {
      "text/plain": [
       "'267/365'"
      ]
     },
     "metadata": {},
     "output_type": "display_data"
    },
    {
     "data": {
      "text/plain": [
       "'268/365'"
      ]
     },
     "metadata": {},
     "output_type": "display_data"
    },
    {
     "data": {
      "text/plain": [
       "'269/365'"
      ]
     },
     "metadata": {},
     "output_type": "display_data"
    },
    {
     "data": {
      "text/plain": [
       "'270/365'"
      ]
     },
     "metadata": {},
     "output_type": "display_data"
    },
    {
     "data": {
      "text/plain": [
       "'271/365'"
      ]
     },
     "metadata": {},
     "output_type": "display_data"
    },
    {
     "data": {
      "text/plain": [
       "'272/365'"
      ]
     },
     "metadata": {},
     "output_type": "display_data"
    },
    {
     "data": {
      "text/plain": [
       "'273/365'"
      ]
     },
     "metadata": {},
     "output_type": "display_data"
    },
    {
     "data": {
      "text/plain": [
       "'274/365'"
      ]
     },
     "metadata": {},
     "output_type": "display_data"
    },
    {
     "data": {
      "text/plain": [
       "'275/365'"
      ]
     },
     "metadata": {},
     "output_type": "display_data"
    },
    {
     "data": {
      "text/plain": [
       "'276/365'"
      ]
     },
     "metadata": {},
     "output_type": "display_data"
    },
    {
     "data": {
      "text/plain": [
       "'277/365'"
      ]
     },
     "metadata": {},
     "output_type": "display_data"
    },
    {
     "data": {
      "text/plain": [
       "'278/365'"
      ]
     },
     "metadata": {},
     "output_type": "display_data"
    },
    {
     "data": {
      "text/plain": [
       "'279/365'"
      ]
     },
     "metadata": {},
     "output_type": "display_data"
    },
    {
     "data": {
      "text/plain": [
       "'280/365'"
      ]
     },
     "metadata": {},
     "output_type": "display_data"
    },
    {
     "data": {
      "text/plain": [
       "'281/365'"
      ]
     },
     "metadata": {},
     "output_type": "display_data"
    },
    {
     "data": {
      "text/plain": [
       "'282/365'"
      ]
     },
     "metadata": {},
     "output_type": "display_data"
    },
    {
     "data": {
      "text/plain": [
       "'283/365'"
      ]
     },
     "metadata": {},
     "output_type": "display_data"
    },
    {
     "data": {
      "text/plain": [
       "'284/365'"
      ]
     },
     "metadata": {},
     "output_type": "display_data"
    },
    {
     "data": {
      "text/plain": [
       "'285/365'"
      ]
     },
     "metadata": {},
     "output_type": "display_data"
    },
    {
     "data": {
      "text/plain": [
       "'286/365'"
      ]
     },
     "metadata": {},
     "output_type": "display_data"
    },
    {
     "data": {
      "text/plain": [
       "'287/365'"
      ]
     },
     "metadata": {},
     "output_type": "display_data"
    },
    {
     "data": {
      "text/plain": [
       "'288/365'"
      ]
     },
     "metadata": {},
     "output_type": "display_data"
    },
    {
     "data": {
      "text/plain": [
       "'289/365'"
      ]
     },
     "metadata": {},
     "output_type": "display_data"
    },
    {
     "data": {
      "text/plain": [
       "'290/365'"
      ]
     },
     "metadata": {},
     "output_type": "display_data"
    },
    {
     "data": {
      "text/plain": [
       "'291/365'"
      ]
     },
     "metadata": {},
     "output_type": "display_data"
    },
    {
     "data": {
      "text/plain": [
       "'292/365'"
      ]
     },
     "metadata": {},
     "output_type": "display_data"
    },
    {
     "data": {
      "text/plain": [
       "'293/365'"
      ]
     },
     "metadata": {},
     "output_type": "display_data"
    },
    {
     "data": {
      "text/plain": [
       "'294/365'"
      ]
     },
     "metadata": {},
     "output_type": "display_data"
    },
    {
     "data": {
      "text/plain": [
       "'295/365'"
      ]
     },
     "metadata": {},
     "output_type": "display_data"
    },
    {
     "data": {
      "text/plain": [
       "'296/365'"
      ]
     },
     "metadata": {},
     "output_type": "display_data"
    },
    {
     "data": {
      "text/plain": [
       "'297/365'"
      ]
     },
     "metadata": {},
     "output_type": "display_data"
    },
    {
     "data": {
      "text/plain": [
       "'298/365'"
      ]
     },
     "metadata": {},
     "output_type": "display_data"
    },
    {
     "data": {
      "text/plain": [
       "'299/365'"
      ]
     },
     "metadata": {},
     "output_type": "display_data"
    },
    {
     "data": {
      "text/plain": [
       "'300/365'"
      ]
     },
     "metadata": {},
     "output_type": "display_data"
    },
    {
     "data": {
      "text/plain": [
       "'301/365'"
      ]
     },
     "metadata": {},
     "output_type": "display_data"
    },
    {
     "data": {
      "text/plain": [
       "'302/365'"
      ]
     },
     "metadata": {},
     "output_type": "display_data"
    },
    {
     "data": {
      "text/plain": [
       "'303/365'"
      ]
     },
     "metadata": {},
     "output_type": "display_data"
    },
    {
     "data": {
      "text/plain": [
       "'304/365'"
      ]
     },
     "metadata": {},
     "output_type": "display_data"
    },
    {
     "data": {
      "text/plain": [
       "'305/365'"
      ]
     },
     "metadata": {},
     "output_type": "display_data"
    },
    {
     "data": {
      "text/plain": [
       "'306/365'"
      ]
     },
     "metadata": {},
     "output_type": "display_data"
    },
    {
     "data": {
      "text/plain": [
       "'307/365'"
      ]
     },
     "metadata": {},
     "output_type": "display_data"
    },
    {
     "data": {
      "text/plain": [
       "'308/365'"
      ]
     },
     "metadata": {},
     "output_type": "display_data"
    },
    {
     "data": {
      "text/plain": [
       "'309/365'"
      ]
     },
     "metadata": {},
     "output_type": "display_data"
    },
    {
     "data": {
      "text/plain": [
       "'310/365'"
      ]
     },
     "metadata": {},
     "output_type": "display_data"
    },
    {
     "data": {
      "text/plain": [
       "'311/365'"
      ]
     },
     "metadata": {},
     "output_type": "display_data"
    },
    {
     "data": {
      "text/plain": [
       "'312/365'"
      ]
     },
     "metadata": {},
     "output_type": "display_data"
    },
    {
     "data": {
      "text/plain": [
       "'313/365'"
      ]
     },
     "metadata": {},
     "output_type": "display_data"
    },
    {
     "data": {
      "text/plain": [
       "'314/365'"
      ]
     },
     "metadata": {},
     "output_type": "display_data"
    },
    {
     "data": {
      "text/plain": [
       "'315/365'"
      ]
     },
     "metadata": {},
     "output_type": "display_data"
    },
    {
     "data": {
      "text/plain": [
       "'316/365'"
      ]
     },
     "metadata": {},
     "output_type": "display_data"
    },
    {
     "data": {
      "text/plain": [
       "'317/365'"
      ]
     },
     "metadata": {},
     "output_type": "display_data"
    },
    {
     "data": {
      "text/plain": [
       "'318/365'"
      ]
     },
     "metadata": {},
     "output_type": "display_data"
    },
    {
     "data": {
      "text/plain": [
       "'319/365'"
      ]
     },
     "metadata": {},
     "output_type": "display_data"
    },
    {
     "data": {
      "text/plain": [
       "'320/365'"
      ]
     },
     "metadata": {},
     "output_type": "display_data"
    },
    {
     "data": {
      "text/plain": [
       "'321/365'"
      ]
     },
     "metadata": {},
     "output_type": "display_data"
    },
    {
     "data": {
      "text/plain": [
       "'322/365'"
      ]
     },
     "metadata": {},
     "output_type": "display_data"
    },
    {
     "data": {
      "text/plain": [
       "'323/365'"
      ]
     },
     "metadata": {},
     "output_type": "display_data"
    },
    {
     "data": {
      "text/plain": [
       "'324/365'"
      ]
     },
     "metadata": {},
     "output_type": "display_data"
    },
    {
     "data": {
      "text/plain": [
       "'325/365'"
      ]
     },
     "metadata": {},
     "output_type": "display_data"
    },
    {
     "data": {
      "text/plain": [
       "'326/365'"
      ]
     },
     "metadata": {},
     "output_type": "display_data"
    },
    {
     "data": {
      "text/plain": [
       "'327/365'"
      ]
     },
     "metadata": {},
     "output_type": "display_data"
    },
    {
     "data": {
      "text/plain": [
       "'328/365'"
      ]
     },
     "metadata": {},
     "output_type": "display_data"
    },
    {
     "data": {
      "text/plain": [
       "'329/365'"
      ]
     },
     "metadata": {},
     "output_type": "display_data"
    },
    {
     "data": {
      "text/plain": [
       "'330/365'"
      ]
     },
     "metadata": {},
     "output_type": "display_data"
    },
    {
     "data": {
      "text/plain": [
       "'331/365'"
      ]
     },
     "metadata": {},
     "output_type": "display_data"
    },
    {
     "data": {
      "text/plain": [
       "'332/365'"
      ]
     },
     "metadata": {},
     "output_type": "display_data"
    },
    {
     "data": {
      "text/plain": [
       "'333/365'"
      ]
     },
     "metadata": {},
     "output_type": "display_data"
    },
    {
     "data": {
      "text/plain": [
       "'334/365'"
      ]
     },
     "metadata": {},
     "output_type": "display_data"
    },
    {
     "data": {
      "text/plain": [
       "'335/365'"
      ]
     },
     "metadata": {},
     "output_type": "display_data"
    },
    {
     "data": {
      "text/plain": [
       "'336/365'"
      ]
     },
     "metadata": {},
     "output_type": "display_data"
    },
    {
     "data": {
      "text/plain": [
       "'337/365'"
      ]
     },
     "metadata": {},
     "output_type": "display_data"
    },
    {
     "data": {
      "text/plain": [
       "'338/365'"
      ]
     },
     "metadata": {},
     "output_type": "display_data"
    },
    {
     "data": {
      "text/plain": [
       "'339/365'"
      ]
     },
     "metadata": {},
     "output_type": "display_data"
    },
    {
     "data": {
      "text/plain": [
       "'340/365'"
      ]
     },
     "metadata": {},
     "output_type": "display_data"
    },
    {
     "data": {
      "text/plain": [
       "'341/365'"
      ]
     },
     "metadata": {},
     "output_type": "display_data"
    },
    {
     "data": {
      "text/plain": [
       "'342/365'"
      ]
     },
     "metadata": {},
     "output_type": "display_data"
    },
    {
     "data": {
      "text/plain": [
       "'343/365'"
      ]
     },
     "metadata": {},
     "output_type": "display_data"
    },
    {
     "data": {
      "text/plain": [
       "'344/365'"
      ]
     },
     "metadata": {},
     "output_type": "display_data"
    },
    {
     "data": {
      "text/plain": [
       "'345/365'"
      ]
     },
     "metadata": {},
     "output_type": "display_data"
    },
    {
     "data": {
      "text/plain": [
       "'346/365'"
      ]
     },
     "metadata": {},
     "output_type": "display_data"
    },
    {
     "data": {
      "text/plain": [
       "'347/365'"
      ]
     },
     "metadata": {},
     "output_type": "display_data"
    },
    {
     "data": {
      "text/plain": [
       "'348/365'"
      ]
     },
     "metadata": {},
     "output_type": "display_data"
    },
    {
     "data": {
      "text/plain": [
       "'349/365'"
      ]
     },
     "metadata": {},
     "output_type": "display_data"
    },
    {
     "data": {
      "text/plain": [
       "'350/365'"
      ]
     },
     "metadata": {},
     "output_type": "display_data"
    },
    {
     "data": {
      "text/plain": [
       "'351/365'"
      ]
     },
     "metadata": {},
     "output_type": "display_data"
    },
    {
     "data": {
      "text/plain": [
       "'352/365'"
      ]
     },
     "metadata": {},
     "output_type": "display_data"
    },
    {
     "data": {
      "text/plain": [
       "'353/365'"
      ]
     },
     "metadata": {},
     "output_type": "display_data"
    },
    {
     "data": {
      "text/plain": [
       "'354/365'"
      ]
     },
     "metadata": {},
     "output_type": "display_data"
    },
    {
     "data": {
      "text/plain": [
       "'355/365'"
      ]
     },
     "metadata": {},
     "output_type": "display_data"
    },
    {
     "data": {
      "text/plain": [
       "'356/365'"
      ]
     },
     "metadata": {},
     "output_type": "display_data"
    },
    {
     "data": {
      "text/plain": [
       "'357/365'"
      ]
     },
     "metadata": {},
     "output_type": "display_data"
    },
    {
     "data": {
      "text/plain": [
       "'358/365'"
      ]
     },
     "metadata": {},
     "output_type": "display_data"
    },
    {
     "data": {
      "text/plain": [
       "'359/365'"
      ]
     },
     "metadata": {},
     "output_type": "display_data"
    },
    {
     "data": {
      "text/plain": [
       "'360/365'"
      ]
     },
     "metadata": {},
     "output_type": "display_data"
    },
    {
     "data": {
      "text/plain": [
       "'361/365'"
      ]
     },
     "metadata": {},
     "output_type": "display_data"
    },
    {
     "data": {
      "text/plain": [
       "'362/365'"
      ]
     },
     "metadata": {},
     "output_type": "display_data"
    },
    {
     "data": {
      "text/plain": [
       "'363/365'"
      ]
     },
     "metadata": {},
     "output_type": "display_data"
    },
    {
     "data": {
      "text/plain": [
       "'364/365'"
      ]
     },
     "metadata": {},
     "output_type": "display_data"
    }
   ],
   "source": [
    "outflow = np.zeros((365,24))\n",
    "for s in range(0,365):\n",
    "    command = (\"SELECT t_day,vflow_out FROM Output_VFlow_Out \" \n",
    "              \"WHERE tech IS 'LI_BATTERY' \" \n",
    "              \"AND scenario IS 'uniform_lifespan_MGA'\"\n",
    "              f\"AND t_season IS 'S{s}'\")\n",
    "    data = cursor.execute(command)\n",
    "#     display(data.description)\n",
    "#     np.array(cursor.fetchall())\n",
    "    d = cursor.fetchall()\n",
    "    display(f\"{s}/365\")\n",
    "    outflow[s] = sorted_flow_out(d)\n",
    "#     display(outflow[s])"
   ]
  },
  {
   "cell_type": "code",
   "execution_count": 159,
   "metadata": {
    "scrolled": true
   },
   "outputs": [
    {
     "data": {
      "text/plain": [
       "'1/365'"
      ]
     },
     "metadata": {},
     "output_type": "display_data"
    },
    {
     "data": {
      "text/plain": [
       "'2/365'"
      ]
     },
     "metadata": {},
     "output_type": "display_data"
    },
    {
     "data": {
      "text/plain": [
       "'3/365'"
      ]
     },
     "metadata": {},
     "output_type": "display_data"
    },
    {
     "data": {
      "text/plain": [
       "'4/365'"
      ]
     },
     "metadata": {},
     "output_type": "display_data"
    },
    {
     "data": {
      "text/plain": [
       "'5/365'"
      ]
     },
     "metadata": {},
     "output_type": "display_data"
    },
    {
     "data": {
      "text/plain": [
       "'6/365'"
      ]
     },
     "metadata": {},
     "output_type": "display_data"
    },
    {
     "data": {
      "text/plain": [
       "'7/365'"
      ]
     },
     "metadata": {},
     "output_type": "display_data"
    },
    {
     "data": {
      "text/plain": [
       "'8/365'"
      ]
     },
     "metadata": {},
     "output_type": "display_data"
    },
    {
     "data": {
      "text/plain": [
       "'9/365'"
      ]
     },
     "metadata": {},
     "output_type": "display_data"
    },
    {
     "data": {
      "text/plain": [
       "'10/365'"
      ]
     },
     "metadata": {},
     "output_type": "display_data"
    },
    {
     "data": {
      "text/plain": [
       "'11/365'"
      ]
     },
     "metadata": {},
     "output_type": "display_data"
    },
    {
     "data": {
      "text/plain": [
       "'12/365'"
      ]
     },
     "metadata": {},
     "output_type": "display_data"
    },
    {
     "data": {
      "text/plain": [
       "'13/365'"
      ]
     },
     "metadata": {},
     "output_type": "display_data"
    },
    {
     "data": {
      "text/plain": [
       "'14/365'"
      ]
     },
     "metadata": {},
     "output_type": "display_data"
    },
    {
     "data": {
      "text/plain": [
       "'15/365'"
      ]
     },
     "metadata": {},
     "output_type": "display_data"
    },
    {
     "data": {
      "text/plain": [
       "'16/365'"
      ]
     },
     "metadata": {},
     "output_type": "display_data"
    },
    {
     "data": {
      "text/plain": [
       "'17/365'"
      ]
     },
     "metadata": {},
     "output_type": "display_data"
    },
    {
     "data": {
      "text/plain": [
       "'18/365'"
      ]
     },
     "metadata": {},
     "output_type": "display_data"
    },
    {
     "data": {
      "text/plain": [
       "'19/365'"
      ]
     },
     "metadata": {},
     "output_type": "display_data"
    },
    {
     "data": {
      "text/plain": [
       "'20/365'"
      ]
     },
     "metadata": {},
     "output_type": "display_data"
    },
    {
     "data": {
      "text/plain": [
       "'21/365'"
      ]
     },
     "metadata": {},
     "output_type": "display_data"
    },
    {
     "data": {
      "text/plain": [
       "'22/365'"
      ]
     },
     "metadata": {},
     "output_type": "display_data"
    },
    {
     "data": {
      "text/plain": [
       "'23/365'"
      ]
     },
     "metadata": {},
     "output_type": "display_data"
    },
    {
     "data": {
      "text/plain": [
       "'24/365'"
      ]
     },
     "metadata": {},
     "output_type": "display_data"
    },
    {
     "data": {
      "text/plain": [
       "'25/365'"
      ]
     },
     "metadata": {},
     "output_type": "display_data"
    },
    {
     "data": {
      "text/plain": [
       "'26/365'"
      ]
     },
     "metadata": {},
     "output_type": "display_data"
    },
    {
     "data": {
      "text/plain": [
       "'27/365'"
      ]
     },
     "metadata": {},
     "output_type": "display_data"
    },
    {
     "data": {
      "text/plain": [
       "'28/365'"
      ]
     },
     "metadata": {},
     "output_type": "display_data"
    },
    {
     "data": {
      "text/plain": [
       "'29/365'"
      ]
     },
     "metadata": {},
     "output_type": "display_data"
    },
    {
     "data": {
      "text/plain": [
       "'30/365'"
      ]
     },
     "metadata": {},
     "output_type": "display_data"
    },
    {
     "data": {
      "text/plain": [
       "'31/365'"
      ]
     },
     "metadata": {},
     "output_type": "display_data"
    },
    {
     "data": {
      "text/plain": [
       "'32/365'"
      ]
     },
     "metadata": {},
     "output_type": "display_data"
    },
    {
     "data": {
      "text/plain": [
       "'33/365'"
      ]
     },
     "metadata": {},
     "output_type": "display_data"
    },
    {
     "data": {
      "text/plain": [
       "'34/365'"
      ]
     },
     "metadata": {},
     "output_type": "display_data"
    },
    {
     "data": {
      "text/plain": [
       "'35/365'"
      ]
     },
     "metadata": {},
     "output_type": "display_data"
    },
    {
     "data": {
      "text/plain": [
       "'36/365'"
      ]
     },
     "metadata": {},
     "output_type": "display_data"
    },
    {
     "data": {
      "text/plain": [
       "'37/365'"
      ]
     },
     "metadata": {},
     "output_type": "display_data"
    },
    {
     "data": {
      "text/plain": [
       "'38/365'"
      ]
     },
     "metadata": {},
     "output_type": "display_data"
    },
    {
     "data": {
      "text/plain": [
       "'39/365'"
      ]
     },
     "metadata": {},
     "output_type": "display_data"
    },
    {
     "data": {
      "text/plain": [
       "'40/365'"
      ]
     },
     "metadata": {},
     "output_type": "display_data"
    },
    {
     "data": {
      "text/plain": [
       "'41/365'"
      ]
     },
     "metadata": {},
     "output_type": "display_data"
    },
    {
     "data": {
      "text/plain": [
       "'42/365'"
      ]
     },
     "metadata": {},
     "output_type": "display_data"
    },
    {
     "data": {
      "text/plain": [
       "'43/365'"
      ]
     },
     "metadata": {},
     "output_type": "display_data"
    },
    {
     "data": {
      "text/plain": [
       "'44/365'"
      ]
     },
     "metadata": {},
     "output_type": "display_data"
    },
    {
     "data": {
      "text/plain": [
       "'45/365'"
      ]
     },
     "metadata": {},
     "output_type": "display_data"
    },
    {
     "data": {
      "text/plain": [
       "'46/365'"
      ]
     },
     "metadata": {},
     "output_type": "display_data"
    },
    {
     "data": {
      "text/plain": [
       "'47/365'"
      ]
     },
     "metadata": {},
     "output_type": "display_data"
    },
    {
     "data": {
      "text/plain": [
       "'48/365'"
      ]
     },
     "metadata": {},
     "output_type": "display_data"
    },
    {
     "data": {
      "text/plain": [
       "'49/365'"
      ]
     },
     "metadata": {},
     "output_type": "display_data"
    },
    {
     "data": {
      "text/plain": [
       "'50/365'"
      ]
     },
     "metadata": {},
     "output_type": "display_data"
    },
    {
     "data": {
      "text/plain": [
       "'51/365'"
      ]
     },
     "metadata": {},
     "output_type": "display_data"
    },
    {
     "data": {
      "text/plain": [
       "'52/365'"
      ]
     },
     "metadata": {},
     "output_type": "display_data"
    },
    {
     "data": {
      "text/plain": [
       "'53/365'"
      ]
     },
     "metadata": {},
     "output_type": "display_data"
    },
    {
     "data": {
      "text/plain": [
       "'54/365'"
      ]
     },
     "metadata": {},
     "output_type": "display_data"
    },
    {
     "data": {
      "text/plain": [
       "'55/365'"
      ]
     },
     "metadata": {},
     "output_type": "display_data"
    },
    {
     "data": {
      "text/plain": [
       "'56/365'"
      ]
     },
     "metadata": {},
     "output_type": "display_data"
    },
    {
     "data": {
      "text/plain": [
       "'57/365'"
      ]
     },
     "metadata": {},
     "output_type": "display_data"
    },
    {
     "data": {
      "text/plain": [
       "'58/365'"
      ]
     },
     "metadata": {},
     "output_type": "display_data"
    },
    {
     "data": {
      "text/plain": [
       "'59/365'"
      ]
     },
     "metadata": {},
     "output_type": "display_data"
    },
    {
     "data": {
      "text/plain": [
       "'60/365'"
      ]
     },
     "metadata": {},
     "output_type": "display_data"
    },
    {
     "data": {
      "text/plain": [
       "'61/365'"
      ]
     },
     "metadata": {},
     "output_type": "display_data"
    },
    {
     "data": {
      "text/plain": [
       "'62/365'"
      ]
     },
     "metadata": {},
     "output_type": "display_data"
    },
    {
     "data": {
      "text/plain": [
       "'63/365'"
      ]
     },
     "metadata": {},
     "output_type": "display_data"
    },
    {
     "data": {
      "text/plain": [
       "'64/365'"
      ]
     },
     "metadata": {},
     "output_type": "display_data"
    },
    {
     "data": {
      "text/plain": [
       "'65/365'"
      ]
     },
     "metadata": {},
     "output_type": "display_data"
    },
    {
     "data": {
      "text/plain": [
       "'66/365'"
      ]
     },
     "metadata": {},
     "output_type": "display_data"
    },
    {
     "data": {
      "text/plain": [
       "'67/365'"
      ]
     },
     "metadata": {},
     "output_type": "display_data"
    },
    {
     "data": {
      "text/plain": [
       "'68/365'"
      ]
     },
     "metadata": {},
     "output_type": "display_data"
    },
    {
     "data": {
      "text/plain": [
       "'69/365'"
      ]
     },
     "metadata": {},
     "output_type": "display_data"
    },
    {
     "data": {
      "text/plain": [
       "'70/365'"
      ]
     },
     "metadata": {},
     "output_type": "display_data"
    },
    {
     "data": {
      "text/plain": [
       "'71/365'"
      ]
     },
     "metadata": {},
     "output_type": "display_data"
    },
    {
     "data": {
      "text/plain": [
       "'72/365'"
      ]
     },
     "metadata": {},
     "output_type": "display_data"
    },
    {
     "data": {
      "text/plain": [
       "'73/365'"
      ]
     },
     "metadata": {},
     "output_type": "display_data"
    },
    {
     "data": {
      "text/plain": [
       "'74/365'"
      ]
     },
     "metadata": {},
     "output_type": "display_data"
    },
    {
     "data": {
      "text/plain": [
       "'75/365'"
      ]
     },
     "metadata": {},
     "output_type": "display_data"
    },
    {
     "data": {
      "text/plain": [
       "'76/365'"
      ]
     },
     "metadata": {},
     "output_type": "display_data"
    },
    {
     "data": {
      "text/plain": [
       "'77/365'"
      ]
     },
     "metadata": {},
     "output_type": "display_data"
    },
    {
     "data": {
      "text/plain": [
       "'78/365'"
      ]
     },
     "metadata": {},
     "output_type": "display_data"
    },
    {
     "data": {
      "text/plain": [
       "'79/365'"
      ]
     },
     "metadata": {},
     "output_type": "display_data"
    },
    {
     "data": {
      "text/plain": [
       "'80/365'"
      ]
     },
     "metadata": {},
     "output_type": "display_data"
    },
    {
     "data": {
      "text/plain": [
       "'81/365'"
      ]
     },
     "metadata": {},
     "output_type": "display_data"
    },
    {
     "data": {
      "text/plain": [
       "'82/365'"
      ]
     },
     "metadata": {},
     "output_type": "display_data"
    },
    {
     "data": {
      "text/plain": [
       "'83/365'"
      ]
     },
     "metadata": {},
     "output_type": "display_data"
    },
    {
     "data": {
      "text/plain": [
       "'84/365'"
      ]
     },
     "metadata": {},
     "output_type": "display_data"
    },
    {
     "data": {
      "text/plain": [
       "'85/365'"
      ]
     },
     "metadata": {},
     "output_type": "display_data"
    },
    {
     "data": {
      "text/plain": [
       "'86/365'"
      ]
     },
     "metadata": {},
     "output_type": "display_data"
    },
    {
     "data": {
      "text/plain": [
       "'87/365'"
      ]
     },
     "metadata": {},
     "output_type": "display_data"
    },
    {
     "data": {
      "text/plain": [
       "'88/365'"
      ]
     },
     "metadata": {},
     "output_type": "display_data"
    },
    {
     "data": {
      "text/plain": [
       "'89/365'"
      ]
     },
     "metadata": {},
     "output_type": "display_data"
    },
    {
     "data": {
      "text/plain": [
       "'90/365'"
      ]
     },
     "metadata": {},
     "output_type": "display_data"
    },
    {
     "data": {
      "text/plain": [
       "'91/365'"
      ]
     },
     "metadata": {},
     "output_type": "display_data"
    },
    {
     "data": {
      "text/plain": [
       "'92/365'"
      ]
     },
     "metadata": {},
     "output_type": "display_data"
    },
    {
     "data": {
      "text/plain": [
       "'93/365'"
      ]
     },
     "metadata": {},
     "output_type": "display_data"
    },
    {
     "data": {
      "text/plain": [
       "'94/365'"
      ]
     },
     "metadata": {},
     "output_type": "display_data"
    },
    {
     "data": {
      "text/plain": [
       "'95/365'"
      ]
     },
     "metadata": {},
     "output_type": "display_data"
    },
    {
     "data": {
      "text/plain": [
       "'96/365'"
      ]
     },
     "metadata": {},
     "output_type": "display_data"
    },
    {
     "data": {
      "text/plain": [
       "'97/365'"
      ]
     },
     "metadata": {},
     "output_type": "display_data"
    },
    {
     "data": {
      "text/plain": [
       "'98/365'"
      ]
     },
     "metadata": {},
     "output_type": "display_data"
    },
    {
     "data": {
      "text/plain": [
       "'99/365'"
      ]
     },
     "metadata": {},
     "output_type": "display_data"
    },
    {
     "data": {
      "text/plain": [
       "'100/365'"
      ]
     },
     "metadata": {},
     "output_type": "display_data"
    },
    {
     "data": {
      "text/plain": [
       "'101/365'"
      ]
     },
     "metadata": {},
     "output_type": "display_data"
    },
    {
     "data": {
      "text/plain": [
       "'102/365'"
      ]
     },
     "metadata": {},
     "output_type": "display_data"
    },
    {
     "data": {
      "text/plain": [
       "'103/365'"
      ]
     },
     "metadata": {},
     "output_type": "display_data"
    },
    {
     "data": {
      "text/plain": [
       "'104/365'"
      ]
     },
     "metadata": {},
     "output_type": "display_data"
    },
    {
     "data": {
      "text/plain": [
       "'105/365'"
      ]
     },
     "metadata": {},
     "output_type": "display_data"
    },
    {
     "data": {
      "text/plain": [
       "'106/365'"
      ]
     },
     "metadata": {},
     "output_type": "display_data"
    },
    {
     "data": {
      "text/plain": [
       "'107/365'"
      ]
     },
     "metadata": {},
     "output_type": "display_data"
    },
    {
     "data": {
      "text/plain": [
       "'108/365'"
      ]
     },
     "metadata": {},
     "output_type": "display_data"
    },
    {
     "data": {
      "text/plain": [
       "'109/365'"
      ]
     },
     "metadata": {},
     "output_type": "display_data"
    },
    {
     "data": {
      "text/plain": [
       "'110/365'"
      ]
     },
     "metadata": {},
     "output_type": "display_data"
    },
    {
     "data": {
      "text/plain": [
       "'111/365'"
      ]
     },
     "metadata": {},
     "output_type": "display_data"
    },
    {
     "data": {
      "text/plain": [
       "'112/365'"
      ]
     },
     "metadata": {},
     "output_type": "display_data"
    },
    {
     "data": {
      "text/plain": [
       "'113/365'"
      ]
     },
     "metadata": {},
     "output_type": "display_data"
    },
    {
     "data": {
      "text/plain": [
       "'114/365'"
      ]
     },
     "metadata": {},
     "output_type": "display_data"
    },
    {
     "data": {
      "text/plain": [
       "'115/365'"
      ]
     },
     "metadata": {},
     "output_type": "display_data"
    },
    {
     "data": {
      "text/plain": [
       "'116/365'"
      ]
     },
     "metadata": {},
     "output_type": "display_data"
    },
    {
     "data": {
      "text/plain": [
       "'117/365'"
      ]
     },
     "metadata": {},
     "output_type": "display_data"
    },
    {
     "data": {
      "text/plain": [
       "'118/365'"
      ]
     },
     "metadata": {},
     "output_type": "display_data"
    },
    {
     "data": {
      "text/plain": [
       "'119/365'"
      ]
     },
     "metadata": {},
     "output_type": "display_data"
    },
    {
     "data": {
      "text/plain": [
       "'120/365'"
      ]
     },
     "metadata": {},
     "output_type": "display_data"
    },
    {
     "data": {
      "text/plain": [
       "'121/365'"
      ]
     },
     "metadata": {},
     "output_type": "display_data"
    },
    {
     "data": {
      "text/plain": [
       "'122/365'"
      ]
     },
     "metadata": {},
     "output_type": "display_data"
    },
    {
     "data": {
      "text/plain": [
       "'123/365'"
      ]
     },
     "metadata": {},
     "output_type": "display_data"
    },
    {
     "data": {
      "text/plain": [
       "'124/365'"
      ]
     },
     "metadata": {},
     "output_type": "display_data"
    },
    {
     "data": {
      "text/plain": [
       "'125/365'"
      ]
     },
     "metadata": {},
     "output_type": "display_data"
    },
    {
     "data": {
      "text/plain": [
       "'126/365'"
      ]
     },
     "metadata": {},
     "output_type": "display_data"
    },
    {
     "data": {
      "text/plain": [
       "'127/365'"
      ]
     },
     "metadata": {},
     "output_type": "display_data"
    },
    {
     "data": {
      "text/plain": [
       "'128/365'"
      ]
     },
     "metadata": {},
     "output_type": "display_data"
    },
    {
     "data": {
      "text/plain": [
       "'129/365'"
      ]
     },
     "metadata": {},
     "output_type": "display_data"
    },
    {
     "data": {
      "text/plain": [
       "'130/365'"
      ]
     },
     "metadata": {},
     "output_type": "display_data"
    },
    {
     "data": {
      "text/plain": [
       "'131/365'"
      ]
     },
     "metadata": {},
     "output_type": "display_data"
    },
    {
     "data": {
      "text/plain": [
       "'132/365'"
      ]
     },
     "metadata": {},
     "output_type": "display_data"
    },
    {
     "data": {
      "text/plain": [
       "'133/365'"
      ]
     },
     "metadata": {},
     "output_type": "display_data"
    },
    {
     "data": {
      "text/plain": [
       "'134/365'"
      ]
     },
     "metadata": {},
     "output_type": "display_data"
    },
    {
     "data": {
      "text/plain": [
       "'135/365'"
      ]
     },
     "metadata": {},
     "output_type": "display_data"
    },
    {
     "data": {
      "text/plain": [
       "'136/365'"
      ]
     },
     "metadata": {},
     "output_type": "display_data"
    },
    {
     "data": {
      "text/plain": [
       "'137/365'"
      ]
     },
     "metadata": {},
     "output_type": "display_data"
    },
    {
     "data": {
      "text/plain": [
       "'138/365'"
      ]
     },
     "metadata": {},
     "output_type": "display_data"
    },
    {
     "data": {
      "text/plain": [
       "'139/365'"
      ]
     },
     "metadata": {},
     "output_type": "display_data"
    },
    {
     "data": {
      "text/plain": [
       "'140/365'"
      ]
     },
     "metadata": {},
     "output_type": "display_data"
    },
    {
     "data": {
      "text/plain": [
       "'141/365'"
      ]
     },
     "metadata": {},
     "output_type": "display_data"
    },
    {
     "data": {
      "text/plain": [
       "'142/365'"
      ]
     },
     "metadata": {},
     "output_type": "display_data"
    },
    {
     "data": {
      "text/plain": [
       "'143/365'"
      ]
     },
     "metadata": {},
     "output_type": "display_data"
    },
    {
     "data": {
      "text/plain": [
       "'144/365'"
      ]
     },
     "metadata": {},
     "output_type": "display_data"
    },
    {
     "data": {
      "text/plain": [
       "'145/365'"
      ]
     },
     "metadata": {},
     "output_type": "display_data"
    },
    {
     "data": {
      "text/plain": [
       "'146/365'"
      ]
     },
     "metadata": {},
     "output_type": "display_data"
    },
    {
     "data": {
      "text/plain": [
       "'147/365'"
      ]
     },
     "metadata": {},
     "output_type": "display_data"
    },
    {
     "data": {
      "text/plain": [
       "'148/365'"
      ]
     },
     "metadata": {},
     "output_type": "display_data"
    },
    {
     "data": {
      "text/plain": [
       "'149/365'"
      ]
     },
     "metadata": {},
     "output_type": "display_data"
    },
    {
     "data": {
      "text/plain": [
       "'150/365'"
      ]
     },
     "metadata": {},
     "output_type": "display_data"
    },
    {
     "data": {
      "text/plain": [
       "'151/365'"
      ]
     },
     "metadata": {},
     "output_type": "display_data"
    },
    {
     "data": {
      "text/plain": [
       "'152/365'"
      ]
     },
     "metadata": {},
     "output_type": "display_data"
    },
    {
     "data": {
      "text/plain": [
       "'153/365'"
      ]
     },
     "metadata": {},
     "output_type": "display_data"
    },
    {
     "data": {
      "text/plain": [
       "'154/365'"
      ]
     },
     "metadata": {},
     "output_type": "display_data"
    },
    {
     "data": {
      "text/plain": [
       "'155/365'"
      ]
     },
     "metadata": {},
     "output_type": "display_data"
    },
    {
     "data": {
      "text/plain": [
       "'156/365'"
      ]
     },
     "metadata": {},
     "output_type": "display_data"
    },
    {
     "data": {
      "text/plain": [
       "'157/365'"
      ]
     },
     "metadata": {},
     "output_type": "display_data"
    },
    {
     "data": {
      "text/plain": [
       "'158/365'"
      ]
     },
     "metadata": {},
     "output_type": "display_data"
    },
    {
     "data": {
      "text/plain": [
       "'159/365'"
      ]
     },
     "metadata": {},
     "output_type": "display_data"
    },
    {
     "data": {
      "text/plain": [
       "'160/365'"
      ]
     },
     "metadata": {},
     "output_type": "display_data"
    },
    {
     "data": {
      "text/plain": [
       "'161/365'"
      ]
     },
     "metadata": {},
     "output_type": "display_data"
    },
    {
     "data": {
      "text/plain": [
       "'162/365'"
      ]
     },
     "metadata": {},
     "output_type": "display_data"
    },
    {
     "data": {
      "text/plain": [
       "'163/365'"
      ]
     },
     "metadata": {},
     "output_type": "display_data"
    },
    {
     "data": {
      "text/plain": [
       "'164/365'"
      ]
     },
     "metadata": {},
     "output_type": "display_data"
    },
    {
     "data": {
      "text/plain": [
       "'165/365'"
      ]
     },
     "metadata": {},
     "output_type": "display_data"
    },
    {
     "data": {
      "text/plain": [
       "'166/365'"
      ]
     },
     "metadata": {},
     "output_type": "display_data"
    },
    {
     "data": {
      "text/plain": [
       "'167/365'"
      ]
     },
     "metadata": {},
     "output_type": "display_data"
    },
    {
     "data": {
      "text/plain": [
       "'168/365'"
      ]
     },
     "metadata": {},
     "output_type": "display_data"
    },
    {
     "data": {
      "text/plain": [
       "'169/365'"
      ]
     },
     "metadata": {},
     "output_type": "display_data"
    },
    {
     "data": {
      "text/plain": [
       "'170/365'"
      ]
     },
     "metadata": {},
     "output_type": "display_data"
    },
    {
     "data": {
      "text/plain": [
       "'171/365'"
      ]
     },
     "metadata": {},
     "output_type": "display_data"
    },
    {
     "data": {
      "text/plain": [
       "'172/365'"
      ]
     },
     "metadata": {},
     "output_type": "display_data"
    },
    {
     "data": {
      "text/plain": [
       "'173/365'"
      ]
     },
     "metadata": {},
     "output_type": "display_data"
    },
    {
     "data": {
      "text/plain": [
       "'174/365'"
      ]
     },
     "metadata": {},
     "output_type": "display_data"
    },
    {
     "data": {
      "text/plain": [
       "'175/365'"
      ]
     },
     "metadata": {},
     "output_type": "display_data"
    },
    {
     "data": {
      "text/plain": [
       "'176/365'"
      ]
     },
     "metadata": {},
     "output_type": "display_data"
    },
    {
     "data": {
      "text/plain": [
       "'177/365'"
      ]
     },
     "metadata": {},
     "output_type": "display_data"
    },
    {
     "data": {
      "text/plain": [
       "'178/365'"
      ]
     },
     "metadata": {},
     "output_type": "display_data"
    },
    {
     "data": {
      "text/plain": [
       "'179/365'"
      ]
     },
     "metadata": {},
     "output_type": "display_data"
    },
    {
     "data": {
      "text/plain": [
       "'180/365'"
      ]
     },
     "metadata": {},
     "output_type": "display_data"
    },
    {
     "data": {
      "text/plain": [
       "'181/365'"
      ]
     },
     "metadata": {},
     "output_type": "display_data"
    },
    {
     "data": {
      "text/plain": [
       "'182/365'"
      ]
     },
     "metadata": {},
     "output_type": "display_data"
    },
    {
     "data": {
      "text/plain": [
       "'183/365'"
      ]
     },
     "metadata": {},
     "output_type": "display_data"
    },
    {
     "data": {
      "text/plain": [
       "'184/365'"
      ]
     },
     "metadata": {},
     "output_type": "display_data"
    },
    {
     "data": {
      "text/plain": [
       "'185/365'"
      ]
     },
     "metadata": {},
     "output_type": "display_data"
    },
    {
     "data": {
      "text/plain": [
       "'186/365'"
      ]
     },
     "metadata": {},
     "output_type": "display_data"
    },
    {
     "data": {
      "text/plain": [
       "'187/365'"
      ]
     },
     "metadata": {},
     "output_type": "display_data"
    },
    {
     "data": {
      "text/plain": [
       "'188/365'"
      ]
     },
     "metadata": {},
     "output_type": "display_data"
    },
    {
     "data": {
      "text/plain": [
       "'189/365'"
      ]
     },
     "metadata": {},
     "output_type": "display_data"
    },
    {
     "data": {
      "text/plain": [
       "'190/365'"
      ]
     },
     "metadata": {},
     "output_type": "display_data"
    },
    {
     "data": {
      "text/plain": [
       "'191/365'"
      ]
     },
     "metadata": {},
     "output_type": "display_data"
    },
    {
     "data": {
      "text/plain": [
       "'192/365'"
      ]
     },
     "metadata": {},
     "output_type": "display_data"
    },
    {
     "data": {
      "text/plain": [
       "'193/365'"
      ]
     },
     "metadata": {},
     "output_type": "display_data"
    },
    {
     "data": {
      "text/plain": [
       "'194/365'"
      ]
     },
     "metadata": {},
     "output_type": "display_data"
    },
    {
     "data": {
      "text/plain": [
       "'195/365'"
      ]
     },
     "metadata": {},
     "output_type": "display_data"
    },
    {
     "data": {
      "text/plain": [
       "'196/365'"
      ]
     },
     "metadata": {},
     "output_type": "display_data"
    },
    {
     "data": {
      "text/plain": [
       "'197/365'"
      ]
     },
     "metadata": {},
     "output_type": "display_data"
    },
    {
     "data": {
      "text/plain": [
       "'198/365'"
      ]
     },
     "metadata": {},
     "output_type": "display_data"
    },
    {
     "data": {
      "text/plain": [
       "'199/365'"
      ]
     },
     "metadata": {},
     "output_type": "display_data"
    },
    {
     "data": {
      "text/plain": [
       "'200/365'"
      ]
     },
     "metadata": {},
     "output_type": "display_data"
    },
    {
     "data": {
      "text/plain": [
       "'201/365'"
      ]
     },
     "metadata": {},
     "output_type": "display_data"
    },
    {
     "data": {
      "text/plain": [
       "'202/365'"
      ]
     },
     "metadata": {},
     "output_type": "display_data"
    },
    {
     "data": {
      "text/plain": [
       "'203/365'"
      ]
     },
     "metadata": {},
     "output_type": "display_data"
    },
    {
     "data": {
      "text/plain": [
       "'204/365'"
      ]
     },
     "metadata": {},
     "output_type": "display_data"
    },
    {
     "data": {
      "text/plain": [
       "'205/365'"
      ]
     },
     "metadata": {},
     "output_type": "display_data"
    },
    {
     "data": {
      "text/plain": [
       "'206/365'"
      ]
     },
     "metadata": {},
     "output_type": "display_data"
    },
    {
     "data": {
      "text/plain": [
       "'207/365'"
      ]
     },
     "metadata": {},
     "output_type": "display_data"
    },
    {
     "data": {
      "text/plain": [
       "'208/365'"
      ]
     },
     "metadata": {},
     "output_type": "display_data"
    },
    {
     "data": {
      "text/plain": [
       "'209/365'"
      ]
     },
     "metadata": {},
     "output_type": "display_data"
    },
    {
     "data": {
      "text/plain": [
       "'210/365'"
      ]
     },
     "metadata": {},
     "output_type": "display_data"
    },
    {
     "data": {
      "text/plain": [
       "'211/365'"
      ]
     },
     "metadata": {},
     "output_type": "display_data"
    },
    {
     "data": {
      "text/plain": [
       "'212/365'"
      ]
     },
     "metadata": {},
     "output_type": "display_data"
    },
    {
     "data": {
      "text/plain": [
       "'213/365'"
      ]
     },
     "metadata": {},
     "output_type": "display_data"
    },
    {
     "data": {
      "text/plain": [
       "'214/365'"
      ]
     },
     "metadata": {},
     "output_type": "display_data"
    },
    {
     "data": {
      "text/plain": [
       "'215/365'"
      ]
     },
     "metadata": {},
     "output_type": "display_data"
    },
    {
     "data": {
      "text/plain": [
       "'216/365'"
      ]
     },
     "metadata": {},
     "output_type": "display_data"
    },
    {
     "data": {
      "text/plain": [
       "'217/365'"
      ]
     },
     "metadata": {},
     "output_type": "display_data"
    },
    {
     "data": {
      "text/plain": [
       "'218/365'"
      ]
     },
     "metadata": {},
     "output_type": "display_data"
    },
    {
     "data": {
      "text/plain": [
       "'219/365'"
      ]
     },
     "metadata": {},
     "output_type": "display_data"
    },
    {
     "data": {
      "text/plain": [
       "'220/365'"
      ]
     },
     "metadata": {},
     "output_type": "display_data"
    },
    {
     "data": {
      "text/plain": [
       "'221/365'"
      ]
     },
     "metadata": {},
     "output_type": "display_data"
    },
    {
     "data": {
      "text/plain": [
       "'222/365'"
      ]
     },
     "metadata": {},
     "output_type": "display_data"
    },
    {
     "data": {
      "text/plain": [
       "'223/365'"
      ]
     },
     "metadata": {},
     "output_type": "display_data"
    },
    {
     "data": {
      "text/plain": [
       "'224/365'"
      ]
     },
     "metadata": {},
     "output_type": "display_data"
    },
    {
     "data": {
      "text/plain": [
       "'225/365'"
      ]
     },
     "metadata": {},
     "output_type": "display_data"
    },
    {
     "data": {
      "text/plain": [
       "'226/365'"
      ]
     },
     "metadata": {},
     "output_type": "display_data"
    },
    {
     "data": {
      "text/plain": [
       "'227/365'"
      ]
     },
     "metadata": {},
     "output_type": "display_data"
    },
    {
     "data": {
      "text/plain": [
       "'228/365'"
      ]
     },
     "metadata": {},
     "output_type": "display_data"
    },
    {
     "data": {
      "text/plain": [
       "'229/365'"
      ]
     },
     "metadata": {},
     "output_type": "display_data"
    },
    {
     "data": {
      "text/plain": [
       "'230/365'"
      ]
     },
     "metadata": {},
     "output_type": "display_data"
    },
    {
     "data": {
      "text/plain": [
       "'231/365'"
      ]
     },
     "metadata": {},
     "output_type": "display_data"
    },
    {
     "data": {
      "text/plain": [
       "'232/365'"
      ]
     },
     "metadata": {},
     "output_type": "display_data"
    },
    {
     "data": {
      "text/plain": [
       "'233/365'"
      ]
     },
     "metadata": {},
     "output_type": "display_data"
    },
    {
     "data": {
      "text/plain": [
       "'234/365'"
      ]
     },
     "metadata": {},
     "output_type": "display_data"
    },
    {
     "data": {
      "text/plain": [
       "'235/365'"
      ]
     },
     "metadata": {},
     "output_type": "display_data"
    },
    {
     "data": {
      "text/plain": [
       "'236/365'"
      ]
     },
     "metadata": {},
     "output_type": "display_data"
    },
    {
     "data": {
      "text/plain": [
       "'237/365'"
      ]
     },
     "metadata": {},
     "output_type": "display_data"
    },
    {
     "data": {
      "text/plain": [
       "'238/365'"
      ]
     },
     "metadata": {},
     "output_type": "display_data"
    },
    {
     "data": {
      "text/plain": [
       "'239/365'"
      ]
     },
     "metadata": {},
     "output_type": "display_data"
    },
    {
     "data": {
      "text/plain": [
       "'240/365'"
      ]
     },
     "metadata": {},
     "output_type": "display_data"
    },
    {
     "data": {
      "text/plain": [
       "'241/365'"
      ]
     },
     "metadata": {},
     "output_type": "display_data"
    },
    {
     "data": {
      "text/plain": [
       "'242/365'"
      ]
     },
     "metadata": {},
     "output_type": "display_data"
    },
    {
     "data": {
      "text/plain": [
       "'243/365'"
      ]
     },
     "metadata": {},
     "output_type": "display_data"
    },
    {
     "data": {
      "text/plain": [
       "'244/365'"
      ]
     },
     "metadata": {},
     "output_type": "display_data"
    },
    {
     "data": {
      "text/plain": [
       "'245/365'"
      ]
     },
     "metadata": {},
     "output_type": "display_data"
    },
    {
     "data": {
      "text/plain": [
       "'246/365'"
      ]
     },
     "metadata": {},
     "output_type": "display_data"
    },
    {
     "data": {
      "text/plain": [
       "'247/365'"
      ]
     },
     "metadata": {},
     "output_type": "display_data"
    },
    {
     "data": {
      "text/plain": [
       "'248/365'"
      ]
     },
     "metadata": {},
     "output_type": "display_data"
    },
    {
     "data": {
      "text/plain": [
       "'249/365'"
      ]
     },
     "metadata": {},
     "output_type": "display_data"
    },
    {
     "data": {
      "text/plain": [
       "'250/365'"
      ]
     },
     "metadata": {},
     "output_type": "display_data"
    },
    {
     "data": {
      "text/plain": [
       "'251/365'"
      ]
     },
     "metadata": {},
     "output_type": "display_data"
    },
    {
     "data": {
      "text/plain": [
       "'252/365'"
      ]
     },
     "metadata": {},
     "output_type": "display_data"
    },
    {
     "data": {
      "text/plain": [
       "'253/365'"
      ]
     },
     "metadata": {},
     "output_type": "display_data"
    },
    {
     "data": {
      "text/plain": [
       "'254/365'"
      ]
     },
     "metadata": {},
     "output_type": "display_data"
    },
    {
     "data": {
      "text/plain": [
       "'255/365'"
      ]
     },
     "metadata": {},
     "output_type": "display_data"
    },
    {
     "data": {
      "text/plain": [
       "'256/365'"
      ]
     },
     "metadata": {},
     "output_type": "display_data"
    },
    {
     "data": {
      "text/plain": [
       "'257/365'"
      ]
     },
     "metadata": {},
     "output_type": "display_data"
    },
    {
     "data": {
      "text/plain": [
       "'258/365'"
      ]
     },
     "metadata": {},
     "output_type": "display_data"
    },
    {
     "data": {
      "text/plain": [
       "'259/365'"
      ]
     },
     "metadata": {},
     "output_type": "display_data"
    },
    {
     "data": {
      "text/plain": [
       "'260/365'"
      ]
     },
     "metadata": {},
     "output_type": "display_data"
    },
    {
     "data": {
      "text/plain": [
       "'261/365'"
      ]
     },
     "metadata": {},
     "output_type": "display_data"
    },
    {
     "data": {
      "text/plain": [
       "'262/365'"
      ]
     },
     "metadata": {},
     "output_type": "display_data"
    },
    {
     "data": {
      "text/plain": [
       "'263/365'"
      ]
     },
     "metadata": {},
     "output_type": "display_data"
    },
    {
     "data": {
      "text/plain": [
       "'264/365'"
      ]
     },
     "metadata": {},
     "output_type": "display_data"
    },
    {
     "data": {
      "text/plain": [
       "'265/365'"
      ]
     },
     "metadata": {},
     "output_type": "display_data"
    },
    {
     "data": {
      "text/plain": [
       "'266/365'"
      ]
     },
     "metadata": {},
     "output_type": "display_data"
    },
    {
     "data": {
      "text/plain": [
       "'267/365'"
      ]
     },
     "metadata": {},
     "output_type": "display_data"
    },
    {
     "data": {
      "text/plain": [
       "'268/365'"
      ]
     },
     "metadata": {},
     "output_type": "display_data"
    },
    {
     "data": {
      "text/plain": [
       "'269/365'"
      ]
     },
     "metadata": {},
     "output_type": "display_data"
    },
    {
     "data": {
      "text/plain": [
       "'270/365'"
      ]
     },
     "metadata": {},
     "output_type": "display_data"
    },
    {
     "data": {
      "text/plain": [
       "'271/365'"
      ]
     },
     "metadata": {},
     "output_type": "display_data"
    },
    {
     "data": {
      "text/plain": [
       "'272/365'"
      ]
     },
     "metadata": {},
     "output_type": "display_data"
    },
    {
     "data": {
      "text/plain": [
       "'273/365'"
      ]
     },
     "metadata": {},
     "output_type": "display_data"
    },
    {
     "data": {
      "text/plain": [
       "'274/365'"
      ]
     },
     "metadata": {},
     "output_type": "display_data"
    },
    {
     "data": {
      "text/plain": [
       "'275/365'"
      ]
     },
     "metadata": {},
     "output_type": "display_data"
    },
    {
     "data": {
      "text/plain": [
       "'276/365'"
      ]
     },
     "metadata": {},
     "output_type": "display_data"
    },
    {
     "data": {
      "text/plain": [
       "'277/365'"
      ]
     },
     "metadata": {},
     "output_type": "display_data"
    },
    {
     "data": {
      "text/plain": [
       "'278/365'"
      ]
     },
     "metadata": {},
     "output_type": "display_data"
    },
    {
     "data": {
      "text/plain": [
       "'279/365'"
      ]
     },
     "metadata": {},
     "output_type": "display_data"
    },
    {
     "data": {
      "text/plain": [
       "'280/365'"
      ]
     },
     "metadata": {},
     "output_type": "display_data"
    },
    {
     "data": {
      "text/plain": [
       "'281/365'"
      ]
     },
     "metadata": {},
     "output_type": "display_data"
    },
    {
     "data": {
      "text/plain": [
       "'282/365'"
      ]
     },
     "metadata": {},
     "output_type": "display_data"
    },
    {
     "data": {
      "text/plain": [
       "'283/365'"
      ]
     },
     "metadata": {},
     "output_type": "display_data"
    },
    {
     "data": {
      "text/plain": [
       "'284/365'"
      ]
     },
     "metadata": {},
     "output_type": "display_data"
    },
    {
     "data": {
      "text/plain": [
       "'285/365'"
      ]
     },
     "metadata": {},
     "output_type": "display_data"
    },
    {
     "data": {
      "text/plain": [
       "'286/365'"
      ]
     },
     "metadata": {},
     "output_type": "display_data"
    },
    {
     "data": {
      "text/plain": [
       "'287/365'"
      ]
     },
     "metadata": {},
     "output_type": "display_data"
    },
    {
     "data": {
      "text/plain": [
       "'288/365'"
      ]
     },
     "metadata": {},
     "output_type": "display_data"
    },
    {
     "data": {
      "text/plain": [
       "'289/365'"
      ]
     },
     "metadata": {},
     "output_type": "display_data"
    },
    {
     "data": {
      "text/plain": [
       "'290/365'"
      ]
     },
     "metadata": {},
     "output_type": "display_data"
    },
    {
     "data": {
      "text/plain": [
       "'291/365'"
      ]
     },
     "metadata": {},
     "output_type": "display_data"
    },
    {
     "data": {
      "text/plain": [
       "'292/365'"
      ]
     },
     "metadata": {},
     "output_type": "display_data"
    },
    {
     "data": {
      "text/plain": [
       "'293/365'"
      ]
     },
     "metadata": {},
     "output_type": "display_data"
    },
    {
     "data": {
      "text/plain": [
       "'294/365'"
      ]
     },
     "metadata": {},
     "output_type": "display_data"
    },
    {
     "data": {
      "text/plain": [
       "'295/365'"
      ]
     },
     "metadata": {},
     "output_type": "display_data"
    },
    {
     "data": {
      "text/plain": [
       "'296/365'"
      ]
     },
     "metadata": {},
     "output_type": "display_data"
    },
    {
     "data": {
      "text/plain": [
       "'297/365'"
      ]
     },
     "metadata": {},
     "output_type": "display_data"
    },
    {
     "data": {
      "text/plain": [
       "'298/365'"
      ]
     },
     "metadata": {},
     "output_type": "display_data"
    },
    {
     "data": {
      "text/plain": [
       "'299/365'"
      ]
     },
     "metadata": {},
     "output_type": "display_data"
    },
    {
     "data": {
      "text/plain": [
       "'300/365'"
      ]
     },
     "metadata": {},
     "output_type": "display_data"
    },
    {
     "data": {
      "text/plain": [
       "'301/365'"
      ]
     },
     "metadata": {},
     "output_type": "display_data"
    },
    {
     "data": {
      "text/plain": [
       "'302/365'"
      ]
     },
     "metadata": {},
     "output_type": "display_data"
    },
    {
     "data": {
      "text/plain": [
       "'303/365'"
      ]
     },
     "metadata": {},
     "output_type": "display_data"
    },
    {
     "data": {
      "text/plain": [
       "'304/365'"
      ]
     },
     "metadata": {},
     "output_type": "display_data"
    },
    {
     "data": {
      "text/plain": [
       "'305/365'"
      ]
     },
     "metadata": {},
     "output_type": "display_data"
    },
    {
     "data": {
      "text/plain": [
       "'306/365'"
      ]
     },
     "metadata": {},
     "output_type": "display_data"
    },
    {
     "data": {
      "text/plain": [
       "'307/365'"
      ]
     },
     "metadata": {},
     "output_type": "display_data"
    },
    {
     "data": {
      "text/plain": [
       "'308/365'"
      ]
     },
     "metadata": {},
     "output_type": "display_data"
    },
    {
     "data": {
      "text/plain": [
       "'309/365'"
      ]
     },
     "metadata": {},
     "output_type": "display_data"
    },
    {
     "data": {
      "text/plain": [
       "'310/365'"
      ]
     },
     "metadata": {},
     "output_type": "display_data"
    },
    {
     "data": {
      "text/plain": [
       "'311/365'"
      ]
     },
     "metadata": {},
     "output_type": "display_data"
    },
    {
     "data": {
      "text/plain": [
       "'312/365'"
      ]
     },
     "metadata": {},
     "output_type": "display_data"
    },
    {
     "data": {
      "text/plain": [
       "'313/365'"
      ]
     },
     "metadata": {},
     "output_type": "display_data"
    },
    {
     "data": {
      "text/plain": [
       "'314/365'"
      ]
     },
     "metadata": {},
     "output_type": "display_data"
    },
    {
     "data": {
      "text/plain": [
       "'315/365'"
      ]
     },
     "metadata": {},
     "output_type": "display_data"
    },
    {
     "data": {
      "text/plain": [
       "'316/365'"
      ]
     },
     "metadata": {},
     "output_type": "display_data"
    },
    {
     "data": {
      "text/plain": [
       "'317/365'"
      ]
     },
     "metadata": {},
     "output_type": "display_data"
    },
    {
     "data": {
      "text/plain": [
       "'318/365'"
      ]
     },
     "metadata": {},
     "output_type": "display_data"
    },
    {
     "data": {
      "text/plain": [
       "'319/365'"
      ]
     },
     "metadata": {},
     "output_type": "display_data"
    },
    {
     "data": {
      "text/plain": [
       "'320/365'"
      ]
     },
     "metadata": {},
     "output_type": "display_data"
    },
    {
     "data": {
      "text/plain": [
       "'321/365'"
      ]
     },
     "metadata": {},
     "output_type": "display_data"
    },
    {
     "data": {
      "text/plain": [
       "'322/365'"
      ]
     },
     "metadata": {},
     "output_type": "display_data"
    },
    {
     "data": {
      "text/plain": [
       "'323/365'"
      ]
     },
     "metadata": {},
     "output_type": "display_data"
    },
    {
     "data": {
      "text/plain": [
       "'324/365'"
      ]
     },
     "metadata": {},
     "output_type": "display_data"
    },
    {
     "data": {
      "text/plain": [
       "'325/365'"
      ]
     },
     "metadata": {},
     "output_type": "display_data"
    },
    {
     "data": {
      "text/plain": [
       "'326/365'"
      ]
     },
     "metadata": {},
     "output_type": "display_data"
    },
    {
     "data": {
      "text/plain": [
       "'327/365'"
      ]
     },
     "metadata": {},
     "output_type": "display_data"
    },
    {
     "data": {
      "text/plain": [
       "'328/365'"
      ]
     },
     "metadata": {},
     "output_type": "display_data"
    },
    {
     "data": {
      "text/plain": [
       "'329/365'"
      ]
     },
     "metadata": {},
     "output_type": "display_data"
    },
    {
     "data": {
      "text/plain": [
       "'330/365'"
      ]
     },
     "metadata": {},
     "output_type": "display_data"
    },
    {
     "data": {
      "text/plain": [
       "'331/365'"
      ]
     },
     "metadata": {},
     "output_type": "display_data"
    },
    {
     "data": {
      "text/plain": [
       "'332/365'"
      ]
     },
     "metadata": {},
     "output_type": "display_data"
    },
    {
     "data": {
      "text/plain": [
       "'333/365'"
      ]
     },
     "metadata": {},
     "output_type": "display_data"
    },
    {
     "data": {
      "text/plain": [
       "'334/365'"
      ]
     },
     "metadata": {},
     "output_type": "display_data"
    },
    {
     "data": {
      "text/plain": [
       "'335/365'"
      ]
     },
     "metadata": {},
     "output_type": "display_data"
    },
    {
     "data": {
      "text/plain": [
       "'336/365'"
      ]
     },
     "metadata": {},
     "output_type": "display_data"
    },
    {
     "data": {
      "text/plain": [
       "'337/365'"
      ]
     },
     "metadata": {},
     "output_type": "display_data"
    },
    {
     "data": {
      "text/plain": [
       "'338/365'"
      ]
     },
     "metadata": {},
     "output_type": "display_data"
    },
    {
     "data": {
      "text/plain": [
       "'339/365'"
      ]
     },
     "metadata": {},
     "output_type": "display_data"
    },
    {
     "data": {
      "text/plain": [
       "'340/365'"
      ]
     },
     "metadata": {},
     "output_type": "display_data"
    },
    {
     "data": {
      "text/plain": [
       "'341/365'"
      ]
     },
     "metadata": {},
     "output_type": "display_data"
    },
    {
     "data": {
      "text/plain": [
       "'342/365'"
      ]
     },
     "metadata": {},
     "output_type": "display_data"
    },
    {
     "data": {
      "text/plain": [
       "'343/365'"
      ]
     },
     "metadata": {},
     "output_type": "display_data"
    },
    {
     "data": {
      "text/plain": [
       "'344/365'"
      ]
     },
     "metadata": {},
     "output_type": "display_data"
    },
    {
     "data": {
      "text/plain": [
       "'345/365'"
      ]
     },
     "metadata": {},
     "output_type": "display_data"
    },
    {
     "data": {
      "text/plain": [
       "'346/365'"
      ]
     },
     "metadata": {},
     "output_type": "display_data"
    },
    {
     "data": {
      "text/plain": [
       "'347/365'"
      ]
     },
     "metadata": {},
     "output_type": "display_data"
    },
    {
     "data": {
      "text/plain": [
       "'348/365'"
      ]
     },
     "metadata": {},
     "output_type": "display_data"
    },
    {
     "data": {
      "text/plain": [
       "'349/365'"
      ]
     },
     "metadata": {},
     "output_type": "display_data"
    },
    {
     "data": {
      "text/plain": [
       "'350/365'"
      ]
     },
     "metadata": {},
     "output_type": "display_data"
    },
    {
     "data": {
      "text/plain": [
       "'351/365'"
      ]
     },
     "metadata": {},
     "output_type": "display_data"
    },
    {
     "data": {
      "text/plain": [
       "'352/365'"
      ]
     },
     "metadata": {},
     "output_type": "display_data"
    },
    {
     "data": {
      "text/plain": [
       "'353/365'"
      ]
     },
     "metadata": {},
     "output_type": "display_data"
    },
    {
     "data": {
      "text/plain": [
       "'354/365'"
      ]
     },
     "metadata": {},
     "output_type": "display_data"
    },
    {
     "data": {
      "text/plain": [
       "'355/365'"
      ]
     },
     "metadata": {},
     "output_type": "display_data"
    },
    {
     "data": {
      "text/plain": [
       "'356/365'"
      ]
     },
     "metadata": {},
     "output_type": "display_data"
    },
    {
     "data": {
      "text/plain": [
       "'357/365'"
      ]
     },
     "metadata": {},
     "output_type": "display_data"
    },
    {
     "data": {
      "text/plain": [
       "'358/365'"
      ]
     },
     "metadata": {},
     "output_type": "display_data"
    },
    {
     "data": {
      "text/plain": [
       "'359/365'"
      ]
     },
     "metadata": {},
     "output_type": "display_data"
    },
    {
     "data": {
      "text/plain": [
       "'360/365'"
      ]
     },
     "metadata": {},
     "output_type": "display_data"
    },
    {
     "data": {
      "text/plain": [
       "'361/365'"
      ]
     },
     "metadata": {},
     "output_type": "display_data"
    },
    {
     "data": {
      "text/plain": [
       "'362/365'"
      ]
     },
     "metadata": {},
     "output_type": "display_data"
    },
    {
     "data": {
      "text/plain": [
       "'363/365'"
      ]
     },
     "metadata": {},
     "output_type": "display_data"
    },
    {
     "data": {
      "text/plain": [
       "'364/365'"
      ]
     },
     "metadata": {},
     "output_type": "display_data"
    },
    {
     "data": {
      "text/plain": [
       "'365/365'"
      ]
     },
     "metadata": {},
     "output_type": "display_data"
    }
   ],
   "source": [
    "inflow = np.zeros((365,24))\n",
    "for s in range(0,365):\n",
    "    command = (\"SELECT t_day,vflow_in FROM Output_VFlow_In \" \n",
    "              \"WHERE tech IS 'LI_BATTERY' \" \n",
    "              \"AND scenario IS 'uniform_lifespan_MGA'\"\n",
    "              f\"AND t_season IS 'S{s+1}'\")\n",
    "    data = cursor.execute(command)\n",
    "\n",
    "    d = cursor.fetchall()\n",
    "    display(f\"{s+1}/365\")\n",
    "    outflow[s] = sorted_flow_out(d)\n",
    "#     display(outflow[s])"
   ]
  },
  {
   "cell_type": "code",
   "execution_count": 160,
   "metadata": {},
   "outputs": [
    {
     "data": {
      "text/plain": [
       "0.0"
      ]
     },
     "execution_count": 160,
     "metadata": {},
     "output_type": "execute_result"
    }
   ],
   "source": [
    "np.dot(outflow.flatten(), inflow.flatten())"
   ]
  },
  {
   "cell_type": "code",
   "execution_count": 71,
   "metadata": {},
   "outputs": [
    {
     "data": {
      "text/plain": [
       "[('time_season',),\n",
       " ('time_period_labels',),\n",
       " ('time_periods',),\n",
       " ('time_of_day',),\n",
       " ('SegFrac',),\n",
       " ('regions',),\n",
       " ('commodity_labels',),\n",
       " ('commodities',),\n",
       " ('EmissionLimit',),\n",
       " ('GlobalDiscountRate',),\n",
       " ('PlanningReserveMargin',),\n",
       " ('Demand',),\n",
       " ('DemandSpecificDistribution',),\n",
       " ('technology_labels',),\n",
       " ('sector_labels',),\n",
       " ('technologies',),\n",
       " ('CapacityToActivity',),\n",
       " ('LifetimeTech',),\n",
       " ('LifetimeLoanTech',),\n",
       " ('tech_reserve',),\n",
       " ('tech_ramping',),\n",
       " ('RampUp',),\n",
       " ('RampDown',),\n",
       " ('StorageDuration',),\n",
       " ('tech_curtailment',),\n",
       " ('tech_exchange',),\n",
       " ('MaxCapacity',),\n",
       " ('MinCapacity',),\n",
       " ('TechInputSplit',),\n",
       " ('Efficiency',),\n",
       " ('EmissionActivity',),\n",
       " ('CostInvest',),\n",
       " ('CostVariable',),\n",
       " ('CostFixed',),\n",
       " ('CapacityFactorTech',),\n",
       " ('MyopicBaseyear',),\n",
       " ('LifetimeProcess',),\n",
       " ('Output_V_Capacity',),\n",
       " ('Output_VFlow_Out',),\n",
       " ('Output_VFlow_In',),\n",
       " ('Output_Objective',),\n",
       " ('Output_Curtailment',),\n",
       " ('Output_Emissions',),\n",
       " ('Output_Costs',),\n",
       " ('Output_Duals',),\n",
       " ('Output_CapacityByPeriodAndTech',)]"
      ]
     },
     "execution_count": 71,
     "metadata": {},
     "output_type": "execute_result"
    }
   ],
   "source": [
    "command = \"SELECT name from sqlite_master WHERE type IS 'table'\"\n",
    "cursor.execute(command)\n",
    "cursor.fetchall()"
   ]
  },
  {
   "cell_type": "code",
   "execution_count": 156,
   "metadata": {},
   "outputs": [
    {
     "data": {
      "text/plain": [
       "(('t_season', None, None, None, None, None, None),)"
      ]
     },
     "metadata": {},
     "output_type": "display_data"
    },
    {
     "data": {
      "text/plain": [
       "array([['S1'],\n",
       "       ['S2'],\n",
       "       ['S3'],\n",
       "       ['S4'],\n",
       "       ['S5'],\n",
       "       ['S6'],\n",
       "       ['S7'],\n",
       "       ['S8'],\n",
       "       ['S9'],\n",
       "       ['S10'],\n",
       "       ['S11'],\n",
       "       ['S12'],\n",
       "       ['S13'],\n",
       "       ['S14'],\n",
       "       ['S15'],\n",
       "       ['S16'],\n",
       "       ['S17'],\n",
       "       ['S18'],\n",
       "       ['S19'],\n",
       "       ['S20'],\n",
       "       ['S21'],\n",
       "       ['S22'],\n",
       "       ['S23'],\n",
       "       ['S24'],\n",
       "       ['S25'],\n",
       "       ['S26'],\n",
       "       ['S27'],\n",
       "       ['S28'],\n",
       "       ['S29'],\n",
       "       ['S30'],\n",
       "       ['S31'],\n",
       "       ['S32'],\n",
       "       ['S33'],\n",
       "       ['S34'],\n",
       "       ['S35'],\n",
       "       ['S36'],\n",
       "       ['S37'],\n",
       "       ['S38'],\n",
       "       ['S39'],\n",
       "       ['S40'],\n",
       "       ['S41'],\n",
       "       ['S42'],\n",
       "       ['S43'],\n",
       "       ['S44'],\n",
       "       ['S45'],\n",
       "       ['S46'],\n",
       "       ['S47'],\n",
       "       ['S48'],\n",
       "       ['S49'],\n",
       "       ['S50'],\n",
       "       ['S51'],\n",
       "       ['S52'],\n",
       "       ['S53'],\n",
       "       ['S54'],\n",
       "       ['S55'],\n",
       "       ['S56'],\n",
       "       ['S57'],\n",
       "       ['S58'],\n",
       "       ['S59'],\n",
       "       ['S60'],\n",
       "       ['S61'],\n",
       "       ['S62'],\n",
       "       ['S63'],\n",
       "       ['S64'],\n",
       "       ['S65'],\n",
       "       ['S66'],\n",
       "       ['S67'],\n",
       "       ['S68'],\n",
       "       ['S69'],\n",
       "       ['S70'],\n",
       "       ['S71'],\n",
       "       ['S72'],\n",
       "       ['S73'],\n",
       "       ['S74'],\n",
       "       ['S75'],\n",
       "       ['S76'],\n",
       "       ['S77'],\n",
       "       ['S78'],\n",
       "       ['S79'],\n",
       "       ['S80'],\n",
       "       ['S81'],\n",
       "       ['S82'],\n",
       "       ['S83'],\n",
       "       ['S84'],\n",
       "       ['S85'],\n",
       "       ['S86'],\n",
       "       ['S87'],\n",
       "       ['S88'],\n",
       "       ['S89'],\n",
       "       ['S90'],\n",
       "       ['S91'],\n",
       "       ['S92'],\n",
       "       ['S93'],\n",
       "       ['S94'],\n",
       "       ['S95'],\n",
       "       ['S96'],\n",
       "       ['S97'],\n",
       "       ['S98'],\n",
       "       ['S99'],\n",
       "       ['S100'],\n",
       "       ['S101'],\n",
       "       ['S102'],\n",
       "       ['S103'],\n",
       "       ['S104'],\n",
       "       ['S105'],\n",
       "       ['S106'],\n",
       "       ['S107'],\n",
       "       ['S108'],\n",
       "       ['S109'],\n",
       "       ['S110'],\n",
       "       ['S111'],\n",
       "       ['S112'],\n",
       "       ['S113'],\n",
       "       ['S114'],\n",
       "       ['S115'],\n",
       "       ['S116'],\n",
       "       ['S117'],\n",
       "       ['S118'],\n",
       "       ['S119'],\n",
       "       ['S120'],\n",
       "       ['S121'],\n",
       "       ['S122'],\n",
       "       ['S123'],\n",
       "       ['S124'],\n",
       "       ['S125'],\n",
       "       ['S126'],\n",
       "       ['S127'],\n",
       "       ['S128'],\n",
       "       ['S129'],\n",
       "       ['S130'],\n",
       "       ['S131'],\n",
       "       ['S132'],\n",
       "       ['S133'],\n",
       "       ['S134'],\n",
       "       ['S135'],\n",
       "       ['S136'],\n",
       "       ['S137'],\n",
       "       ['S138'],\n",
       "       ['S139'],\n",
       "       ['S140'],\n",
       "       ['S141'],\n",
       "       ['S142'],\n",
       "       ['S143'],\n",
       "       ['S144'],\n",
       "       ['S145'],\n",
       "       ['S146'],\n",
       "       ['S147'],\n",
       "       ['S148'],\n",
       "       ['S149'],\n",
       "       ['S150'],\n",
       "       ['S151'],\n",
       "       ['S152'],\n",
       "       ['S153'],\n",
       "       ['S154'],\n",
       "       ['S155'],\n",
       "       ['S156'],\n",
       "       ['S157'],\n",
       "       ['S158'],\n",
       "       ['S159'],\n",
       "       ['S160'],\n",
       "       ['S161'],\n",
       "       ['S162'],\n",
       "       ['S163'],\n",
       "       ['S164'],\n",
       "       ['S165'],\n",
       "       ['S166'],\n",
       "       ['S167'],\n",
       "       ['S168'],\n",
       "       ['S169'],\n",
       "       ['S170'],\n",
       "       ['S171'],\n",
       "       ['S172'],\n",
       "       ['S173'],\n",
       "       ['S174'],\n",
       "       ['S175'],\n",
       "       ['S176'],\n",
       "       ['S177'],\n",
       "       ['S178'],\n",
       "       ['S179'],\n",
       "       ['S180'],\n",
       "       ['S181'],\n",
       "       ['S182'],\n",
       "       ['S183'],\n",
       "       ['S184'],\n",
       "       ['S185'],\n",
       "       ['S186'],\n",
       "       ['S187'],\n",
       "       ['S188'],\n",
       "       ['S189'],\n",
       "       ['S190'],\n",
       "       ['S191'],\n",
       "       ['S192'],\n",
       "       ['S193'],\n",
       "       ['S194'],\n",
       "       ['S195'],\n",
       "       ['S196'],\n",
       "       ['S197'],\n",
       "       ['S198'],\n",
       "       ['S199'],\n",
       "       ['S200'],\n",
       "       ['S201'],\n",
       "       ['S202'],\n",
       "       ['S203'],\n",
       "       ['S204'],\n",
       "       ['S205'],\n",
       "       ['S206'],\n",
       "       ['S207'],\n",
       "       ['S208'],\n",
       "       ['S209'],\n",
       "       ['S210'],\n",
       "       ['S211'],\n",
       "       ['S212'],\n",
       "       ['S213'],\n",
       "       ['S214'],\n",
       "       ['S215'],\n",
       "       ['S216'],\n",
       "       ['S217'],\n",
       "       ['S218'],\n",
       "       ['S219'],\n",
       "       ['S220'],\n",
       "       ['S221'],\n",
       "       ['S222'],\n",
       "       ['S223'],\n",
       "       ['S224'],\n",
       "       ['S225'],\n",
       "       ['S226'],\n",
       "       ['S227'],\n",
       "       ['S228'],\n",
       "       ['S229'],\n",
       "       ['S230'],\n",
       "       ['S231'],\n",
       "       ['S232'],\n",
       "       ['S233'],\n",
       "       ['S234'],\n",
       "       ['S235'],\n",
       "       ['S236'],\n",
       "       ['S237'],\n",
       "       ['S238'],\n",
       "       ['S239'],\n",
       "       ['S240'],\n",
       "       ['S241'],\n",
       "       ['S242'],\n",
       "       ['S243'],\n",
       "       ['S244'],\n",
       "       ['S245'],\n",
       "       ['S246'],\n",
       "       ['S247'],\n",
       "       ['S248'],\n",
       "       ['S249'],\n",
       "       ['S250'],\n",
       "       ['S251'],\n",
       "       ['S252'],\n",
       "       ['S253'],\n",
       "       ['S254'],\n",
       "       ['S255'],\n",
       "       ['S256'],\n",
       "       ['S257'],\n",
       "       ['S258'],\n",
       "       ['S259'],\n",
       "       ['S260'],\n",
       "       ['S261'],\n",
       "       ['S262'],\n",
       "       ['S263'],\n",
       "       ['S264'],\n",
       "       ['S265'],\n",
       "       ['S266'],\n",
       "       ['S267'],\n",
       "       ['S268'],\n",
       "       ['S269'],\n",
       "       ['S270'],\n",
       "       ['S271'],\n",
       "       ['S272'],\n",
       "       ['S273'],\n",
       "       ['S274'],\n",
       "       ['S275'],\n",
       "       ['S276'],\n",
       "       ['S277'],\n",
       "       ['S278'],\n",
       "       ['S279'],\n",
       "       ['S280'],\n",
       "       ['S281'],\n",
       "       ['S282'],\n",
       "       ['S283'],\n",
       "       ['S284'],\n",
       "       ['S285'],\n",
       "       ['S286'],\n",
       "       ['S287'],\n",
       "       ['S288'],\n",
       "       ['S289'],\n",
       "       ['S290'],\n",
       "       ['S291'],\n",
       "       ['S292'],\n",
       "       ['S293'],\n",
       "       ['S294'],\n",
       "       ['S295'],\n",
       "       ['S296'],\n",
       "       ['S297'],\n",
       "       ['S298'],\n",
       "       ['S299'],\n",
       "       ['S300'],\n",
       "       ['S301'],\n",
       "       ['S302'],\n",
       "       ['S303'],\n",
       "       ['S304'],\n",
       "       ['S305'],\n",
       "       ['S306'],\n",
       "       ['S307'],\n",
       "       ['S308'],\n",
       "       ['S309'],\n",
       "       ['S310'],\n",
       "       ['S311'],\n",
       "       ['S312'],\n",
       "       ['S313'],\n",
       "       ['S314'],\n",
       "       ['S315'],\n",
       "       ['S316'],\n",
       "       ['S317'],\n",
       "       ['S318'],\n",
       "       ['S319'],\n",
       "       ['S320'],\n",
       "       ['S321'],\n",
       "       ['S322'],\n",
       "       ['S323'],\n",
       "       ['S324'],\n",
       "       ['S325'],\n",
       "       ['S326'],\n",
       "       ['S327'],\n",
       "       ['S328'],\n",
       "       ['S329'],\n",
       "       ['S330'],\n",
       "       ['S331'],\n",
       "       ['S332'],\n",
       "       ['S333'],\n",
       "       ['S334'],\n",
       "       ['S335'],\n",
       "       ['S336'],\n",
       "       ['S337'],\n",
       "       ['S338'],\n",
       "       ['S339'],\n",
       "       ['S340'],\n",
       "       ['S341'],\n",
       "       ['S342'],\n",
       "       ['S343'],\n",
       "       ['S344'],\n",
       "       ['S345'],\n",
       "       ['S346'],\n",
       "       ['S347'],\n",
       "       ['S348'],\n",
       "       ['S349'],\n",
       "       ['S350'],\n",
       "       ['S351'],\n",
       "       ['S352'],\n",
       "       ['S353'],\n",
       "       ['S354'],\n",
       "       ['S355'],\n",
       "       ['S356'],\n",
       "       ['S357'],\n",
       "       ['S358'],\n",
       "       ['S359'],\n",
       "       ['S360'],\n",
       "       ['S361'],\n",
       "       ['S362'],\n",
       "       ['S363'],\n",
       "       ['S364'],\n",
       "       ['S365']], dtype='<U4')"
      ]
     },
     "execution_count": 156,
     "metadata": {},
     "output_type": "execute_result"
    }
   ],
   "source": [
    "command = \"SELECT * FROM time_season\" #WHERE scenario IS 'uniform_lifespan_MGA'\"\n",
    "data = cursor.execute(command)\n",
    "display(data.description)\n",
    "np.array(cursor.fetchall())"
   ]
  },
  {
   "cell_type": "code",
   "execution_count": 119,
   "metadata": {},
   "outputs": [
    {
     "data": {
      "text/plain": [
       "(('dds', None, None, None, None, None, None),)"
      ]
     },
     "metadata": {},
     "output_type": "display_data"
    }
   ],
   "source": [
    "command = \"SELECT dds FROM DemandSpecificDistribution\" #WHERE scenario IS 'uniform_lifespan_MGA'\"\n",
    "data = cursor.execute(command)\n",
    "display(data.description)\n",
    "peak_demand = max(np.array(cursor.fetchall())*187000)[0]"
   ]
  },
  {
   "cell_type": "code",
   "execution_count": 80,
   "metadata": {},
   "outputs": [
    {
     "data": {
      "text/plain": [
       "(('scenario', None, None, None, None, None, None),\n",
       " ('output_name', None, None, None, None, None, None),\n",
       " ('SUM(output_cost)', None, None, None, None, None, None))"
      ]
     },
     "metadata": {},
     "output_type": "display_data"
    }
   ],
   "source": [
    "command = \"SELECT scenario, output_name, SUM(output_cost) FROM Output_Costs WHERE output_name LIKE 'V_Undiscounted%' GROUP BY scenario\"\n",
    "data = cursor.execute(command)\n",
    "display(data.description)\n",
    "F_cost = cursor.fetchall()"
   ]
  },
  {
   "cell_type": "code",
   "execution_count": 81,
   "metadata": {},
   "outputs": [
    {
     "data": {
      "text/plain": [
       "(('scenario', None, None, None, None, None, None),\n",
       " ('emissions_comm', None, None, None, None, None, None),\n",
       " ('SUM(emissions)', None, None, None, None, None, None))"
      ]
     },
     "metadata": {},
     "output_type": "display_data"
    }
   ],
   "source": [
    "command = \"SELECT scenario, emissions_comm, SUM(emissions) FROM Output_Emissions WHERE emissions_comm IS 'co2eq' GROUP BY scenario\"\n",
    "data = cursor.execute(command)\n",
    "display(data.description)\n",
    "F_emissions = cursor.fetchall()"
   ]
  },
  {
   "cell_type": "code",
   "execution_count": 120,
   "metadata": {},
   "outputs": [
    {
     "data": {
      "text/plain": [
       "array([[5622.83395472,   12.72841036],\n",
       "       [6161.79735637,   72.13762449],\n",
       "       [6161.79735637,   72.13762449],\n",
       "       [6157.20319887,   15.70528327],\n",
       "       [6157.20319887,   15.70528327],\n",
       "       [6164.3567996 ,   17.2788666 ],\n",
       "       [6157.94958584,   16.60172504],\n",
       "       [6166.08679837,   15.04092088],\n",
       "       [6157.59423762,   30.05968181],\n",
       "       [6166.8694462 ,   22.46907599],\n",
       "       [6160.49552961,   22.79982663],\n",
       "       [6158.39196855,   23.05710901],\n",
       "       [6166.60565771,   18.43784631],\n",
       "       [6166.8694462 ,   22.46907599],\n",
       "       [6160.86226013,   18.30461882],\n",
       "       [6160.0462908 ,   17.73475732],\n",
       "       [6167.59300897,   19.14590604],\n",
       "       [6167.59300896,   19.14590604],\n",
       "       [6173.52962714,   20.46613015],\n",
       "       [6158.77919484,   19.11641532],\n",
       "       [6164.82640097,   14.84513094],\n",
       "       [6160.37725214,   14.69953168],\n",
       "       [6172.34226069,   16.43284004],\n",
       "       [6158.97346459,   16.27186026],\n",
       "       [6150.25912235,   28.86212293],\n",
       "       [6166.09434821,   15.0862287 ],\n",
       "       [6156.02556278,   15.8166953 ],\n",
       "       [6156.35338923,   15.85270963],\n",
       "       [6156.95014292,   15.55905057],\n",
       "       [6157.09600832,   15.65832943],\n",
       "       [6157.20319887,   15.70528327]])"
      ]
     },
     "execution_count": 120,
     "metadata": {},
     "output_type": "execute_result"
    }
   ],
   "source": [
    "F = np.array(list(zip([c[-1] for c in F_cost],[e[-1] for e in F_emissions])))\n",
    "F"
   ]
  },
  {
   "cell_type": "code",
   "execution_count": null,
   "metadata": {},
   "outputs": [],
   "source": []
  },
  {
   "cell_type": "markdown",
   "metadata": {},
   "source": [
    "import dill\n",
    "with open(\"../2023-dotson-prelim/data/2022-11-18-temoa_mga_objective.pkl\", 'wb') as file:\n",
    "    dill.dump(F,file)"
   ]
  },
  {
   "cell_type": "code",
   "execution_count": 86,
   "metadata": {},
   "outputs": [
    {
     "data": {
      "text/plain": [
       "Text(0.5, 0, 'Total Cost [M$]')"
      ]
     },
     "execution_count": 86,
     "metadata": {},
     "output_type": "execute_result"
    },
    {
     "data": {
      "image/png": "[encoded data removed]",
      "text/plain": [
       "<Figure size 576x432 with 1 Axes>"
      ]
     },
     "metadata": {},
     "output_type": "display_data"
    }
   ],
   "source": [
    "fig, ax = plt.subplots(figsize=(8,6))\n",
    "# for c, e in zip(F_cost, F_emissions):\n",
    "#     ax.scatter(e[-1], c[-1])\n",
    "\n",
    "ax.scatter([c[-1] for c in F_cost],[e[-1] for e in F_emissions])\n",
    "\n",
    "min_val = min([c[-1] for c in F_cost])\n",
    "slack = 0.1\n",
    "a = ax.axvline(x=min_val)\n",
    "b = ax.axvline(x=(1+slack)*min_val)\n",
    "ax.axvspan(min_val, (1+slack)*min_val, alpha=0.1, color='green')\n",
    "\n",
    "ax.set_ylabel(\"Emissions [MT CO2]\")\n",
    "ax.set_xlabel(\"Total Cost [M$]\")"
   ]
  },
  {
   "cell_type": "code",
   "execution_count": 114,
   "metadata": {},
   "outputs": [],
   "source": [
    "scenario = 'mga'\n",
    "region = 'IL'\n",
    "cur = conn.cursor()\n",
    "cap_dict = {}\n",
    "for tech in all_techs:\n",
    "        if scenario == None:\n",
    "            command = (f\"SELECT t_periods, capacity \"\n",
    "                       f\"FROM Output_CapacityByPeriodAndTech \"\n",
    "                       f\"WHERE tech IS '{tech}' \"\n",
    "                       f\"AND regions LIKE '%{region}' \"\n",
    "                       f\"ORDER BY Output_CapacityByPeriodAndTech.t_periods\")\n",
    "        else:\n",
    "            command = (f\"SELECT t_periods, capacity \"\n",
    "                       f\"FROM Output_CapacityByPeriodAndTech \"\n",
    "                       f\"WHERE tech IS '{tech}' \"\n",
    "                       f\"AND regions LIKE '%{region}' \"\n",
    "                       f\"AND scenario LIKE '%{scenario}' \"\n",
    "                       f\"ORDER BY Output_CapacityByPeriodAndTech.t_periods\")\n",
    "        cur.execute(command)\n",
    "        cap_tech = cur.fetchall()"
   ]
  },
  {
   "cell_type": "code",
   "execution_count": 115,
   "metadata": {},
   "outputs": [
    {
     "data": {
      "text/plain": [
       "[]"
      ]
     },
     "execution_count": 115,
     "metadata": {},
     "output_type": "execute_result"
    }
   ],
   "source": [
    "cap_tech"
   ]
  },
  {
   "cell_type": "code",
   "execution_count": 57,
   "metadata": {},
   "outputs": [],
   "source": [
    "axes = []\n",
    "frames = []\n",
    "year = 2050\n",
    "for j, s in enumerate(seasons):\n",
    "            techs, activity = get_load_profile(conn, 'IL', s, year, 'ELC', 'base')\n",
    "#             sec_colors = [elc_colors[tech] for tech in techs]\n",
    "            df = pd.DataFrame(dict(zip(techs,activity)))\n",
    "#             hours = np.arange(0,N_hours,1)+j*N_hours+1\n",
    "            frames.append(df)\n",
    "#             ax.xaxis.set_minor_locator(AutoMinorLocator())\n",
    "#             d1 = ax.stackplot(hours, activity, labels=techs, colors=sec_colors, baseline='zero')\n",
    "#             ax.tick_params(which='minor', length=4, color='r')\n",
    "#             ax.set_ylabel(f'Generation [GWh] : {year}')\n",
    "#             axes.append(d1)"
   ]
  },
  {
   "cell_type": "code",
   "execution_count": null,
   "metadata": {},
   "outputs": [],
   "source": []
  },
  {
   "cell_type": "code",
   "execution_count": null,
   "metadata": {},
   "outputs": [],
   "source": []
  },
  {
   "cell_type": "code",
   "execution_count": 58,
   "metadata": {},
   "outputs": [
    {
     "data": {
      "text/html": [
       "<div>\n",
       "<style scoped>\n",
       "    .dataframe tbody tr th:only-of-type {\n",
       "        vertical-align: middle;\n",
       "    }\n",
       "\n",
       "    .dataframe tbody tr th {\n",
       "        vertical-align: top;\n",
       "    }\n",
       "\n",
       "    .dataframe thead th {\n",
       "        text-align: right;\n",
       "    }\n",
       "</style>\n",
       "<table border=\"1\" class=\"dataframe\">\n",
       "  <thead>\n",
       "    <tr style=\"text-align: right;\">\n",
       "      <th></th>\n",
       "      <th>COAL_CONV</th>\n",
       "      <th>NUCLEAR_CONV</th>\n",
       "      <th>NUCLEAR_ADV</th>\n",
       "      <th>BIOMASS</th>\n",
       "      <th>NATGAS_CONV</th>\n",
       "      <th>NATGAS_ADV</th>\n",
       "      <th>WIND_FARM</th>\n",
       "      <th>SOLAR_FARM</th>\n",
       "      <th>LI_BATTERY</th>\n",
       "    </tr>\n",
       "  </thead>\n",
       "  <tbody>\n",
       "    <tr>\n",
       "      <th>0</th>\n",
       "      <td>0.0</td>\n",
       "      <td>17.231410</td>\n",
       "      <td>0.0</td>\n",
       "      <td>0.0</td>\n",
       "      <td>0.000000</td>\n",
       "      <td>0.0</td>\n",
       "      <td>0.0</td>\n",
       "      <td>0.0</td>\n",
       "      <td>0.000000</td>\n",
       "    </tr>\n",
       "    <tr>\n",
       "      <th>1</th>\n",
       "      <td>0.0</td>\n",
       "      <td>17.231410</td>\n",
       "      <td>0.0</td>\n",
       "      <td>0.0</td>\n",
       "      <td>0.000000</td>\n",
       "      <td>0.0</td>\n",
       "      <td>0.0</td>\n",
       "      <td>0.0</td>\n",
       "      <td>0.128101</td>\n",
       "    </tr>\n",
       "    <tr>\n",
       "      <th>2</th>\n",
       "      <td>0.0</td>\n",
       "      <td>17.231410</td>\n",
       "      <td>0.0</td>\n",
       "      <td>0.0</td>\n",
       "      <td>0.000000</td>\n",
       "      <td>0.0</td>\n",
       "      <td>0.0</td>\n",
       "      <td>0.0</td>\n",
       "      <td>0.046125</td>\n",
       "    </tr>\n",
       "    <tr>\n",
       "      <th>3</th>\n",
       "      <td>0.0</td>\n",
       "      <td>17.231410</td>\n",
       "      <td>0.0</td>\n",
       "      <td>0.0</td>\n",
       "      <td>0.000000</td>\n",
       "      <td>0.0</td>\n",
       "      <td>0.0</td>\n",
       "      <td>0.0</td>\n",
       "      <td>0.059806</td>\n",
       "    </tr>\n",
       "    <tr>\n",
       "      <th>4</th>\n",
       "      <td>0.0</td>\n",
       "      <td>17.231410</td>\n",
       "      <td>0.0</td>\n",
       "      <td>0.0</td>\n",
       "      <td>0.000000</td>\n",
       "      <td>0.0</td>\n",
       "      <td>0.0</td>\n",
       "      <td>0.0</td>\n",
       "      <td>0.000000</td>\n",
       "    </tr>\n",
       "    <tr>\n",
       "      <th>...</th>\n",
       "      <td>...</td>\n",
       "      <td>...</td>\n",
       "      <td>...</td>\n",
       "      <td>...</td>\n",
       "      <td>...</td>\n",
       "      <td>...</td>\n",
       "      <td>...</td>\n",
       "      <td>...</td>\n",
       "      <td>...</td>\n",
       "    </tr>\n",
       "    <tr>\n",
       "      <th>8755</th>\n",
       "      <td>0.0</td>\n",
       "      <td>17.002093</td>\n",
       "      <td>0.0</td>\n",
       "      <td>0.0</td>\n",
       "      <td>0.035945</td>\n",
       "      <td>0.0</td>\n",
       "      <td>0.0</td>\n",
       "      <td>0.0</td>\n",
       "      <td>0.535693</td>\n",
       "    </tr>\n",
       "    <tr>\n",
       "      <th>8756</th>\n",
       "      <td>0.0</td>\n",
       "      <td>17.002093</td>\n",
       "      <td>0.0</td>\n",
       "      <td>0.0</td>\n",
       "      <td>0.267464</td>\n",
       "      <td>0.0</td>\n",
       "      <td>0.0</td>\n",
       "      <td>0.0</td>\n",
       "      <td>0.158039</td>\n",
       "    </tr>\n",
       "    <tr>\n",
       "      <th>8757</th>\n",
       "      <td>0.0</td>\n",
       "      <td>17.002093</td>\n",
       "      <td>0.0</td>\n",
       "      <td>0.0</td>\n",
       "      <td>0.000000</td>\n",
       "      <td>0.0</td>\n",
       "      <td>0.0</td>\n",
       "      <td>0.0</td>\n",
       "      <td>0.000000</td>\n",
       "    </tr>\n",
       "    <tr>\n",
       "      <th>8758</th>\n",
       "      <td>0.0</td>\n",
       "      <td>17.002093</td>\n",
       "      <td>0.0</td>\n",
       "      <td>0.0</td>\n",
       "      <td>0.057757</td>\n",
       "      <td>0.0</td>\n",
       "      <td>0.0</td>\n",
       "      <td>0.0</td>\n",
       "      <td>0.030897</td>\n",
       "    </tr>\n",
       "    <tr>\n",
       "      <th>8759</th>\n",
       "      <td>0.0</td>\n",
       "      <td>17.002093</td>\n",
       "      <td>0.0</td>\n",
       "      <td>0.0</td>\n",
       "      <td>0.000000</td>\n",
       "      <td>0.0</td>\n",
       "      <td>0.0</td>\n",
       "      <td>0.0</td>\n",
       "      <td>0.000000</td>\n",
       "    </tr>\n",
       "  </tbody>\n",
       "</table>\n",
       "<p>8760 rows × 9 columns</p>\n",
       "</div>"
      ],
      "text/plain": [
       "      COAL_CONV  NUCLEAR_CONV  NUCLEAR_ADV  BIOMASS  NATGAS_CONV  NATGAS_ADV  \\\n",
       "0           0.0     17.231410          0.0      0.0     0.000000         0.0   \n",
       "1           0.0     17.231410          0.0      0.0     0.000000         0.0   \n",
       "2           0.0     17.231410          0.0      0.0     0.000000         0.0   \n",
       "3           0.0     17.231410          0.0      0.0     0.000000         0.0   \n",
       "4           0.0     17.231410          0.0      0.0     0.000000         0.0   \n",
       "...         ...           ...          ...      ...          ...         ...   \n",
       "8755        0.0     17.002093          0.0      0.0     0.035945         0.0   \n",
       "8756        0.0     17.002093          0.0      0.0     0.267464         0.0   \n",
       "8757        0.0     17.002093          0.0      0.0     0.000000         0.0   \n",
       "8758        0.0     17.002093          0.0      0.0     0.057757         0.0   \n",
       "8759        0.0     17.002093          0.0      0.0     0.000000         0.0   \n",
       "\n",
       "      WIND_FARM  SOLAR_FARM  LI_BATTERY  \n",
       "0           0.0         0.0    0.000000  \n",
       "1           0.0         0.0    0.128101  \n",
       "2           0.0         0.0    0.046125  \n",
       "3           0.0         0.0    0.059806  \n",
       "4           0.0         0.0    0.000000  \n",
       "...         ...         ...         ...  \n",
       "8755        0.0         0.0    0.535693  \n",
       "8756        0.0         0.0    0.158039  \n",
       "8757        0.0         0.0    0.000000  \n",
       "8758        0.0         0.0    0.030897  \n",
       "8759        0.0         0.0    0.000000  \n",
       "\n",
       "[8760 rows x 9 columns]"
      ]
     },
     "execution_count": 58,
     "metadata": {},
     "output_type": "execute_result"
    }
   ],
   "source": [
    "full_df = pd.concat(frames, axis=0)\n",
    "full_df.index = np.arange(0,8760,1)\n",
    "full_df"
   ]
  },
  {
   "cell_type": "code",
   "execution_count": 59,
   "metadata": {},
   "outputs": [],
   "source": [
    "to_drop = []\n",
    "for c in full_df.columns:\n",
    "    if full_df[c].sum() <=1:\n",
    "        to_drop.append(c)\n",
    "non_zero_df = full_df.drop(columns=to_drop)"
   ]
  },
  {
   "cell_type": "code",
   "execution_count": 64,
   "metadata": {},
   "outputs": [
    {
     "data": {
      "text/plain": [
       "<AxesSubplot:>"
      ]
     },
     "execution_count": 64,
     "metadata": {},
     "output_type": "execute_result"
    },
    {
     "data": {
      "image/png": "[encoded data removed]",
      "text/plain": [
       "<Figure size 1296x432 with 1 Axes>"
      ]
     },
     "metadata": {},
     "output_type": "display_data"
    }
   ],
   "source": [
    "fig, ax = plt.subplots(figsize=(18,6))\n",
    "non_zero_df[:int(8760/4)].plot(ax=ax, kind='bar', stacked=True)"
   ]
  },
  {
   "cell_type": "code",
   "execution_count": 50,
   "metadata": {},
   "outputs": [
    {
     "data": {
      "text/plain": [
       "(('time_of_day_name', None, None, None, None, None, None),\n",
       " ('dds', None, None, None, None, None, None))"
      ]
     },
     "metadata": {},
     "output_type": "display_data"
    },
    {
     "data": {
      "text/plain": [
       "[('H1', 0.009264342441146056),\n",
       " ('H2', 0.009116674201360147),\n",
       " ('H3', 0.009020454937178846),\n",
       " ('H4', 0.008951562836536106),\n",
       " ('H5', 0.008901309607582144),\n",
       " ('H6', 0.008963914252296477),\n",
       " ('H7', 0.009203886911640018),\n",
       " ('H8', 0.009491568418918803),\n",
       " ('H9', 0.009798106607132286),\n",
       " ('H10', 0.009971444181380785),\n",
       " ('H11', 0.010107319737868298),\n",
       " ('H12', 0.010245175100348159),\n",
       " ('H13', 0.010337389435570466),\n",
       " ('H14', 0.01047686635054726),\n",
       " ('H15', 0.010587637113511626),\n",
       " ('H16', 0.010615594823842438),\n",
       " ('H17', 0.010505046449155064),\n",
       " ('H18', 0.010319141927292063),\n",
       " ('H19', 0.010167844862777066),\n",
       " ('H20', 0.010120925190898838),\n",
       " ('H21', 0.010061396457171919),\n",
       " ('H22', 0.009928508710036905),\n",
       " ('H23', 0.009701412630168698),\n",
       " ('H24', 0.009458494414805783),\n",
       " ('H1', 0.011328829004044085),\n",
       " ('H2', 0.011183616955889776),\n",
       " ('H3', 0.011070144968289891),\n",
       " ('H4', 0.011011871819306643),\n",
       " ('H5', 0.010984364037156101),\n",
       " ('H6', 0.01105564037712525),\n",
       " ('H7', 0.01148120887388498),\n",
       " ('H8', 0.01173774507794522),\n",
       " ('H9', 0.012038716983150245),\n",
       " ('H10', 0.012117029163212244),\n",
       " ('H11', 0.012159051307022018),\n",
       " ('H12', 0.012179573168658189),\n",
       " ('H13', 0.012192739912744754),\n",
       " ('H14', 0.012273968790293454),\n",
       " ('H15', 0.012337014063629411),\n",
       " ('H16', 0.012308309958870917),\n",
       " ('H17', 0.012118592293096617),\n",
       " ('H18', 0.011846198839864583),\n",
       " ('H19', 0.011663535179912324),\n",
       " ('H20', 0.011676149534061996),\n",
       " ('H21', 0.011826073849899447),\n",
       " ('H22', 0.011830399577217335),\n",
       " ('H23', 0.011745916519450613),\n",
       " ('H24', 0.011585409662476604),\n",
       " ('H1', 0.01024431675717217),\n",
       " ('H2', 0.01007334873691632),\n",
       " ('H3', 0.009965975604529121),\n",
       " ('H4', 0.009882977283133322),\n",
       " ('H5', 0.009835235257152741),\n",
       " ('H6', 0.009913773056750962),\n",
       " ('H7', 0.010154032692457632),\n",
       " ('H8', 0.010353426794407932),\n",
       " ('H9', 0.010646984630942933),\n",
       " ('H10', 0.01090913310709222),\n",
       " ('H11', 0.011028778599699056),\n",
       " ('H12', 0.011123803732671909),\n",
       " ('H13', 0.01121207373135032),\n",
       " ('H14', 0.01132340104678116),\n",
       " ('H15', 0.01144436460076005),\n",
       " ('H16', 0.011501061537500442),\n",
       " ('H17', 0.011415798527992339),\n",
       " ('H18', 0.011233690494056717),\n",
       " ('H19', 0.011089224814023413),\n",
       " ('H20', 0.01098834828334427),\n",
       " ('H21', 0.011001312696190414),\n",
       " ('H22', 0.010991251968718202),\n",
       " ('H23', 0.010775778084785517),\n",
       " ('H24', 0.010476303934012781),\n",
       " ('H1', 0.008976504472373543),\n",
       " ('H2', 0.008877951956427089),\n",
       " ('H3', 0.008808099895183887),\n",
       " ('H4', 0.008744596638414464),\n",
       " ('H5', 0.008710944961172161),\n",
       " ('H6', 0.00872004781430865),\n",
       " ('H7', 0.008819879111202997),\n",
       " ('H8', 0.009058908641570336),\n",
       " ('H9', 0.0093315142440387),\n",
       " ('H10', 0.009586210746503456),\n",
       " ('H11', 0.009696722729590124),\n",
       " ('H12', 0.00978545075721531),\n",
       " ('H13', 0.009808080034942362),\n",
       " ('H14', 0.009849533359138796),\n",
       " ('H15', 0.009954461484377643),\n",
       " ('H16', 0.01001454206657396),\n",
       " ('H17', 0.010020843610795464),\n",
       " ('H18', 0.009941742992849676),\n",
       " ('H19', 0.009753404581365714),\n",
       " ('H20', 0.009579612433965889),\n",
       " ('H21', 0.009473651261620806),\n",
       " ('H22', 0.009397369679913569),\n",
       " ('H23', 0.009296136208410077),\n",
       " ('H24', 0.009141276829234343),\n",
       " ('H1', 0.0),\n",
       " ('H2', 0.0),\n",
       " ('H3', 0.0),\n",
       " ('H4', 0.0),\n",
       " ('H5', 0.0),\n",
       " ('H6', 0.0),\n",
       " ('H7', 0.0),\n",
       " ('H8', 0.0),\n",
       " ('H9', 0.0),\n",
       " ('H10', 0.0),\n",
       " ('H11', 0.0),\n",
       " ('H12', 0.0),\n",
       " ('H13', 0.0),\n",
       " ('H14', 0.0),\n",
       " ('H15', 0.0),\n",
       " ('H16', 0.0),\n",
       " ('H17', 0.0),\n",
       " ('H18', 0.0),\n",
       " ('H19', 0.0),\n",
       " ('H20', 0.0),\n",
       " ('H21', 0.0),\n",
       " ('H22', 0.0),\n",
       " ('H23', 0.0),\n",
       " ('H24', 0.0),\n",
       " ('H1', 0.0),\n",
       " ('H2', 0.0),\n",
       " ('H3', 0.0),\n",
       " ('H4', 0.0),\n",
       " ('H5', 0.0),\n",
       " ('H6', 0.0),\n",
       " ('H7', 0.0),\n",
       " ('H8', 0.0),\n",
       " ('H9', 0.0),\n",
       " ('H10', 0.0),\n",
       " ('H11', 0.0),\n",
       " ('H12', 0.0),\n",
       " ('H13', 0.0),\n",
       " ('H14', 0.0),\n",
       " ('H15', 0.0),\n",
       " ('H16', 0.0),\n",
       " ('H17', 0.0),\n",
       " ('H18', 0.0),\n",
       " ('H19', 0.0),\n",
       " ('H20', 0.0),\n",
       " ('H21', 0.0),\n",
       " ('H22', 0.0),\n",
       " ('H23', 0.0),\n",
       " ('H24', 0.0),\n",
       " ('H1', 0.0),\n",
       " ('H2', 0.0),\n",
       " ('H3', 0.0),\n",
       " ('H4', 0.0),\n",
       " ('H5', 0.0),\n",
       " ('H6', 0.0),\n",
       " ('H7', 0.0),\n",
       " ('H8', 0.0),\n",
       " ('H9', 0.0),\n",
       " ('H10', 0.0),\n",
       " ('H11', 0.0),\n",
       " ('H12', 0.0),\n",
       " ('H13', 0.0),\n",
       " ('H14', 0.0),\n",
       " ('H15', 0.0),\n",
       " ('H16', 0.0),\n",
       " ('H17', 0.0),\n",
       " ('H18', 0.0),\n",
       " ('H19', 0.0),\n",
       " ('H20', 0.0),\n",
       " ('H21', 0.0),\n",
       " ('H22', 0.0),\n",
       " ('H23', 0.0),\n",
       " ('H24', 0.0),\n",
       " ('H1', 0.0),\n",
       " ('H2', 0.0),\n",
       " ('H3', 0.0),\n",
       " ('H4', 0.0),\n",
       " ('H5', 0.0),\n",
       " ('H6', 0.0),\n",
       " ('H7', 0.0),\n",
       " ('H8', 0.0),\n",
       " ('H9', 0.0),\n",
       " ('H10', 0.0),\n",
       " ('H11', 0.0),\n",
       " ('H12', 0.0),\n",
       " ('H13', 0.0),\n",
       " ('H14', 0.0),\n",
       " ('H15', 0.0),\n",
       " ('H16', 0.0),\n",
       " ('H17', 0.0),\n",
       " ('H18', 0.0),\n",
       " ('H19', 0.0),\n",
       " ('H20', 0.0),\n",
       " ('H21', 0.0),\n",
       " ('H22', 0.0),\n",
       " ('H23', 0.0),\n",
       " ('H24', 0.0),\n",
       " ('H1', 0.0),\n",
       " ('H2', 0.0),\n",
       " ('H3', 0.0),\n",
       " ('H4', 0.0),\n",
       " ('H5', 0.0),\n",
       " ('H6', 0.0),\n",
       " ('H7', 0.0),\n",
       " ('H8', 0.0),\n",
       " ('H9', 0.0),\n",
       " ('H10', 0.0),\n",
       " ('H11', 0.0),\n",
       " ('H12', 0.0),\n",
       " ('H13', 0.0),\n",
       " ('H14', 0.0),\n",
       " ('H15', 0.0),\n",
       " ('H16', 0.0),\n",
       " ('H17', 0.0),\n",
       " ('H18', 0.0),\n",
       " ('H19', 0.0),\n",
       " ('H20', 0.0),\n",
       " ('H21', 0.0),\n",
       " ('H22', 0.0),\n",
       " ('H23', 0.0),\n",
       " ('H24', 0.0),\n",
       " ('H1', 0.0),\n",
       " ('H2', 0.0),\n",
       " ('H3', 0.0),\n",
       " ('H4', 0.0),\n",
       " ('H5', 0.0),\n",
       " ('H6', 0.0),\n",
       " ('H7', 0.0),\n",
       " ('H8', 0.0),\n",
       " ('H9', 0.0),\n",
       " ('H10', 0.0),\n",
       " ('H11', 0.0),\n",
       " ('H12', 0.0),\n",
       " ('H13', 0.0),\n",
       " ('H14', 0.0),\n",
       " ('H15', 0.0),\n",
       " ('H16', 0.0),\n",
       " ('H17', 0.0),\n",
       " ('H18', 0.0),\n",
       " ('H19', 0.0),\n",
       " ('H20', 0.0),\n",
       " ('H21', 0.0),\n",
       " ('H22', 0.0),\n",
       " ('H23', 0.0),\n",
       " ('H24', 0.0),\n",
       " ('H1', 0.0),\n",
       " ('H2', 0.0),\n",
       " ('H3', 0.0),\n",
       " ('H4', 0.0),\n",
       " ('H5', 0.0),\n",
       " ('H6', 0.0),\n",
       " ('H7', 0.0),\n",
       " ('H8', 0.0),\n",
       " ('H9', 0.0),\n",
       " ('H10', 0.0),\n",
       " ('H11', 0.0),\n",
       " ('H12', 0.0),\n",
       " ('H13', 0.0),\n",
       " ('H14', 0.0),\n",
       " ('H15', 0.0),\n",
       " ('H16', 0.0),\n",
       " ('H17', 0.0),\n",
       " ('H18', 0.0),\n",
       " ('H19', 0.0),\n",
       " ('H20', 0.0),\n",
       " ('H21', 0.0),\n",
       " ('H22', 0.0),\n",
       " ('H23', 0.0),\n",
       " ('H24', 0.0),\n",
       " ('H1', 0.0),\n",
       " ('H2', 0.0),\n",
       " ('H3', 0.0),\n",
       " ('H4', 0.0),\n",
       " ('H5', 0.0),\n",
       " ('H6', 0.0),\n",
       " ('H7', 0.0),\n",
       " ('H8', 0.0),\n",
       " ('H9', 0.0),\n",
       " ('H10', 0.0),\n",
       " ('H11', 0.0),\n",
       " ('H12', 0.0),\n",
       " ('H13', 0.0),\n",
       " ('H14', 0.0),\n",
       " ('H15', 0.0),\n",
       " ('H16', 0.0),\n",
       " ('H17', 0.0),\n",
       " ('H18', 0.0),\n",
       " ('H19', 0.0),\n",
       " ('H20', 0.0),\n",
       " ('H21', 0.0),\n",
       " ('H22', 0.0),\n",
       " ('H23', 0.0),\n",
       " ('H24', 0.0),\n",
       " ('H1', 0.0),\n",
       " ('H2', 0.0),\n",
       " ('H3', 0.0),\n",
       " ('H4', 0.0),\n",
       " ('H5', 0.0),\n",
       " ('H6', 0.0),\n",
       " ('H7', 0.0),\n",
       " ('H8', 0.0),\n",
       " ('H9', 0.0),\n",
       " ('H10', 0.0),\n",
       " ('H11', 0.0),\n",
       " ('H12', 0.0),\n",
       " ('H13', 0.0),\n",
       " ('H14', 0.0),\n",
       " ('H15', 0.0),\n",
       " ('H16', 0.0),\n",
       " ('H17', 0.0),\n",
       " ('H18', 0.0),\n",
       " ('H19', 0.0),\n",
       " ('H20', 0.0),\n",
       " ('H21', 0.0),\n",
       " ('H22', 0.0),\n",
       " ('H23', 0.0),\n",
       " ('H24', 0.0),\n",
       " ('H1', 0.0),\n",
       " ('H2', 0.0),\n",
       " ('H3', 0.0),\n",
       " ('H4', 0.0),\n",
       " ('H5', 0.0),\n",
       " ('H6', 0.0),\n",
       " ('H7', 0.0),\n",
       " ('H8', 0.0),\n",
       " ('H9', 0.0),\n",
       " ('H10', 0.0),\n",
       " ('H11', 0.0),\n",
       " ('H12', 0.0),\n",
       " ('H13', 0.0),\n",
       " ('H14', 0.0),\n",
       " ('H15', 0.0),\n",
       " ('H16', 0.0),\n",
       " ('H17', 0.0),\n",
       " ('H18', 0.0),\n",
       " ('H19', 0.0),\n",
       " ('H20', 0.0),\n",
       " ('H21', 0.0),\n",
       " ('H22', 0.0),\n",
       " ('H23', 0.0),\n",
       " ('H24', 0.0),\n",
       " ('H1', 0.0),\n",
       " ('H2', 0.0),\n",
       " ('H3', 0.0),\n",
       " ('H4', 0.0),\n",
       " ('H5', 0.0),\n",
       " ('H6', 0.0),\n",
       " ('H7', 0.0),\n",
       " ('H8', 0.0),\n",
       " ('H9', 0.0),\n",
       " ('H10', 0.0),\n",
       " ('H11', 0.0),\n",
       " ('H12', 0.0),\n",
       " ('H13', 0.0),\n",
       " ('H14', 0.0),\n",
       " ('H15', 0.0),\n",
       " ('H16', 0.0),\n",
       " ('H17', 0.0),\n",
       " ('H18', 0.0),\n",
       " ('H19', 0.0),\n",
       " ('H20', 0.0),\n",
       " ('H21', 0.0),\n",
       " ('H22', 0.0),\n",
       " ('H23', 0.0),\n",
       " ('H24', 0.0),\n",
       " ('H1', 0.0),\n",
       " ('H2', 0.0),\n",
       " ('H3', 0.0),\n",
       " ('H4', 0.0),\n",
       " ('H5', 0.0),\n",
       " ('H6', 0.0),\n",
       " ('H7', 0.0),\n",
       " ('H8', 0.0),\n",
       " ('H9', 0.0),\n",
       " ('H10', 0.0),\n",
       " ('H11', 0.0),\n",
       " ('H12', 0.0),\n",
       " ('H13', 0.0),\n",
       " ('H14', 0.0),\n",
       " ('H15', 0.0),\n",
       " ('H16', 0.0),\n",
       " ('H17', 0.0),\n",
       " ('H18', 0.0),\n",
       " ('H19', 0.0),\n",
       " ('H20', 0.0),\n",
       " ('H21', 0.0),\n",
       " ('H22', 0.0),\n",
       " ('H23', 0.0),\n",
       " ('H24', 0.0),\n",
       " ('H1', 0.0),\n",
       " ('H2', 0.0),\n",
       " ('H3', 0.0),\n",
       " ('H4', 0.0),\n",
       " ('H5', 0.0),\n",
       " ('H6', 0.0),\n",
       " ('H7', 0.0),\n",
       " ('H8', 0.0),\n",
       " ('H9', 0.0),\n",
       " ('H10', 0.0),\n",
       " ('H11', 0.0),\n",
       " ('H12', 0.0),\n",
       " ('H13', 0.0),\n",
       " ('H14', 0.0),\n",
       " ('H15', 0.0),\n",
       " ('H16', 0.0),\n",
       " ('H17', 0.0),\n",
       " ('H18', 0.0),\n",
       " ('H19', 0.0),\n",
       " ('H20', 0.0),\n",
       " ('H21', 0.0),\n",
       " ('H22', 0.0),\n",
       " ('H23', 0.0),\n",
       " ('H24', 0.0),\n",
       " ('H1', 0.0),\n",
       " ('H2', 0.0),\n",
       " ('H3', 0.0),\n",
       " ('H4', 0.0),\n",
       " ('H5', 0.0),\n",
       " ('H6', 0.0),\n",
       " ('H7', 0.0),\n",
       " ('H8', 0.0),\n",
       " ('H9', 0.0),\n",
       " ('H10', 0.0),\n",
       " ('H11', 0.0),\n",
       " ('H12', 0.0),\n",
       " ('H13', 0.0),\n",
       " ('H14', 0.0),\n",
       " ('H15', 0.0),\n",
       " ('H16', 0.0),\n",
       " ('H17', 0.0),\n",
       " ('H18', 0.0),\n",
       " ('H19', 0.0),\n",
       " ('H20', 0.0),\n",
       " ('H21', 0.0),\n",
       " ('H22', 0.0),\n",
       " ('H23', 0.0),\n",
       " ('H24', 0.0),\n",
       " ('H1', 0.0),\n",
       " ('H2', 0.0),\n",
       " ('H3', 0.0),\n",
       " ('H4', 0.0),\n",
       " ('H5', 0.0),\n",
       " ('H6', 0.0),\n",
       " ('H7', 0.0),\n",
       " ('H8', 0.0),\n",
       " ('H9', 0.0),\n",
       " ('H10', 0.0),\n",
       " ('H11', 0.0),\n",
       " ('H12', 0.0),\n",
       " ('H13', 0.0),\n",
       " ('H14', 0.0),\n",
       " ('H15', 0.0),\n",
       " ('H16', 0.0),\n",
       " ('H17', 0.0),\n",
       " ('H18', 0.0),\n",
       " ('H19', 0.0),\n",
       " ('H20', 0.0),\n",
       " ('H21', 0.0),\n",
       " ('H22', 0.0),\n",
       " ('H23', 0.0),\n",
       " ('H24', 0.0),\n",
       " ('H1', 0.0),\n",
       " ('H2', 0.0),\n",
       " ('H3', 0.0),\n",
       " ('H4', 0.0),\n",
       " ('H5', 0.0),\n",
       " ('H6', 0.0),\n",
       " ('H7', 0.0),\n",
       " ('H8', 0.0),\n",
       " ('H9', 0.0),\n",
       " ('H10', 0.0),\n",
       " ('H11', 0.0),\n",
       " ('H12', 0.0),\n",
       " ('H13', 0.0),\n",
       " ('H14', 0.0),\n",
       " ('H15', 0.0),\n",
       " ('H16', 0.0),\n",
       " ('H17', 0.0),\n",
       " ('H18', 0.0),\n",
       " ('H19', 0.0),\n",
       " ('H20', 0.0),\n",
       " ('H21', 0.0),\n",
       " ('H22', 0.0),\n",
       " ('H23', 0.0),\n",
       " ('H24', 0.0),\n",
       " ('H1', 0.0),\n",
       " ('H2', 0.0),\n",
       " ('H3', 0.0),\n",
       " ('H4', 0.0),\n",
       " ('H5', 0.0),\n",
       " ('H6', 0.0),\n",
       " ('H7', 0.0),\n",
       " ('H8', 0.0),\n",
       " ('H9', 0.0),\n",
       " ('H10', 0.0),\n",
       " ('H11', 0.0),\n",
       " ('H12', 0.0),\n",
       " ('H13', 0.0),\n",
       " ('H14', 0.0),\n",
       " ('H15', 0.0),\n",
       " ('H16', 0.0),\n",
       " ('H17', 0.0),\n",
       " ('H18', 0.0),\n",
       " ('H19', 0.0),\n",
       " ('H20', 0.0),\n",
       " ('H21', 0.0),\n",
       " ('H22', 0.0),\n",
       " ('H23', 0.0),\n",
       " ('H24', 0.0),\n",
       " ('H1', 0.0),\n",
       " ('H2', 0.0),\n",
       " ('H3', 0.0),\n",
       " ('H4', 0.0),\n",
       " ('H5', 0.0),\n",
       " ('H6', 0.0),\n",
       " ('H7', 0.0),\n",
       " ('H8', 0.0),\n",
       " ('H9', 0.0),\n",
       " ('H10', 0.0),\n",
       " ('H11', 0.0),\n",
       " ('H12', 0.0),\n",
       " ('H13', 0.0),\n",
       " ('H14', 0.0),\n",
       " ('H15', 0.0),\n",
       " ('H16', 0.0),\n",
       " ('H17', 0.0),\n",
       " ('H18', 0.0),\n",
       " ('H19', 0.0),\n",
       " ('H20', 0.0),\n",
       " ('H21', 0.0),\n",
       " ('H22', 0.0),\n",
       " ('H23', 0.0),\n",
       " ('H24', 0.0),\n",
       " ('H1', 0.0),\n",
       " ('H2', 0.0),\n",
       " ('H3', 0.0),\n",
       " ('H4', 0.0),\n",
       " ('H5', 0.0),\n",
       " ('H6', 0.0),\n",
       " ('H7', 0.0),\n",
       " ('H8', 0.0),\n",
       " ('H9', 0.0),\n",
       " ('H10', 0.0),\n",
       " ('H11', 0.0),\n",
       " ('H12', 0.0),\n",
       " ('H13', 0.0),\n",
       " ('H14', 0.0),\n",
       " ('H15', 0.0),\n",
       " ('H16', 0.0),\n",
       " ('H17', 0.0),\n",
       " ('H18', 0.0),\n",
       " ('H19', 0.0),\n",
       " ('H20', 0.0),\n",
       " ('H21', 0.0),\n",
       " ('H22', 0.0),\n",
       " ('H23', 0.0),\n",
       " ('H24', 0.0),\n",
       " ('H1', 0.0),\n",
       " ('H2', 0.0),\n",
       " ('H3', 0.0),\n",
       " ('H4', 0.0),\n",
       " ('H5', 0.0),\n",
       " ('H6', 0.0),\n",
       " ('H7', 0.0),\n",
       " ('H8', 0.0),\n",
       " ('H9', 0.0),\n",
       " ('H10', 0.0),\n",
       " ('H11', 0.0),\n",
       " ('H12', 0.0),\n",
       " ('H13', 0.0),\n",
       " ('H14', 0.0),\n",
       " ('H15', 0.0),\n",
       " ('H16', 0.0),\n",
       " ('H17', 0.0),\n",
       " ('H18', 0.0),\n",
       " ('H19', 0.0),\n",
       " ('H20', 0.0),\n",
       " ('H21', 0.0),\n",
       " ('H22', 0.0),\n",
       " ('H23', 0.0),\n",
       " ('H24', 0.0),\n",
       " ('H1', 0.0),\n",
       " ('H2', 0.0),\n",
       " ('H3', 0.0),\n",
       " ('H4', 0.0),\n",
       " ('H5', 0.0),\n",
       " ('H6', 0.0),\n",
       " ('H7', 0.0),\n",
       " ('H8', 0.0),\n",
       " ('H9', 0.0),\n",
       " ('H10', 0.0),\n",
       " ('H11', 0.0),\n",
       " ('H12', 0.0),\n",
       " ('H13', 0.0),\n",
       " ('H14', 0.0),\n",
       " ('H15', 0.0),\n",
       " ('H16', 0.0),\n",
       " ('H17', 0.0),\n",
       " ('H18', 0.0),\n",
       " ('H19', 0.0),\n",
       " ('H20', 0.0),\n",
       " ('H21', 0.0),\n",
       " ('H22', 0.0),\n",
       " ('H23', 0.0),\n",
       " ('H24', 0.0),\n",
       " ('H1', 0.0),\n",
       " ('H2', 0.0),\n",
       " ('H3', 0.0),\n",
       " ('H4', 0.0),\n",
       " ('H5', 0.0),\n",
       " ('H6', 0.0),\n",
       " ('H7', 0.0),\n",
       " ('H8', 0.0),\n",
       " ('H9', 0.0),\n",
       " ('H10', 0.0),\n",
       " ('H11', 0.0),\n",
       " ('H12', 0.0),\n",
       " ('H13', 0.0),\n",
       " ('H14', 0.0),\n",
       " ('H15', 0.0),\n",
       " ('H16', 0.0),\n",
       " ('H17', 0.0),\n",
       " ('H18', 0.0),\n",
       " ('H19', 0.0),\n",
       " ('H20', 0.0),\n",
       " ('H21', 0.0),\n",
       " ('H22', 0.0),\n",
       " ('H23', 0.0),\n",
       " ('H24', 0.0),\n",
       " ('H1', 0.0),\n",
       " ('H2', 0.0),\n",
       " ('H3', 0.0),\n",
       " ('H4', 0.0),\n",
       " ('H5', 0.0),\n",
       " ('H6', 0.0),\n",
       " ('H7', 0.0),\n",
       " ('H8', 0.0),\n",
       " ('H9', 0.0),\n",
       " ('H10', 0.0),\n",
       " ('H11', 0.0),\n",
       " ('H12', 0.0),\n",
       " ('H13', 0.0),\n",
       " ('H14', 0.0),\n",
       " ('H15', 0.0),\n",
       " ('H16', 0.0),\n",
       " ('H17', 0.0),\n",
       " ('H18', 0.0),\n",
       " ('H19', 0.0),\n",
       " ('H20', 0.0),\n",
       " ('H21', 0.0),\n",
       " ('H22', 0.0),\n",
       " ('H23', 0.0),\n",
       " ('H24', 0.0),\n",
       " ('H1', 0.0),\n",
       " ('H2', 0.0),\n",
       " ('H3', 0.0),\n",
       " ('H4', 0.0),\n",
       " ('H5', 0.0),\n",
       " ('H6', 0.0),\n",
       " ('H7', 0.0),\n",
       " ('H8', 0.0),\n",
       " ('H9', 0.0),\n",
       " ('H10', 0.0),\n",
       " ('H11', 0.0),\n",
       " ('H12', 0.0),\n",
       " ('H13', 0.0),\n",
       " ('H14', 0.0),\n",
       " ('H15', 0.0),\n",
       " ('H16', 0.0),\n",
       " ('H17', 0.0),\n",
       " ('H18', 0.0),\n",
       " ('H19', 0.0),\n",
       " ('H20', 0.0),\n",
       " ('H21', 0.0),\n",
       " ('H22', 0.0),\n",
       " ('H23', 0.0),\n",
       " ('H24', 0.0),\n",
       " ('H1', 0.0),\n",
       " ('H2', 0.0),\n",
       " ('H3', 0.0),\n",
       " ('H4', 0.0),\n",
       " ('H5', 0.0),\n",
       " ('H6', 0.0),\n",
       " ('H7', 0.0),\n",
       " ('H8', 0.0),\n",
       " ('H9', 0.0),\n",
       " ('H10', 0.0),\n",
       " ('H11', 0.0),\n",
       " ('H12', 0.0),\n",
       " ('H13', 0.0),\n",
       " ('H14', 0.0),\n",
       " ('H15', 0.0),\n",
       " ('H16', 0.0),\n",
       " ('H17', 0.0),\n",
       " ('H18', 0.0),\n",
       " ('H19', 0.0),\n",
       " ('H20', 0.0),\n",
       " ('H21', 0.0),\n",
       " ('H22', 0.0),\n",
       " ('H23', 0.0),\n",
       " ('H24', 0.0),\n",
       " ('H1', 0.0),\n",
       " ('H2', 0.0),\n",
       " ('H3', 0.0),\n",
       " ('H4', 0.0),\n",
       " ('H5', 0.0),\n",
       " ('H6', 0.0),\n",
       " ('H7', 0.0),\n",
       " ('H8', 0.0),\n",
       " ('H9', 0.0),\n",
       " ('H10', 0.0),\n",
       " ('H11', 0.0),\n",
       " ('H12', 0.0),\n",
       " ('H13', 0.0),\n",
       " ('H14', 0.0),\n",
       " ('H15', 0.0),\n",
       " ('H16', 0.0),\n",
       " ('H17', 0.0),\n",
       " ('H18', 0.0),\n",
       " ('H19', 0.0),\n",
       " ('H20', 0.0),\n",
       " ('H21', 0.0),\n",
       " ('H22', 0.0),\n",
       " ('H23', 0.0),\n",
       " ('H24', 0.0),\n",
       " ('H1', 0.0),\n",
       " ('H2', 0.0),\n",
       " ('H3', 0.0),\n",
       " ('H4', 0.0),\n",
       " ('H5', 0.0),\n",
       " ('H6', 0.0),\n",
       " ('H7', 0.0),\n",
       " ('H8', 0.0),\n",
       " ('H9', 0.0),\n",
       " ('H10', 0.0),\n",
       " ('H11', 0.0),\n",
       " ('H12', 0.0),\n",
       " ('H13', 0.0),\n",
       " ('H14', 0.0),\n",
       " ('H15', 0.0),\n",
       " ('H16', 0.0),\n",
       " ('H17', 0.0),\n",
       " ('H18', 0.0),\n",
       " ('H19', 0.0),\n",
       " ('H20', 0.0),\n",
       " ('H21', 0.0),\n",
       " ('H22', 0.0),\n",
       " ('H23', 0.0),\n",
       " ('H24', 0.0),\n",
       " ('H1', 0.0),\n",
       " ('H2', 0.0),\n",
       " ('H3', 0.0),\n",
       " ('H4', 0.0),\n",
       " ('H5', 0.0),\n",
       " ('H6', 0.0),\n",
       " ('H7', 0.0),\n",
       " ('H8', 0.0),\n",
       " ('H9', 0.0),\n",
       " ('H10', 0.0),\n",
       " ('H11', 0.0),\n",
       " ('H12', 0.0),\n",
       " ('H13', 0.0),\n",
       " ('H14', 0.0),\n",
       " ('H15', 0.0),\n",
       " ('H16', 0.0),\n",
       " ('H17', 0.0),\n",
       " ('H18', 0.0),\n",
       " ('H19', 0.0),\n",
       " ('H20', 0.0),\n",
       " ('H21', 0.0),\n",
       " ('H22', 0.0),\n",
       " ('H23', 0.0),\n",
       " ('H24', 0.0),\n",
       " ('H1', 0.0),\n",
       " ('H2', 0.0),\n",
       " ('H3', 0.0),\n",
       " ('H4', 0.0),\n",
       " ('H5', 0.0),\n",
       " ('H6', 0.0),\n",
       " ('H7', 0.0),\n",
       " ('H8', 0.0),\n",
       " ('H9', 0.0),\n",
       " ('H10', 0.0),\n",
       " ('H11', 0.0),\n",
       " ('H12', 0.0),\n",
       " ('H13', 0.0),\n",
       " ('H14', 0.0),\n",
       " ('H15', 0.0),\n",
       " ('H16', 0.0),\n",
       " ('H17', 0.0),\n",
       " ('H18', 0.0),\n",
       " ('H19', 0.0),\n",
       " ('H20', 0.0),\n",
       " ('H21', 0.0),\n",
       " ('H22', 0.0),\n",
       " ('H23', 0.0),\n",
       " ('H24', 0.0),\n",
       " ('H1', 0.0),\n",
       " ('H2', 0.0),\n",
       " ('H3', 0.0),\n",
       " ('H4', 0.0),\n",
       " ('H5', 0.0),\n",
       " ('H6', 0.0),\n",
       " ('H7', 0.0),\n",
       " ('H8', 0.0),\n",
       " ('H9', 0.0),\n",
       " ('H10', 0.0),\n",
       " ('H11', 0.0),\n",
       " ('H12', 0.0),\n",
       " ('H13', 0.0),\n",
       " ('H14', 0.0),\n",
       " ('H15', 0.0),\n",
       " ('H16', 0.0),\n",
       " ('H17', 0.0),\n",
       " ('H18', 0.0),\n",
       " ('H19', 0.0),\n",
       " ('H20', 0.0),\n",
       " ('H21', 0.0),\n",
       " ('H22', 0.0),\n",
       " ('H23', 0.0),\n",
       " ('H24', 0.0),\n",
       " ('H1', 0.0),\n",
       " ('H2', 0.0),\n",
       " ('H3', 0.0),\n",
       " ('H4', 0.0),\n",
       " ('H5', 0.0),\n",
       " ('H6', 0.0),\n",
       " ('H7', 0.0),\n",
       " ('H8', 0.0),\n",
       " ('H9', 0.0),\n",
       " ('H10', 0.0),\n",
       " ('H11', 0.0),\n",
       " ('H12', 0.0),\n",
       " ('H13', 0.0),\n",
       " ('H14', 0.0),\n",
       " ('H15', 0.0),\n",
       " ('H16', 0.0),\n",
       " ('H17', 0.0),\n",
       " ('H18', 0.0),\n",
       " ('H19', 0.0),\n",
       " ('H20', 0.0),\n",
       " ('H21', 0.0),\n",
       " ('H22', 0.0),\n",
       " ('H23', 0.0),\n",
       " ('H24', 0.0),\n",
       " ('H1', 0.0),\n",
       " ('H2', 0.0),\n",
       " ('H3', 0.0),\n",
       " ('H4', 0.0),\n",
       " ('H5', 0.0),\n",
       " ('H6', 0.0),\n",
       " ('H7', 0.0),\n",
       " ('H8', 0.0),\n",
       " ('H9', 0.0),\n",
       " ('H10', 0.0),\n",
       " ('H11', 0.0),\n",
       " ('H12', 0.0),\n",
       " ('H13', 0.0),\n",
       " ('H14', 0.0),\n",
       " ('H15', 0.0),\n",
       " ('H16', 0.0),\n",
       " ('H17', 0.0),\n",
       " ('H18', 0.0),\n",
       " ('H19', 0.0),\n",
       " ('H20', 0.0),\n",
       " ('H21', 0.0),\n",
       " ('H22', 0.0),\n",
       " ('H23', 0.0),\n",
       " ('H24', 0.0),\n",
       " ('H1', 0.0),\n",
       " ('H2', 0.0),\n",
       " ('H3', 0.0),\n",
       " ('H4', 0.0),\n",
       " ('H5', 0.0),\n",
       " ('H6', 0.0),\n",
       " ('H7', 0.0),\n",
       " ('H8', 0.0),\n",
       " ('H9', 0.0),\n",
       " ('H10', 0.0),\n",
       " ('H11', 0.0),\n",
       " ('H12', 0.0),\n",
       " ('H13', 0.0),\n",
       " ('H14', 0.0),\n",
       " ('H15', 0.0),\n",
       " ('H16', 0.0),\n",
       " ('H17', 0.0),\n",
       " ('H18', 0.0),\n",
       " ('H19', 0.0),\n",
       " ('H20', 0.0),\n",
       " ('H21', 0.0),\n",
       " ('H22', 0.0),\n",
       " ('H23', 0.0),\n",
       " ('H24', 0.0),\n",
       " ('H1', 0.0),\n",
       " ('H2', 0.0),\n",
       " ('H3', 0.0),\n",
       " ('H4', 0.0),\n",
       " ('H5', 0.0),\n",
       " ('H6', 0.0),\n",
       " ('H7', 0.0),\n",
       " ('H8', 0.0),\n",
       " ('H9', 0.0),\n",
       " ('H10', 0.0),\n",
       " ('H11', 0.0),\n",
       " ('H12', 0.0),\n",
       " ('H13', 0.0),\n",
       " ('H14', 0.0),\n",
       " ('H15', 0.0),\n",
       " ('H16', 0.0),\n",
       " ('H17', 0.0),\n",
       " ('H18', 0.0),\n",
       " ('H19', 0.0),\n",
       " ('H20', 0.0),\n",
       " ('H21', 0.0),\n",
       " ('H22', 0.0),\n",
       " ('H23', 0.0),\n",
       " ('H24', 0.0),\n",
       " ('H1', 0.0),\n",
       " ('H2', 0.0),\n",
       " ('H3', 0.0),\n",
       " ('H4', 0.0),\n",
       " ('H5', 0.0),\n",
       " ('H6', 0.0),\n",
       " ('H7', 0.0),\n",
       " ('H8', 0.0),\n",
       " ('H9', 0.0),\n",
       " ('H10', 0.0),\n",
       " ('H11', 0.0),\n",
       " ('H12', 0.0),\n",
       " ('H13', 0.0),\n",
       " ('H14', 0.0),\n",
       " ('H15', 0.0),\n",
       " ('H16', 0.0),\n",
       " ('H17', 0.0),\n",
       " ('H18', 0.0),\n",
       " ('H19', 0.0),\n",
       " ('H20', 0.0),\n",
       " ('H21', 0.0),\n",
       " ('H22', 0.0),\n",
       " ('H23', 0.0),\n",
       " ('H24', 0.0),\n",
       " ('H1', 0.0),\n",
       " ('H2', 0.0),\n",
       " ('H3', 0.0),\n",
       " ('H4', 0.0),\n",
       " ('H5', 0.0),\n",
       " ('H6', 0.0),\n",
       " ('H7', 0.0),\n",
       " ('H8', 0.0),\n",
       " ('H9', 0.0),\n",
       " ('H10', 0.0),\n",
       " ('H11', 0.0),\n",
       " ('H12', 0.0),\n",
       " ('H13', 0.0),\n",
       " ('H14', 0.0),\n",
       " ('H15', 0.0),\n",
       " ('H16', 0.0),\n",
       " ('H17', 0.0),\n",
       " ('H18', 0.0),\n",
       " ('H19', 0.0),\n",
       " ('H20', 0.0),\n",
       " ('H21', 0.0),\n",
       " ('H22', 0.0),\n",
       " ('H23', 0.0),\n",
       " ('H24', 0.0),\n",
       " ('H1', 0.0),\n",
       " ('H2', 0.0),\n",
       " ('H3', 0.0),\n",
       " ('H4', 0.0),\n",
       " ('H5', 0.0),\n",
       " ('H6', 0.0),\n",
       " ('H7', 0.0),\n",
       " ('H8', 0.0),\n",
       " ('H9', 0.0),\n",
       " ('H10', 0.0),\n",
       " ('H11', 0.0),\n",
       " ('H12', 0.0),\n",
       " ('H13', 0.0),\n",
       " ('H14', 0.0),\n",
       " ('H15', 0.0),\n",
       " ('H16', 0.0),\n",
       " ('H17', 0.0),\n",
       " ('H18', 0.0),\n",
       " ('H19', 0.0),\n",
       " ('H20', 0.0),\n",
       " ('H21', 0.0),\n",
       " ('H22', 0.0),\n",
       " ('H23', 0.0),\n",
       " ('H24', 0.0),\n",
       " ('H1', 0.0),\n",
       " ('H2', 0.0),\n",
       " ('H3', 0.0),\n",
       " ('H4', 0.0),\n",
       " ('H5', 0.0),\n",
       " ('H6', 0.0),\n",
       " ('H7', 0.0),\n",
       " ('H8', 0.0),\n",
       " ('H9', 0.0),\n",
       " ('H10', 0.0),\n",
       " ('H11', 0.0),\n",
       " ('H12', 0.0),\n",
       " ('H13', 0.0),\n",
       " ('H14', 0.0),\n",
       " ('H15', 0.0),\n",
       " ('H16', 0.0),\n",
       " ...]"
      ]
     },
     "execution_count": 50,
     "metadata": {},
     "output_type": "execute_result"
    }
   ],
   "source": [
    "command = \"SELECT time_of_day_name, dds FROM DemandSpecificDistribution;\"\n",
    "curs = conn.cursor()\n",
    "desc = curs.execute(command)\n",
    "display(desc.description)\n",
    "curs.fetchall()"
   ]
  },
  {
   "cell_type": "code",
   "execution_count": null,
   "metadata": {},
   "outputs": [],
   "source": []
  },
  {
   "cell_type": "code",
   "execution_count": 14,
   "metadata": {},
   "outputs": [],
   "source": [
    "def plot_electricity_profiles(db_conn, region, outcomm, colors=elc_colors, N_hours=24, scenario=None):\n",
    "    \"\"\"\n",
    "    This function plots all of the load profiles\n",
    "    for a particular sector.\n",
    "    \"\"\"\n",
    "\n",
    "    seasons = get_seasons(db_conn)\n",
    "    periods = get_periods(db_conn)\n",
    "    all_techs = get_regional_techs(db_conn, outcomm, region)\n",
    "\n",
    "    fig, ax = plt.subplots(nrows=len(periods), ncols=1, sharex=True, figsize=(10, 20))\n",
    "\n",
    "    axes = []\n",
    "    \n",
    "    if len(periods) == 1:\n",
    "        year = periods[0]\n",
    "        for j, s in enumerate(seasons):\n",
    "            techs, activity = get_load_profile(db_conn, region, s, year, outcomm, scenario)\n",
    "            sec_colors = [elc_colors[tech] for tech in techs]\n",
    "            hours = np.arange(0,N_hours,1)+j*N_hours+1\n",
    "            ax.xaxis.set_minor_locator(AutoMinorLocator())\n",
    "            d1 = ax.stackplot(hours, activity, labels=techs, colors=sec_colors, baseline='zero')\n",
    "            ax.tick_params(which='minor', length=4, color='r')\n",
    "            ax.set_ylabel(f'Generation [GWh] : {year}')\n",
    "            axes.append(d1)\n",
    "    else:\n",
    "        for i,year in enumerate(periods):\n",
    "    #         dmd = get_demand_value(conn, period=year, comm='CW_DEMAND', region='UIUC')\n",
    "            for j, s in enumerate(seasons):\n",
    "                techs, activity = get_load_profile(db_conn, region, s, year, outcomm, scenario)\n",
    "                sec_colors = [elc_colors[tech] for tech in techs]\n",
    "                hours = np.arange(0,N_hours,1)+j*N_hours+1\n",
    "                ax[i].xaxis.set_minor_locator(AutoMinorLocator())\n",
    "                d1 = ax[i].stackplot(hours, activity, labels=techs, colors=sec_colors, baseline='zero')\n",
    "                ax[i].tick_params(which='minor', length=4, color='r')\n",
    "                ax[i].set_ylabel(f'Generation [GWh] : {year}')\n",
    "                axes.append(d1)\n",
    "\n",
    "    fig.legend(axes, labels=techs, loc='right',bbox_to_anchor=(1.3, 0.75), fontsize=21)\n",
    "#     fig.legend(axes, labels=all_techs)\n",
    "    plt.subplots_adjust(right=0.9)\n",
    "#     plt.legend()\n",
    "    plt.show()\n",
    "\n",
    "    return techs, activity"
   ]
  }
 ],
 "metadata": {
  "kernelspec": {
   "display_name": "Python 3 (ipykernel)",
   "language": "python",
   "name": "python3"
  },
  "language_info": {
   "codemirror_mode": {
    "name": "ipython",
    "version": 3
   },
   "file_extension": ".py",
   "mimetype": "text/x-python",
   "name": "python",
   "nbconvert_exporter": "python",
   "pygments_lexer": "ipython3",
   "version": "3.9.12"
  }
 },
 "nbformat": 4,
 "nbformat_minor": 4
}
