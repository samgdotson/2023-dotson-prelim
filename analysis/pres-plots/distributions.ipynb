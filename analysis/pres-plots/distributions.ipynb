{
 "cells": [
  {
   "cell_type": "code",
   "execution_count": 5,
   "id": "c5638f85",
   "metadata": {},
   "outputs": [],
   "source": [
    "import scipy as sp\n",
    "import matplotlib.pyplot as plt\n",
    "import matplotlib as mpl\n",
    "import pandas as pd\n",
    "import seaborn as sb\n",
    "import numpy as np\n",
    "\n",
    "mpl.use(\"pgf\")\n",
    "plt.rcParams['pgf.texsystem'] = 'pdflatex'\n",
    "plt.rcParams['text.usetex'] = True\n",
    "plt.rcParams['pgf.rcfonts'] = False\n",
    "plt.rcParams['figure.edgecolor'] = 'k'\n",
    "plt.rcParams['figure.facecolor'] = 'w'\n",
    "plt.rcParams['savefig.dpi'] = 400\n",
    "plt.rcParams['savefig.bbox'] = 'tight'\n",
    "plt.rcParams['font.family'] = \"serif\"\n",
    "plt.rcParams['ytick.labelsize'] = 16\n",
    "plt.rcParams['xtick.labelsize'] = 16\n",
    "# plt.rcParams['axes.labelsize'] = \"large\""
   ]
  },
  {
   "cell_type": "code",
   "execution_count": 6,
   "id": "e736a066",
   "metadata": {},
   "outputs": [
    {
     "name": "stderr",
     "output_type": "stream",
     "text": [
      "/var/folders/6h/g412p7x53jbcqr_x5sy9z8th0000gn/T/ipykernel_21201/3480299161.py:10: UserWarning: Matplotlib is currently using pgf, which is a non-GUI backend, so cannot show the figure.\n",
      "  plt.show()\n"
     ]
    }
   ],
   "source": [
    "fig, ax = plt.subplots(figsize=(9,7),facecolor='lightgray')\n",
    "iris = sb.load_dataset(\"iris\")\n",
    "sb.kdeplot(ax=ax,data=iris, legend=None, fill=True,alpha=0.5)\n",
    "ax.set_ylabel(\"Density\", fontsize=24)\n",
    "# ax.set_yticklabels([])\n",
    "ax.set_xticklabels([])\n",
    "\n",
    "plt.tight_layout()\n",
    "plt.savefig(\"../../docs/figures/multiple-distributions.pgf\")\n",
    "plt.show()"
   ]
  },
  {
   "cell_type": "code",
   "execution_count": null,
   "id": "a5d23af7",
   "metadata": {},
   "outputs": [],
   "source": []
  }
 ],
 "metadata": {
  "kernelspec": {
   "display_name": "Python 3 (ipykernel)",
   "language": "python",
   "name": "python3"
  },
  "language_info": {
   "codemirror_mode": {
    "name": "ipython",
    "version": 3
   },
   "file_extension": ".py",
   "mimetype": "text/x-python",
   "name": "python",
   "nbconvert_exporter": "python",
   "pygments_lexer": "ipython3",
   "version": "3.10.9"
  }
 },
 "nbformat": 4,
 "nbformat_minor": 5
}
