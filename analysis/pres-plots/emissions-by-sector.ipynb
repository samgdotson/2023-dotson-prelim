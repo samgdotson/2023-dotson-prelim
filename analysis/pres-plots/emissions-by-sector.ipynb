{
 "cells": [
  {
   "cell_type": "code",
   "execution_count": 1,
   "id": "e5cc6891",
   "metadata": {},
   "outputs": [],
   "source": [
    "import numpy as np\n",
    "import matplotlib.pyplot as plt\n",
    "import matplotlib.ticker as tck\n",
    "import matplotlib as mpl\n",
    "import pandas as pd\n",
    "import seaborn as sb\n",
    "\n",
    "mpl.use(\"pgf\")\n",
    "plt.rcParams['pgf.texsystem'] = 'pdflatex'\n",
    "plt.rcParams['text.usetex'] = True\n",
    "plt.rcParams['pgf.rcfonts'] = False\n",
    "plt.rcParams['figure.edgecolor'] = 'k'\n",
    "plt.rcParams['figure.facecolor'] = 'w'\n",
    "plt.rcParams['savefig.dpi'] = 400\n",
    "plt.rcParams['savefig.bbox'] = 'tight'\n",
    "plt.rcParams['font.family'] = \"serif\""
   ]
  },
  {
   "cell_type": "markdown",
   "id": "8dba52ba",
   "metadata": {},
   "source": [
    "The data for this plot come from the [EPA Greenhouse Gas Inventory: 1991-2021](https://www.epa.gov/ghgemissions/inventory-us-greenhouse-gas-emissions-and-sinks)"
   ]
  },
  {
   "cell_type": "code",
   "execution_count": 2,
   "id": "ea266c28",
   "metadata": {},
   "outputs": [
    {
     "data": {
      "text/html": [
       "<div>\n",
       "<style scoped>\n",
       "    .dataframe tbody tr th:only-of-type {\n",
       "        vertical-align: middle;\n",
       "    }\n",
       "\n",
       "    .dataframe tbody tr th {\n",
       "        vertical-align: top;\n",
       "    }\n",
       "\n",
       "    .dataframe thead th {\n",
       "        text-align: right;\n",
       "    }\n",
       "</style>\n",
       "<table border=\"1\" class=\"dataframe\">\n",
       "  <thead>\n",
       "    <tr style=\"text-align: right;\">\n",
       "      <th></th>\n",
       "      <th>values</th>\n",
       "    </tr>\n",
       "    <tr>\n",
       "      <th>sectors</th>\n",
       "      <th></th>\n",
       "    </tr>\n",
       "  </thead>\n",
       "  <tbody>\n",
       "    <tr>\n",
       "      <th>Agriculture</th>\n",
       "      <td>10.0</td>\n",
       "    </tr>\n",
       "    <tr>\n",
       "      <th>Commercial \\&amp; Residential</th>\n",
       "      <td>12.7</td>\n",
       "    </tr>\n",
       "    <tr>\n",
       "      <th>Industrial</th>\n",
       "      <td>23.5</td>\n",
       "    </tr>\n",
       "    <tr>\n",
       "      <th>Electric Power</th>\n",
       "      <td>25.0</td>\n",
       "    </tr>\n",
       "    <tr>\n",
       "      <th>Transportation</th>\n",
       "      <td>28.5</td>\n",
       "    </tr>\n",
       "  </tbody>\n",
       "</table>\n",
       "</div>"
      ],
      "text/plain": [
       "                           values\n",
       "sectors                          \n",
       "Agriculture                  10.0\n",
       "Commercial \\& Residential    12.7\n",
       "Industrial                   23.5\n",
       "Electric Power               25.0\n",
       "Transportation               28.5"
      ]
     },
     "metadata": {},
     "output_type": "display_data"
    }
   ],
   "source": [
    "data_dict = {'Electric Power':25.0, \n",
    "       'Industrial':23.5,\n",
    "       'Commercial \\& Residential':12.7,\n",
    "       'Agriculture':10.0,\n",
    "       'Transportation':28.5}\n",
    "df = pd.DataFrame({'sectors':list(data_dict.keys()), \n",
    "         'values':np.array(list(data_dict.values())).astype('float')})\n",
    "df.set_index('sectors',drop=True,inplace=True)\n",
    "# df = pd.DataFrame(dict(zip(data_dict.keys(), data_dict.values())))\n",
    "df.sort_values(by='values',inplace=True)\n",
    "display(df)"
   ]
  },
  {
   "cell_type": "code",
   "execution_count": 11,
   "id": "ad6456cd",
   "metadata": {},
   "outputs": [
    {
     "name": "stderr",
     "output_type": "stream",
     "text": [
      "/var/folders/6h/g412p7x53jbcqr_x5sy9z8th0000gn/T/ipykernel_6703/2459640223.py:6: UserWarning: FixedFormatter should only be used together with FixedLocator\n",
      "  ax.set_yticklabels(labels=ax.yaxis.get_ticklabels(), fontsize=16)\n"
     ]
    }
   ],
   "source": [
    "fig, ax = plt.subplots(figsize=(8,8), facecolor='w')\n",
    "df.plot.bar(ax=ax, legend=False)\n",
    "ax.grid(which='major', alpha=0.5)\n",
    "ax.yaxis.set_minor_locator(tck.AutoMinorLocator())\n",
    "ax.grid(which='minor', alpha=0.25, linestyle='--')\n",
    "ax.set_yticklabels(labels=ax.yaxis.get_ticklabels(), fontsize=16)\n",
    "ax.set_xticklabels(labels=ax.xaxis.get_ticklabels(), fontsize=16, rotation=45, weight='bold')\n",
    "ax.set_xlabel('')\n",
    "for container in ax.containers:\n",
    "    ax.bar_label(container, fontsize=14)\n",
    "\n",
    "plt.tight_layout()\n",
    "# plt.show()\n",
    "plt.savefig(\"../docs/figures/emissions-by-sector.pgf\")"
   ]
  },
  {
   "cell_type": "code",
   "execution_count": null,
   "id": "db9f0837",
   "metadata": {},
   "outputs": [],
   "source": []
  },
  {
   "cell_type": "code",
   "execution_count": null,
   "id": "e20793ed",
   "metadata": {},
   "outputs": [],
   "source": []
  }
 ],
 "metadata": {
  "kernelspec": {
   "display_name": "Python 3 (ipykernel)",
   "language": "python",
   "name": "python3"
  },
  "language_info": {
   "codemirror_mode": {
    "name": "ipython",
    "version": 3
   },
   "file_extension": ".py",
   "mimetype": "text/x-python",
   "name": "python",
   "nbconvert_exporter": "python",
   "pygments_lexer": "ipython3",
   "version": "3.10.9"
  }
 },
 "nbformat": 4,
 "nbformat_minor": 5
}
