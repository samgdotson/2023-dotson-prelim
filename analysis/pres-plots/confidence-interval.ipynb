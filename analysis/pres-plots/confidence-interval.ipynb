{
 "cells": [
  {
   "cell_type": "markdown",
   "id": "53d86704",
   "metadata": {},
   "source": [
    "This plot code is based on this example from the [matplotlib gallery](https://matplotlib.org/stable/gallery/lines_bars_and_markers/fill_between_demo.html#sphx-glr-gallery-lines-bars-and-markers-fill-between-demo-py)."
   ]
  },
  {
   "cell_type": "code",
   "execution_count": 1,
   "id": "2f6e8ce1",
   "metadata": {},
   "outputs": [],
   "source": [
    "import matplotlib.pyplot as plt\n",
    "import numpy as np\n",
    "import matplotlib as mpl\n",
    "\n",
    "mpl.use(\"pgf\")\n",
    "plt.rcParams['pgf.texsystem'] = 'pdflatex'\n",
    "plt.rcParams['text.usetex'] = True\n",
    "plt.rcParams['pgf.rcfonts'] = False\n",
    "plt.rcParams['figure.edgecolor'] = 'k'\n",
    "plt.rcParams['figure.facecolor'] = 'w'\n",
    "plt.rcParams['savefig.dpi'] = 400\n",
    "plt.rcParams['savefig.bbox'] = 'tight'\n",
    "plt.rcParams['font.family'] = \"serif\"\n",
    "plt.rcParams['ytick.labelsize'] = 16\n",
    "plt.rcParams['xtick.labelsize'] = 16"
   ]
  },
  {
   "cell_type": "code",
   "execution_count": 3,
   "id": "81034b2c",
   "metadata": {},
   "outputs": [],
   "source": [
    "N = 21\n",
    "upper = 10\n",
    "np.random.seed(1234)\n",
    "x = np.linspace(0, 10, 11)\n",
    "y = np.array([4.9, 8.1, 10.8, 10.3, 11.2, 11.1, 12.1,  11.1, 13.9, 15.1, 12.5])\n",
    "\n",
    "# fit a linear curve and estimate its y-values and their error.\n",
    "a, b,c = np.polyfit(x, y, deg=2)\n",
    "y_est = a * x**2 + b * x + c\n",
    "# a, b,c,d = np.polyfit(x, y, deg=3)\n",
    "# y_est = a * x**3 + b * x**2 + c*x +d\n",
    "y_err = y_est.std() * np.sqrt(1/len(x) +\n",
    "                          (y_est - y.mean())**2 / np.sum((y_est - y.mean())**2))\n",
    "\n",
    "fig, ax = plt.subplots(figsize=(9,7),facecolor='lightgray')\n",
    "ax.plot(x, y_est, '-')\n",
    "ax.fill_between(x, y_est - y_err, y_est + y_err, alpha=0.4, color='gray')\n",
    "ax.fill_between(x, y_est - 2*y_err, y_est + 2*y_err, alpha=0.2, color='gray')\n",
    "# ax.plot(x, y, 'o', color='tab:brown')\n",
    "plt.savefig(\"../../pres/images/confidence-int.pgf\")"
   ]
  },
  {
   "cell_type": "code",
   "execution_count": null,
   "id": "6861e8d8",
   "metadata": {},
   "outputs": [],
   "source": []
  }
 ],
 "metadata": {
  "kernelspec": {
   "display_name": "Python 3 (ipykernel)",
   "language": "python",
   "name": "python3"
  },
  "language_info": {
   "codemirror_mode": {
    "name": "ipython",
    "version": 3
   },
   "file_extension": ".py",
   "mimetype": "text/x-python",
   "name": "python",
   "nbconvert_exporter": "python",
   "pygments_lexer": "ipython3",
   "version": "3.10.9"
  }
 },
 "nbformat": 4,
 "nbformat_minor": 5
}
