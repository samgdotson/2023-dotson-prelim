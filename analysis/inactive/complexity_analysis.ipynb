{
 "cells": [
  {
   "cell_type": "code",
   "execution_count": 1,
   "id": "7735ef08",
   "metadata": {},
   "outputs": [],
   "source": [
    "import numpy as np\n",
    "import matplotlib.pyplot as plt\n",
    "import pandas as pd\n",
    "\n",
    "import pyentrp.entropy as ent\n",
    "from nolitsa.delay import dmi\n",
    "from nolitsa.dimension import fnn\n",
    "from mpl_toolkits.mplot3d import axes3d, Axes3D\n",
    "# from embedding import embed"
   ]
  },
  {
   "cell_type": "code",
   "execution_count": 2,
   "id": "d6b618dd",
   "metadata": {},
   "outputs": [],
   "source": [
    "from unyt import BTU"
   ]
  },
  {
   "cell_type": "code",
   "execution_count": 3,
   "id": "6ca9d908",
   "metadata": {},
   "outputs": [
    {
     "data": {
      "text/html": [
       "<div>\n",
       "<style scoped>\n",
       "    .dataframe tbody tr th:only-of-type {\n",
       "        vertical-align: middle;\n",
       "    }\n",
       "\n",
       "    .dataframe tbody tr th {\n",
       "        vertical-align: top;\n",
       "    }\n",
       "\n",
       "    .dataframe thead th {\n",
       "        text-align: right;\n",
       "    }\n",
       "</style>\n",
       "<table border=\"1\" class=\"dataframe\">\n",
       "  <thead>\n",
       "    <tr style=\"text-align: right;\">\n",
       "      <th></th>\n",
       "      <th>Henry Hub Natural Gas Spot Price (Dollars per Million Btu)</th>\n",
       "    </tr>\n",
       "    <tr>\n",
       "      <th>Date</th>\n",
       "      <th></th>\n",
       "    </tr>\n",
       "  </thead>\n",
       "  <tbody>\n",
       "    <tr>\n",
       "      <th>1997-01-07 00:00:00</th>\n",
       "      <td>3.82</td>\n",
       "    </tr>\n",
       "    <tr>\n",
       "      <th>1997-01-07 01:00:00</th>\n",
       "      <td>3.82</td>\n",
       "    </tr>\n",
       "    <tr>\n",
       "      <th>1997-01-07 02:00:00</th>\n",
       "      <td>3.82</td>\n",
       "    </tr>\n",
       "    <tr>\n",
       "      <th>1997-01-07 03:00:00</th>\n",
       "      <td>3.82</td>\n",
       "    </tr>\n",
       "    <tr>\n",
       "      <th>1997-01-07 04:00:00</th>\n",
       "      <td>3.82</td>\n",
       "    </tr>\n",
       "  </tbody>\n",
       "</table>\n",
       "</div>"
      ],
      "text/plain": [
       "                     Henry Hub Natural Gas Spot Price (Dollars per Million Btu)\n",
       "Date                                                                           \n",
       "1997-01-07 00:00:00                                               3.82         \n",
       "1997-01-07 01:00:00                                               3.82         \n",
       "1997-01-07 02:00:00                                               3.82         \n",
       "1997-01-07 03:00:00                                               3.82         \n",
       "1997-01-07 04:00:00                                               3.82         "
      ]
     },
     "execution_count": 3,
     "metadata": {},
     "output_type": "execute_result"
    }
   ],
   "source": [
    "hh_data = pd.read_excel(\"https://www.eia.gov/dnav/ng/hist_xls/RNGWHHDd.xls\", \n",
    "                        sheet_name='Data 1',\n",
    "                        skiprows=2,\n",
    "                        parse_dates=True,\n",
    "                        index_col='Date')\n",
    "# hh_data = hh_data.resample('H').interpolate(method='linear')\n",
    "hh_data = hh_data.resample('H').ffill()\n",
    "hh_data.head()"
   ]
  },
  {
   "cell_type": "code",
   "execution_count": 4,
   "id": "0d5253e2",
   "metadata": {},
   "outputs": [],
   "source": [
    "hh_data = hh_data.resample('H').interpolate(method='linear')\n",
    "# hh_data.isnull().sum()"
   ]
  },
  {
   "cell_type": "code",
   "execution_count": 5,
   "id": "7641e7f0",
   "metadata": {},
   "outputs": [
    {
     "data": {
      "text/html": [
       "<div>\n",
       "<style scoped>\n",
       "    .dataframe tbody tr th:only-of-type {\n",
       "        vertical-align: middle;\n",
       "    }\n",
       "\n",
       "    .dataframe tbody tr th {\n",
       "        vertical-align: top;\n",
       "    }\n",
       "\n",
       "    .dataframe thead th {\n",
       "        text-align: right;\n",
       "    }\n",
       "</style>\n",
       "<table border=\"1\" class=\"dataframe\">\n",
       "  <thead>\n",
       "    <tr style=\"text-align: right;\">\n",
       "      <th></th>\n",
       "      <th>Henry Hub Natural Gas Spot Price (Dollars per Million Btu)</th>\n",
       "    </tr>\n",
       "    <tr>\n",
       "      <th>Date</th>\n",
       "      <th></th>\n",
       "    </tr>\n",
       "  </thead>\n",
       "  <tbody>\n",
       "    <tr>\n",
       "      <th>1997-01-07 00:00:00</th>\n",
       "      <td>3.82</td>\n",
       "    </tr>\n",
       "    <tr>\n",
       "      <th>1997-01-07 01:00:00</th>\n",
       "      <td>3.82</td>\n",
       "    </tr>\n",
       "    <tr>\n",
       "      <th>1997-01-07 02:00:00</th>\n",
       "      <td>3.82</td>\n",
       "    </tr>\n",
       "    <tr>\n",
       "      <th>1997-01-07 03:00:00</th>\n",
       "      <td>3.82</td>\n",
       "    </tr>\n",
       "    <tr>\n",
       "      <th>1997-01-07 04:00:00</th>\n",
       "      <td>3.82</td>\n",
       "    </tr>\n",
       "    <tr>\n",
       "      <th>...</th>\n",
       "      <td>...</td>\n",
       "    </tr>\n",
       "    <tr>\n",
       "      <th>2023-02-13 20:00:00</th>\n",
       "      <td>2.42</td>\n",
       "    </tr>\n",
       "    <tr>\n",
       "      <th>2023-02-13 21:00:00</th>\n",
       "      <td>2.42</td>\n",
       "    </tr>\n",
       "    <tr>\n",
       "      <th>2023-02-13 22:00:00</th>\n",
       "      <td>2.42</td>\n",
       "    </tr>\n",
       "    <tr>\n",
       "      <th>2023-02-13 23:00:00</th>\n",
       "      <td>2.42</td>\n",
       "    </tr>\n",
       "    <tr>\n",
       "      <th>2023-02-14 00:00:00</th>\n",
       "      <td>2.42</td>\n",
       "    </tr>\n",
       "  </tbody>\n",
       "</table>\n",
       "<p>228817 rows × 1 columns</p>\n",
       "</div>"
      ],
      "text/plain": [
       "                     Henry Hub Natural Gas Spot Price (Dollars per Million Btu)\n",
       "Date                                                                           \n",
       "1997-01-07 00:00:00                                               3.82         \n",
       "1997-01-07 01:00:00                                               3.82         \n",
       "1997-01-07 02:00:00                                               3.82         \n",
       "1997-01-07 03:00:00                                               3.82         \n",
       "1997-01-07 04:00:00                                               3.82         \n",
       "...                                                                ...         \n",
       "2023-02-13 20:00:00                                               2.42         \n",
       "2023-02-13 21:00:00                                               2.42         \n",
       "2023-02-13 22:00:00                                               2.42         \n",
       "2023-02-13 23:00:00                                               2.42         \n",
       "2023-02-14 00:00:00                                               2.42         \n",
       "\n",
       "[228817 rows x 1 columns]"
      ]
     },
     "execution_count": 5,
     "metadata": {},
     "output_type": "execute_result"
    }
   ],
   "source": [
    "hh_data"
   ]
  },
  {
   "cell_type": "code",
   "execution_count": 6,
   "id": "a038ca87",
   "metadata": {},
   "outputs": [
    {
     "data": {
      "text/plain": [
       "<AxesSubplot:xlabel='Date'>"
      ]
     },
     "execution_count": 6,
     "metadata": {},
     "output_type": "execute_result"
    },
    {
     "data": {
      "image/png": "[encoded data removed]",
      "text/plain": [
       "<Figure size 432x288 with 1 Axes>"
      ]
     },
     "metadata": {
      "needs_background": "light"
     },
     "output_type": "display_data"
    }
   ],
   "source": [
    "Y = 2020\n",
    "hh_data[hh_data.index.year==Y].plot()"
   ]
  },
  {
   "cell_type": "markdown",
   "id": "c40a47e2",
   "metadata": {},
   "source": [
    "### Estimate the Time Delay using Delayed Mutual Information (DMI)"
   ]
  },
  {
   "cell_type": "code",
   "execution_count": 7,
   "id": "d3d5adee",
   "metadata": {},
   "outputs": [
    {
     "data": {
      "text/plain": [
       "Henry Hub Natural Gas Spot Price (Dollars per Million Btu)    0\n",
       "dtype: int64"
      ]
     },
     "execution_count": 7,
     "metadata": {},
     "output_type": "execute_result"
    }
   ],
   "source": [
    "hh_data.isnull().sum()"
   ]
  },
  {
   "cell_type": "code",
   "execution_count": 8,
   "id": "3cd67f84",
   "metadata": {},
   "outputs": [
    {
     "data": {
      "text/plain": [
       "array([3.82, 3.82, 3.82, ..., 2.42, 2.42, 2.42])"
      ]
     },
     "execution_count": 8,
     "metadata": {},
     "output_type": "execute_result"
    }
   ],
   "source": [
    "hh_data.iloc[:,0].values"
   ]
  },
  {
   "cell_type": "code",
   "execution_count": 26,
   "id": "86f86b9a",
   "metadata": {},
   "outputs": [
    {
     "name": "stdout",
     "output_type": "stream",
     "text": [
      "3.307725532077392e-05\n"
     ]
    }
   ],
   "source": [
    "sinc = np.sin(np.arange(8760))\n",
    "ev = np.mean(sinc)\n",
    "var = np.std(sinc)\n",
    "print(ev/var**2)"
   ]
  },
  {
   "cell_type": "code",
   "execution_count": 27,
   "id": "27a0999c",
   "metadata": {},
   "outputs": [
    {
     "data": {
      "text/plain": [
       "(array([1801.,  790.,  641.,  593.,  555.,  554.,  594.,  642.,  789.,\n",
       "        1801.]),\n",
       " array([-9.99993035e-01, -7.99994416e-01, -5.99995798e-01, -3.99997180e-01,\n",
       "        -1.99998562e-01,  5.60279767e-08,  1.99998674e-01,  3.99997292e-01,\n",
       "         5.99995910e-01,  7.99994529e-01,  9.99993147e-01]),\n",
       " <BarContainer object of 10 artists>)"
      ]
     },
     "execution_count": 27,
     "metadata": {},
     "output_type": "execute_result"
    },
    {
     "data": {
      "image/png": "[encoded data removed]",
      "text/plain": [
       "<Figure size 432x288 with 1 Axes>"
      ]
     },
     "metadata": {
      "needs_background": "light"
     },
     "output_type": "display_data"
    }
   ],
   "source": [
    "plt.hist(sinc)"
   ]
  },
  {
   "cell_type": "code",
   "execution_count": 9,
   "id": "fb4af8e5",
   "metadata": {},
   "outputs": [],
   "source": [
    "# %%timeit\n",
    "tau_max = 1000\n",
    "T = np.arange(1,tau_max+1,1)\n",
    "# DMI = dmi(hh_data.iloc[:,0].values, maxtau=tau_max)\n",
    "DMI = dmi(np.sin(np.arange(8760)), maxtau=tau_max)\n",
    "# get the first 10 minima.\n",
    "minima_indices = np.array(DMI).argsort()[:10]\n",
    "dmi_minima = np.array([DMI[i] for i in minima_indices])"
   ]
  },
  {
   "cell_type": "code",
   "execution_count": 10,
   "id": "b37d4135",
   "metadata": {},
   "outputs": [
    {
     "name": "stdout",
     "output_type": "stream",
     "text": [
      "[680 325 740  30 385 790  80 435 630 985]\n",
      "[3.61771165 3.61776421 3.61834541 3.61836915 3.61843312 3.64067433\n",
      " 3.64076077 3.64078431 3.64183236 3.64183713]\n",
      "The time delay should be T= 680\n"
     ]
    },
    {
     "data": {
      "image/png": "[encoded data removed]",
      "text/plain": [
       "<Figure size 864x576 with 1 Axes>"
      ]
     },
     "metadata": {},
     "output_type": "display_data"
    }
   ],
   "source": [
    "print(minima_indices)\n",
    "print(dmi_minima)\n",
    "print(r'The time delay should be T= %.0f'%minima_indices[0])\n",
    "\n",
    "\n",
    "fig, ax = plt.subplots(figsize=(12,8), facecolor='w')\n",
    "\n",
    "# plt.figure(figsize=(24, 8))\n",
    "ax.scatter(T, DMI, label='Delayed Mutual Information')\n",
    "ax.scatter(minima_indices, dmi_minima, label='DMI minima')\n",
    "ax.set_xlabel(r\"$\\tau$\", fontsize=14)\n",
    "ax.set_ylabel(\"Delayed Mutual Information\")\n",
    "plt.legend()\n",
    "# plt.rcParams['text.usetex'] = True\n",
    "# plt.xticks(T[:20])\n",
    "plt.show()"
   ]
  },
  {
   "cell_type": "markdown",
   "id": "5004891c",
   "metadata": {},
   "source": [
    "### Calculate the Embedding Dimension with False Nearest Neighbors"
   ]
  },
  {
   "cell_type": "code",
   "execution_count": 19,
   "id": "dfe11841",
   "metadata": {},
   "outputs": [
    {
     "name": "stdout",
     "output_type": "stream",
     "text": [
      "tau = 30\n"
     ]
    }
   ],
   "source": [
    "tau = min(minima_indices)\n",
    "# tau = minima_indices[0]\n",
    "dimensions = list(np.arange(1,12,1))\n",
    "\n",
    "print(f\"tau = {tau}\")"
   ]
  },
  {
   "cell_type": "code",
   "execution_count": 20,
   "id": "b0153760",
   "metadata": {},
   "outputs": [],
   "source": [
    "# a,b,c = fnn(hh_data.iloc[:,0].values, dim=dimensions, tau=tau, maxnum=1000, parallel=True)\n",
    "a,b,c = fnn(np.sin(np.arange(8760)), dim=dimensions, tau=tau, maxnum=1000, parallel=True)"
   ]
  },
  {
   "cell_type": "code",
   "execution_count": 21,
   "id": "38b9aac9",
   "metadata": {},
   "outputs": [
    {
     "data": {
      "text/plain": [
       "<matplotlib.legend.Legend at 0x1a72c92bc10>"
      ]
     },
     "execution_count": 21,
     "metadata": {},
     "output_type": "execute_result"
    },
    {
     "data": {
      "image/png": "[encoded data removed]",
      "text/plain": [
       "<Figure size 576x360 with 1 Axes>"
      ]
     },
     "metadata": {},
     "output_type": "display_data"
    }
   ],
   "source": [
    "fig, ax = plt.subplots(figsize=(8,5),facecolor='w')\n",
    "ax.scatter(dimensions, a, label='test 1')\n",
    "ax.scatter(dimensions, b, label='test 2')\n",
    "ax.scatter(dimensions, c, label='test 3')\n",
    "ax.set_xlabel(\"Embedding Dimension\")\n",
    "ax.set_ylabel(\"Fraction of False Nearest Neighbors\")\n",
    "plt.legend()"
   ]
  },
  {
   "cell_type": "code",
   "execution_count": 22,
   "id": "1c87f84b",
   "metadata": {},
   "outputs": [],
   "source": [
    "m = 3"
   ]
  },
  {
   "cell_type": "code",
   "execution_count": 23,
   "id": "5873e29d",
   "metadata": {},
   "outputs": [
    {
     "data": {
      "text/plain": [
       "0.8070035965670026"
      ]
     },
     "execution_count": 23,
     "metadata": {},
     "output_type": "execute_result"
    }
   ],
   "source": [
    "# wp_entropy = ent.weighted_permutation_entropy(time_series=hh_data.iloc[:,0].values, \n",
    "#                                               order=m, \n",
    "#                                               delay=tau,\n",
    "#                                               normalize=True)\n",
    "wp_entropy = ent.weighted_permutation_entropy(time_series=np.sin(np.arange(8760)), \n",
    "                                              order=m, \n",
    "                                              delay=tau,\n",
    "                                              normalize=True)\n",
    "wp_entropy"
   ]
  },
  {
   "cell_type": "code",
   "execution_count": 16,
   "id": "1d2195c4",
   "metadata": {},
   "outputs": [],
   "source": [
    "hh_embed = ent._embed(hh_data.iloc[:,0].values,\n",
    "                     order=m,\n",
    "                     delay=tau)"
   ]
  },
  {
   "cell_type": "code",
   "execution_count": null,
   "id": "a816a69d",
   "metadata": {},
   "outputs": [],
   "source": [
    "for a in range(m):\n",
    "    if a+2 < m:\n",
    "        fig = plt.figure(figsize=(6,5))\n",
    "        ax = fig.add_subplot(111, projection='3d')\n",
    "        ax.scatter(hh_embed.T[a,:], hh_embed.T[a+1,:], hh_embed.T[a+2,:], s=0.1)\n",
    "        plt.show()\n",
    "    else:\n",
    "        continue"
   ]
  },
  {
   "cell_type": "code",
   "execution_count": null,
   "id": "663b2ee6",
   "metadata": {},
   "outputs": [],
   "source": []
  },
  {
   "cell_type": "code",
   "execution_count": null,
   "id": "bfc0ccf8",
   "metadata": {},
   "outputs": [],
   "source": []
  }
 ],
 "metadata": {
  "kernelspec": {
   "display_name": "Python 3 (ipykernel)",
   "language": "python",
   "name": "python3"
  },
  "language_info": {
   "codemirror_mode": {
    "name": "ipython",
    "version": 3
   },
   "file_extension": ".py",
   "mimetype": "text/x-python",
   "name": "python",
   "nbconvert_exporter": "python",
   "pygments_lexer": "ipython3",
   "version": "3.9.12"
  }
 },
 "nbformat": 4,
 "nbformat_minor": 5
}
