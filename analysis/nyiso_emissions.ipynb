{
 "cells": [
  {
   "cell_type": "code",
   "execution_count": 1,
   "metadata": {},
   "outputs": [],
   "source": [
    "import glob\n",
    "import pandas as pd\n",
    "import numpy as np\n",
    "import matplotlib.pyplot as plt\n",
    "import seaborn as sb\n",
    "import warnings\n",
    "import calendar\n",
    "warnings.filterwarnings('ignore')"
   ]
  },
  {
   "cell_type": "code",
   "execution_count": 2,
   "metadata": {},
   "outputs": [],
   "source": [
    "months = list(calendar.month_name)[1:]"
   ]
  },
  {
   "cell_type": "code",
   "execution_count": 3,
   "metadata": {},
   "outputs": [
    {
     "name": "stdout",
     "output_type": "stream",
     "text": [
      "2018 ../../data_misc/eia_form923/f923_2012/EIA923_Schedules_2_3_4_5_M_12_2012_Final_Revision.xlsx\n",
      "2019 ../../data_misc/eia_form923/f923_2013/EIA923_Schedules_2_3_4_5_2013_Final_Revision.xlsx\n",
      "2020 ../../data_misc/eia_form923/f923_2014/EIA923_Schedules_2_3_4_5_M_12_2014_Final_Revision.xlsx\n",
      "2021 ../../data_misc/eia_form923/f923_2015/EIA923_Schedules_2_3_4_5_M_12_2015_Final_Revision.xlsx\n"
     ]
    }
   ],
   "source": [
    "path = '../../data_misc/eia_form923/**/EIA923_Schedules_2_3_4_5_M_12_*_Final_Revision.xlsx'\n",
    "files = glob.glob(path)\n",
    "files.append('../../data_misc/eia_form923/f923_2013/EIA923_Schedules_2_3_4_5_2013_Final_Revision.xlsx')\n",
    "files.append('../../data_misc/eia_form923/f923_2021/EIA923_Schedules_2_3_4_5_M_12_2021_Final.xlsx')\n",
    "\n",
    "years = np.arange(2018,2022,1).astype('int')\n",
    "files.sort()\n",
    "for x, y in zip(years, files):\n",
    "    print(x,y)"
   ]
  },
  {
   "cell_type": "code",
   "execution_count": 4,
   "metadata": {},
   "outputs": [
    {
     "data": {
      "text/plain": [
       "['../../data_misc/eia_form923/f923_2018/EIA923_Schedules_2_3_4_5_M_12_2018_Final_Revision.xlsx',\n",
       " '../../data_misc/eia_form923/f923_2019/EIA923_Schedules_2_3_4_5_M_12_2019_Final_Revision.xlsx',\n",
       " '../../data_misc/eia_form923/f923_2020/EIA923_Schedules_2_3_4_5_M_12_2020_Final_Revision.xlsx',\n",
       " '../../data_misc/eia_form923/f923_2021/EIA923_Schedules_2_3_4_5_M_12_2021_Final.xlsx']"
      ]
     },
     "execution_count": 4,
     "metadata": {},
     "output_type": "execute_result"
    }
   ],
   "source": [
    "files[-4:]"
   ]
  },
  {
   "cell_type": "code",
   "execution_count": 5,
   "metadata": {},
   "outputs": [
    {
     "name": "stdout",
     "output_type": "stream",
     "text": [
      "2018 ../../data_misc/eia_data/emissions2018.xlsx\n",
      "2019 ../../data_misc/eia_data/emissions2019.xlsx\n",
      "2020 ../../data_misc/eia_data/emissions2020.xlsx\n",
      "2021 ../../data_misc/eia_data/emissions2021.xlsx\n"
     ]
    }
   ],
   "source": [
    "path = '../../data_misc/eia_data/emissions20*.xlsx'\n",
    "efiles = glob.glob(path)\n",
    "\n",
    "efiles.sort()\n",
    "for x, y in zip(years, efiles):\n",
    "    print(x,y)"
   ]
  },
  {
   "cell_type": "markdown",
   "metadata": {},
   "source": [
    "# Get the generation data from EIA Form 923 for each emitting plant in NY"
   ]
  },
  {
   "cell_type": "code",
   "execution_count": 6,
   "metadata": {},
   "outputs": [],
   "source": [
    "zero_emission_codes = [\"SUN\",\"GEO\",\"OTH\",\"HPS\",\"HYC\",\"NUC\",\"ORW\",\"WND\"]"
   ]
  },
  {
   "cell_type": "code",
   "execution_count": 7,
   "metadata": {},
   "outputs": [],
   "source": [
    "f = files[-1]\n",
    "df = pd.read_excel(f,skiprows=5, na_values='.',\n",
    "                   usecols=[0,3,6,14,15]+list(np.arange(79,91,1).astype('int')))"
   ]
  },
  {
   "cell_type": "code",
   "execution_count": 43,
   "metadata": {},
   "outputs": [],
   "source": [
    "final_df = pd.DataFrame({'Month':months})\n",
    "co2_rate = {}"
   ]
  },
  {
   "cell_type": "code",
   "execution_count": 47,
   "metadata": {},
   "outputs": [
    {
     "name": "stdout",
     "output_type": "stream",
     "text": [
      "0 ../../data_misc/eia_form923/f923_2018/EIA923_Schedules_2_3_4_5_M_12_2018_Final_Revision.xlsx ../../data_misc/eia_data/emissions2018.xlsx\n",
      "1 ../../data_misc/eia_form923/f923_2019/EIA923_Schedules_2_3_4_5_M_12_2019_Final_Revision.xlsx ../../data_misc/eia_data/emissions2019.xlsx\n",
      "2 ../../data_misc/eia_form923/f923_2020/EIA923_Schedules_2_3_4_5_M_12_2020_Final_Revision.xlsx ../../data_misc/eia_data/emissions2020.xlsx\n",
      "3 ../../data_misc/eia_form923/f923_2021/EIA923_Schedules_2_3_4_5_M_12_2021_Final.xlsx ../../data_misc/eia_data/emissions2021.xlsx\n"
     ]
    }
   ],
   "source": [
    "for k,(i, j) in enumerate(zip(files[-4:], efiles)):\n",
    "    print(k, i, j)\n",
    "    f = files[-1]\n",
    "    df = pd.read_excel(i,skiprows=5, na_values='.',\n",
    "                       usecols=[0,3,6,14,15]+list(np.arange(79,91,1).astype('int')))\n",
    "    df_ny = df[(df['Plant State']=='NY')&(df['Plant Id'] < 99999)&(~df['AER\\nFuel Type Code'].isin(zero_emission_codes))]\n",
    "    df_ny.groupby('Plant Name').sum().iloc[:,1:15].sum(axis=1)*1000\n",
    "\n",
    "    # READ emissions data\n",
    "    edf = pd.read_excel(j, skiprows=1)\n",
    "    edf = edf[edf['Plant Code'].isin(df_ny['Plant Id'].values)].groupby('Plant Name').sum()[['Generation (kWh)',\n",
    "                                                                                             'Metric Tonnes of CO2 Emissions']]\n",
    "    edf['CO2 Rate (Tonne/kWh)'] = edf.iloc[:,1]/edf.iloc[:,0]\n",
    "\n",
    "    df_ny_gen = df_ny[df_ny['Plant Name'].isin(edf.index.values)].groupby('Plant Name').sum().iloc[:,1:]\n",
    "    edf_match = edf[(edf.index.isin(df_ny_gen.index.values))&(edf['Generation (kWh)']>0)]\n",
    "    edf_match['CO2 Rate (Tonne/MWh)'] = edf_match['CO2 Rate (Tonne/kWh)']*1e3\n",
    "\n",
    "    co2 = df_ny_gen.multiply(edf_match['CO2 Rate (Tonne/MWh)'],axis=0).sum(axis=0).values\n",
    "    y = 2018+k\n",
    "    final_df[f'{y}'] = co2\n",
    "    co2_rate[f'{y}'] = edf_match['CO2 Rate (Tonne/MWh)'].sum()"
   ]
  },
  {
   "cell_type": "code",
   "execution_count": 48,
   "metadata": {},
   "outputs": [],
   "source": [
    "final_df.set_index('Month',inplace=True)"
   ]
  },
  {
   "cell_type": "code",
   "execution_count": 49,
   "metadata": {},
   "outputs": [
    {
     "data": {
      "text/html": [
       "<div>\n",
       "<style scoped>\n",
       "    .dataframe tbody tr th:only-of-type {\n",
       "        vertical-align: middle;\n",
       "    }\n",
       "\n",
       "    .dataframe tbody tr th {\n",
       "        vertical-align: top;\n",
       "    }\n",
       "\n",
       "    .dataframe thead th {\n",
       "        text-align: right;\n",
       "    }\n",
       "</style>\n",
       "<table border=\"1\" class=\"dataframe\">\n",
       "  <thead>\n",
       "    <tr style=\"text-align: right;\">\n",
       "      <th></th>\n",
       "      <th>2021</th>\n",
       "      <th>2018</th>\n",
       "      <th>2019</th>\n",
       "      <th>2020</th>\n",
       "    </tr>\n",
       "    <tr>\n",
       "      <th>Month</th>\n",
       "      <th></th>\n",
       "      <th></th>\n",
       "      <th></th>\n",
       "      <th></th>\n",
       "    </tr>\n",
       "  </thead>\n",
       "  <tbody>\n",
       "    <tr>\n",
       "      <th>January</th>\n",
       "      <td>2.209024e+06</td>\n",
       "      <td>2.826108e+06</td>\n",
       "      <td>2.322773e+06</td>\n",
       "      <td>1.996027e+06</td>\n",
       "    </tr>\n",
       "    <tr>\n",
       "      <th>February</th>\n",
       "      <td>1.885290e+06</td>\n",
       "      <td>1.556969e+06</td>\n",
       "      <td>1.862208e+06</td>\n",
       "      <td>1.874304e+06</td>\n",
       "    </tr>\n",
       "    <tr>\n",
       "      <th>March</th>\n",
       "      <td>1.708783e+06</td>\n",
       "      <td>1.814657e+06</td>\n",
       "      <td>1.802658e+06</td>\n",
       "      <td>1.920999e+06</td>\n",
       "    </tr>\n",
       "    <tr>\n",
       "      <th>April</th>\n",
       "      <td>1.385598e+06</td>\n",
       "      <td>1.710736e+06</td>\n",
       "      <td>1.476082e+06</td>\n",
       "      <td>1.369798e+06</td>\n",
       "    </tr>\n",
       "    <tr>\n",
       "      <th>May</th>\n",
       "      <td>1.831803e+06</td>\n",
       "      <td>1.947297e+06</td>\n",
       "      <td>1.453577e+06</td>\n",
       "      <td>1.505068e+06</td>\n",
       "    </tr>\n",
       "    <tr>\n",
       "      <th>June</th>\n",
       "      <td>2.691186e+06</td>\n",
       "      <td>2.284630e+06</td>\n",
       "      <td>1.954267e+06</td>\n",
       "      <td>2.419796e+06</td>\n",
       "    </tr>\n",
       "    <tr>\n",
       "      <th>July</th>\n",
       "      <td>2.975032e+06</td>\n",
       "      <td>3.390081e+06</td>\n",
       "      <td>3.405657e+06</td>\n",
       "      <td>3.686715e+06</td>\n",
       "    </tr>\n",
       "    <tr>\n",
       "      <th>August</th>\n",
       "      <td>3.302219e+06</td>\n",
       "      <td>3.528874e+06</td>\n",
       "      <td>2.884714e+06</td>\n",
       "      <td>3.241764e+06</td>\n",
       "    </tr>\n",
       "    <tr>\n",
       "      <th>September</th>\n",
       "      <td>2.175396e+06</td>\n",
       "      <td>2.634774e+06</td>\n",
       "      <td>1.996884e+06</td>\n",
       "      <td>2.414002e+06</td>\n",
       "    </tr>\n",
       "    <tr>\n",
       "      <th>October</th>\n",
       "      <td>2.052661e+06</td>\n",
       "      <td>2.186042e+06</td>\n",
       "      <td>1.656454e+06</td>\n",
       "      <td>1.945268e+06</td>\n",
       "    </tr>\n",
       "    <tr>\n",
       "      <th>November</th>\n",
       "      <td>1.964147e+06</td>\n",
       "      <td>1.921790e+06</td>\n",
       "      <td>1.785127e+06</td>\n",
       "      <td>1.984749e+06</td>\n",
       "    </tr>\n",
       "    <tr>\n",
       "      <th>December</th>\n",
       "      <td>2.092702e+06</td>\n",
       "      <td>2.004078e+06</td>\n",
       "      <td>1.994223e+06</td>\n",
       "      <td>2.181416e+06</td>\n",
       "    </tr>\n",
       "  </tbody>\n",
       "</table>\n",
       "</div>"
      ],
      "text/plain": [
       "                   2021          2018          2019          2020\n",
       "Month                                                            \n",
       "January    2.209024e+06  2.826108e+06  2.322773e+06  1.996027e+06\n",
       "February   1.885290e+06  1.556969e+06  1.862208e+06  1.874304e+06\n",
       "March      1.708783e+06  1.814657e+06  1.802658e+06  1.920999e+06\n",
       "April      1.385598e+06  1.710736e+06  1.476082e+06  1.369798e+06\n",
       "May        1.831803e+06  1.947297e+06  1.453577e+06  1.505068e+06\n",
       "June       2.691186e+06  2.284630e+06  1.954267e+06  2.419796e+06\n",
       "July       2.975032e+06  3.390081e+06  3.405657e+06  3.686715e+06\n",
       "August     3.302219e+06  3.528874e+06  2.884714e+06  3.241764e+06\n",
       "September  2.175396e+06  2.634774e+06  1.996884e+06  2.414002e+06\n",
       "October    2.052661e+06  2.186042e+06  1.656454e+06  1.945268e+06\n",
       "November   1.964147e+06  1.921790e+06  1.785127e+06  1.984749e+06\n",
       "December   2.092702e+06  2.004078e+06  1.994223e+06  2.181416e+06"
      ]
     },
     "execution_count": 49,
     "metadata": {},
     "output_type": "execute_result"
    }
   ],
   "source": [
    "final_df"
   ]
  },
  {
   "cell_type": "code",
   "execution_count": 51,
   "metadata": {},
   "outputs": [
    {
     "data": {
      "text/plain": [
       "<matplotlib.legend.Legend at 0x7f987bb35250>"
      ]
     },
     "execution_count": 51,
     "metadata": {},
     "output_type": "execute_result"
    },
    {
     "data": {
      "image/png": "[encoded data removed]",
      "text/plain": [
       "<Figure size 576x360 with 2 Axes>"
      ]
     },
     "metadata": {
      "needs_background": "light"
     },
     "output_type": "display_data"
    }
   ],
   "source": [
    "fig, ax = plt.subplots(figsize=(8,5))\n",
    "ax2 = ax.twinx()\n",
    "final_df.plot(ax=ax)\n",
    "colors={2018:'tab:blue',2019:'tab:orange',2020:'tab:green',2021:'tab:red',}\n",
    "# for y,v in final_df.mean(axis=0).items():\n",
    "for y,v in co2_rate.items():\n",
    "    ax2.axhline(y=v, label=f'{y}', linestyle='--', color=colors[int(y)])\n",
    "ax.legend()\n",
    "ax2.legend()"
   ]
  },
  {
   "cell_type": "code",
   "execution_count": null,
   "metadata": {},
   "outputs": [],
   "source": []
  }
 ],
 "metadata": {
  "kernelspec": {
   "display_name": "Python 3 (ipykernel)",
   "language": "python",
   "name": "python3"
  },
  "language_info": {
   "codemirror_mode": {
    "name": "ipython",
    "version": 3
   },
   "file_extension": ".py",
   "mimetype": "text/x-python",
   "name": "python",
   "nbconvert_exporter": "python",
   "pygments_lexer": "ipython3",
   "version": "3.9.12"
  }
 },
 "nbformat": 4,
 "nbformat_minor": 4
}
